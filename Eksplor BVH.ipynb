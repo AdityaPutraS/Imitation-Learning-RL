{
 "metadata": {
  "language_info": {
   "codemirror_mode": {
    "name": "ipython",
    "version": 3
   },
   "file_extension": ".py",
   "mimetype": "text/x-python",
   "name": "python",
   "nbconvert_exporter": "python",
   "pygments_lexer": "ipython3",
   "version": "3.8.3-final"
  },
  "orig_nbformat": 2,
  "kernelspec": {
   "name": "python3",
   "display_name": "Python 3.8.3 64-bit ('base': conda)",
   "metadata": {
    "interpreter": {
     "hash": "b831a290663060d6bbcd08c7adbf35f3f8975b354fb04e6990e28cd1cdf56c03"
    }
   }
  }
 },
 "nbformat": 4,
 "nbformat_minor": 2,
 "cells": [
  {
   "cell_type": "code",
   "execution_count": 28,
   "metadata": {},
   "outputs": [],
   "source": [
    "from pymo.parsers import BVHParser\n",
    "from pymo.viz_tools import *\n",
    "from pymo.preprocessing import *\n",
    "from sklearn.pipeline import Pipeline\n",
    "import matplotlib.pyplot as plt\n",
    "import pandas as pd"
   ]
  },
  {
   "cell_type": "code",
   "execution_count": 2,
   "metadata": {},
   "outputs": [],
   "source": [
    "parser = BVHParser()\n",
    "\n",
    "parsed_data = parser.parse('Dataset/CMU_Mocap_BVH/08/08_01.bvh')"
   ]
  },
  {
   "cell_type": "code",
   "execution_count": 5,
   "metadata": {},
   "outputs": [
    {
     "output_type": "stream",
     "name": "stdout",
     "text": [
      "- Hips (None)\n| | - LowerBack (Hips)\n| | - Spine (LowerBack)\n| | - Spine1 (Spine)\n| | | | - RightShoulder (Spine1)\n| | | | - RightArm (RightShoulder)\n| | | | - RightForeArm (RightArm)\n| | | | - RightHand (RightForeArm)\n| | | | | - RThumb (RightHand)\n| | | | | - RThumb_Nub (RThumb)\n| | | | - RightFingerBase (RightHand)\n| | | | - RightHandIndex1 (RightFingerBase)\n| | | | - RightHandIndex1_Nub (RightHandIndex1)\n| | | - LeftShoulder (Spine1)\n| | | - LeftArm (LeftShoulder)\n| | | - LeftForeArm (LeftArm)\n| | | - LeftHand (LeftForeArm)\n| | | | - LThumb (LeftHand)\n| | | | - LThumb_Nub (LThumb)\n| | | - LeftFingerBase (LeftHand)\n| | | - LeftHandIndex1 (LeftFingerBase)\n| | | - LeftHandIndex1_Nub (LeftHandIndex1)\n| | - Neck (Spine1)\n| | - Neck1 (Neck)\n| | - Head (Neck1)\n| | - Head_Nub (Head)\n| - RHipJoint (Hips)\n| - RightUpLeg (RHipJoint)\n| - RightLeg (RightUpLeg)\n| - RightFoot (RightLeg)\n| - RightToeBase (RightFoot)\n| - RightToeBase_Nub (RightToeBase)\n- LHipJoint (Hips)\n- LeftUpLeg (LHipJoint)\n- LeftLeg (LeftUpLeg)\n- LeftFoot (LeftLeg)\n- LeftToeBase (LeftFoot)\n- LeftToeBase_Nub (LeftToeBase)\n"
     ]
    }
   ],
   "source": [
    "print_skel(parsed_data)"
   ]
  },
  {
   "cell_type": "code",
   "execution_count": 7,
   "metadata": {},
   "outputs": [],
   "source": [
    "data_pipe = Pipeline([\n",
    "    ('param', MocapParameterizer('position')),\n",
    "    ('rcpn', RootCentricPositionNormalizer()),\n",
    "    ('delta', RootTransformer('abdolute_translation_deltas')),\n",
    "    ('const', ConstantsRemover()),\n",
    "    ('np', Numpyfier()),\n",
    "    ('down', DownSampler(2)),\n",
    "    ('stdscale', ListStandardScaler())\n",
    "])\n"
   ]
  },
  {
   "cell_type": "code",
   "execution_count": 8,
   "metadata": {},
   "outputs": [],
   "source": [
    "piped_data = data_pipe.fit_transform([parsed_data])"
   ]
  },
  {
   "cell_type": "code",
   "execution_count": 10,
   "metadata": {},
   "outputs": [
    {
     "output_type": "execute_result",
     "data": {
      "text/plain": [
       "(1, 139, 108)"
      ]
     },
     "metadata": {},
     "execution_count": 10
    }
   ],
   "source": [
    "piped_data.shape"
   ]
  },
  {
   "cell_type": "code",
   "execution_count": 29,
   "metadata": {},
   "outputs": [],
   "source": [
    "mp = MocapParameterizer('position')\n",
    "pos = mp.fit_transform([parsed_data])[0]"
   ]
  },
  {
   "cell_type": "code",
   "execution_count": 33,
   "metadata": {},
   "outputs": [
    {
     "output_type": "execute_result",
     "data": {
      "text/plain": [
       "[('Hips', 'Xposition'),\n",
       " ('Hips', 'Yposition'),\n",
       " ('Hips', 'Zposition'),\n",
       " ('Hips', 'Zrotation'),\n",
       " ('Hips', 'Yrotation'),\n",
       " ('Hips', 'Xrotation'),\n",
       " ('LHipJoint', 'Zrotation'),\n",
       " ('LHipJoint', 'Yrotation'),\n",
       " ('LHipJoint', 'Xrotation'),\n",
       " ('LeftUpLeg', 'Zrotation'),\n",
       " ('LeftUpLeg', 'Yrotation'),\n",
       " ('LeftUpLeg', 'Xrotation'),\n",
       " ('LeftLeg', 'Zrotation'),\n",
       " ('LeftLeg', 'Yrotation'),\n",
       " ('LeftLeg', 'Xrotation'),\n",
       " ('LeftFoot', 'Zrotation'),\n",
       " ('LeftFoot', 'Yrotation'),\n",
       " ('LeftFoot', 'Xrotation'),\n",
       " ('LeftToeBase', 'Zrotation'),\n",
       " ('LeftToeBase', 'Yrotation'),\n",
       " ('LeftToeBase', 'Xrotation'),\n",
       " ('RHipJoint', 'Zrotation'),\n",
       " ('RHipJoint', 'Yrotation'),\n",
       " ('RHipJoint', 'Xrotation'),\n",
       " ('RightUpLeg', 'Zrotation'),\n",
       " ('RightUpLeg', 'Yrotation'),\n",
       " ('RightUpLeg', 'Xrotation'),\n",
       " ('RightLeg', 'Zrotation'),\n",
       " ('RightLeg', 'Yrotation'),\n",
       " ('RightLeg', 'Xrotation'),\n",
       " ('RightFoot', 'Zrotation'),\n",
       " ('RightFoot', 'Yrotation'),\n",
       " ('RightFoot', 'Xrotation'),\n",
       " ('RightToeBase', 'Zrotation'),\n",
       " ('RightToeBase', 'Yrotation'),\n",
       " ('RightToeBase', 'Xrotation'),\n",
       " ('LowerBack', 'Zrotation'),\n",
       " ('LowerBack', 'Yrotation'),\n",
       " ('LowerBack', 'Xrotation'),\n",
       " ('Spine', 'Zrotation'),\n",
       " ('Spine', 'Yrotation'),\n",
       " ('Spine', 'Xrotation'),\n",
       " ('Spine1', 'Zrotation'),\n",
       " ('Spine1', 'Yrotation'),\n",
       " ('Spine1', 'Xrotation'),\n",
       " ('Neck', 'Zrotation'),\n",
       " ('Neck', 'Yrotation'),\n",
       " ('Neck', 'Xrotation'),\n",
       " ('Neck1', 'Zrotation'),\n",
       " ('Neck1', 'Yrotation'),\n",
       " ('Neck1', 'Xrotation'),\n",
       " ('Head', 'Zrotation'),\n",
       " ('Head', 'Yrotation'),\n",
       " ('Head', 'Xrotation'),\n",
       " ('LeftShoulder', 'Zrotation'),\n",
       " ('LeftShoulder', 'Yrotation'),\n",
       " ('LeftShoulder', 'Xrotation'),\n",
       " ('LeftArm', 'Zrotation'),\n",
       " ('LeftArm', 'Yrotation'),\n",
       " ('LeftArm', 'Xrotation'),\n",
       " ('LeftForeArm', 'Zrotation'),\n",
       " ('LeftForeArm', 'Yrotation'),\n",
       " ('LeftForeArm', 'Xrotation'),\n",
       " ('LeftHand', 'Zrotation'),\n",
       " ('LeftHand', 'Yrotation'),\n",
       " ('LeftHand', 'Xrotation'),\n",
       " ('LeftFingerBase', 'Zrotation'),\n",
       " ('LeftFingerBase', 'Yrotation'),\n",
       " ('LeftFingerBase', 'Xrotation'),\n",
       " ('LeftHandIndex1', 'Zrotation'),\n",
       " ('LeftHandIndex1', 'Yrotation'),\n",
       " ('LeftHandIndex1', 'Xrotation'),\n",
       " ('LThumb', 'Zrotation'),\n",
       " ('LThumb', 'Yrotation'),\n",
       " ('LThumb', 'Xrotation'),\n",
       " ('RightShoulder', 'Zrotation'),\n",
       " ('RightShoulder', 'Yrotation'),\n",
       " ('RightShoulder', 'Xrotation'),\n",
       " ('RightArm', 'Zrotation'),\n",
       " ('RightArm', 'Yrotation'),\n",
       " ('RightArm', 'Xrotation'),\n",
       " ('RightForeArm', 'Zrotation'),\n",
       " ('RightForeArm', 'Yrotation'),\n",
       " ('RightForeArm', 'Xrotation'),\n",
       " ('RightHand', 'Zrotation'),\n",
       " ('RightHand', 'Yrotation'),\n",
       " ('RightHand', 'Xrotation'),\n",
       " ('RightFingerBase', 'Zrotation'),\n",
       " ('RightFingerBase', 'Yrotation'),\n",
       " ('RightFingerBase', 'Xrotation'),\n",
       " ('RightHandIndex1', 'Zrotation'),\n",
       " ('RightHandIndex1', 'Yrotation'),\n",
       " ('RightHandIndex1', 'Xrotation'),\n",
       " ('RThumb', 'Zrotation'),\n",
       " ('RThumb', 'Yrotation'),\n",
       " ('RThumb', 'Xrotation')]"
      ]
     },
     "metadata": {},
     "execution_count": 33
    }
   ],
   "source": [
    "pos.channel_names"
   ]
  },
  {
   "cell_type": "code",
   "execution_count": 38,
   "metadata": {},
   "outputs": [
    {
     "output_type": "execute_result",
     "data": {
      "text/plain": [
       "                           Hips_Xposition  Hips_Yposition  Hips_Zposition  \\\n",
       "0 days 00:00:00                    7.1998         15.3951        -37.2754   \n",
       "0 days 00:00:00.008333300          7.1998         15.3951        -37.2754   \n",
       "0 days 00:00:00.016666600          7.1954         15.3894        -37.0435   \n",
       "0 days 00:00:00.024999900          7.1905         15.3745        -36.8040   \n",
       "0 days 00:00:00.033333200          7.1935         15.3672        -36.5645   \n",
       "...                                   ...             ...             ...   \n",
       "0 days 00:00:02.274990900          7.2256         16.1408         26.9953   \n",
       "0 days 00:00:02.283324200          7.2354         16.1494         27.2323   \n",
       "0 days 00:00:02.291657500          7.2360         16.1650         27.4599   \n",
       "0 days 00:00:02.299990800          7.2319         16.1959         27.6841   \n",
       "0 days 00:00:02.308324100          7.2194         16.2385         27.9053   \n",
       "\n",
       "                           LowerBack_Xposition  LowerBack_Yposition  \\\n",
       "0 days 00:00:00                         7.1998              15.3951   \n",
       "0 days 00:00:00.008333300               7.1998              15.3951   \n",
       "0 days 00:00:00.016666600               7.1954              15.3894   \n",
       "0 days 00:00:00.024999900               7.1905              15.3745   \n",
       "0 days 00:00:00.033333200               7.1935              15.3672   \n",
       "...                                        ...                  ...   \n",
       "0 days 00:00:02.274990900               7.2256              16.1408   \n",
       "0 days 00:00:02.283324200               7.2354              16.1494   \n",
       "0 days 00:00:02.291657500               7.2360              16.1650   \n",
       "0 days 00:00:02.299990800               7.2319              16.1959   \n",
       "0 days 00:00:02.308324100               7.2194              16.2385   \n",
       "\n",
       "                           LowerBack_Zposition  Spine_Xposition  \\\n",
       "0 days 00:00:00                       -37.2754         7.209830   \n",
       "0 days 00:00:00.008333300             -37.2754         7.241606   \n",
       "0 days 00:00:00.016666600             -37.0435         7.250246   \n",
       "0 days 00:00:00.024999900             -36.8040         7.255434   \n",
       "0 days 00:00:00.033333200             -36.5645         7.264889   \n",
       "...                                        ...              ...   \n",
       "0 days 00:00:02.274990900              26.9953         7.191831   \n",
       "0 days 00:00:02.283324200              27.2323         7.197743   \n",
       "0 days 00:00:02.291657500              27.4599         7.185947   \n",
       "0 days 00:00:02.299990800              27.6841         7.187086   \n",
       "0 days 00:00:02.308324100              27.9053         7.176884   \n",
       "\n",
       "                           Spine_Yposition  Spine_Zposition  Spine1_Xposition  \\\n",
       "0 days 00:00:00                  17.400860       -37.418070          7.218910   \n",
       "0 days 00:00:00.008333300        17.400484       -37.133219          7.274167   \n",
       "0 days 00:00:00.016666600        17.394608       -36.903279          7.298927   \n",
       "0 days 00:00:00.024999900        17.379674       -36.667660          7.317149   \n",
       "0 days 00:00:00.033333200        17.372640       -36.435493          7.330707   \n",
       "...                                    ...              ...               ...   \n",
       "0 days 00:00:02.274990900        18.149988        27.069811          7.084194   \n",
       "0 days 00:00:02.283324200        18.158559        27.305715          7.074245   \n",
       "0 days 00:00:02.291657500        18.174995        27.429177          7.049802   \n",
       "0 days 00:00:02.299990800        18.205949        27.719058          7.048889   \n",
       "0 days 00:00:02.308324100        18.247465        27.981337          7.039144   \n",
       "\n",
       "                           ...  LeftLeg_Zposition  LeftFoot_Xposition  \\\n",
       "0 days 00:00:00            ...         -36.399380            8.662147   \n",
       "0 days 00:00:00.008333300  ...         -35.951809            7.915722   \n",
       "0 days 00:00:00.016666600  ...         -35.919873            7.922986   \n",
       "0 days 00:00:00.024999900  ...         -35.883560            7.940175   \n",
       "0 days 00:00:00.033333200  ...         -35.836634            7.959456   \n",
       "...                        ...                ...                 ...   \n",
       "0 days 00:00:02.274990900  ...          25.706442            8.167404   \n",
       "0 days 00:00:02.283324200  ...          26.158171            8.213478   \n",
       "0 days 00:00:02.291657500  ...          26.592371            8.264271   \n",
       "0 days 00:00:02.299990800  ...          27.017796            8.295847   \n",
       "0 days 00:00:02.308324100  ...          27.464825            8.309123   \n",
       "\n",
       "                           LeftFoot_Yposition  LeftFoot_Zposition  \\\n",
       "0 days 00:00:00                     -0.185983          -36.399380   \n",
       "0 days 00:00:00.008333300            0.608913          -39.139306   \n",
       "0 days 00:00:00.016666600            0.628395          -39.130001   \n",
       "0 days 00:00:00.024999900            0.638956          -39.123536   \n",
       "0 days 00:00:00.033333200            0.651586          -39.117457   \n",
       "...                                       ...                 ...   \n",
       "0 days 00:00:02.274990900            3.260247           20.336059   \n",
       "0 days 00:00:02.283324200            3.388311           20.626627   \n",
       "0 days 00:00:02.291657500            3.514026           20.919426   \n",
       "0 days 00:00:02.299990800            3.652337           21.223626   \n",
       "0 days 00:00:02.308324100            3.800313           21.559068   \n",
       "\n",
       "                           LeftToeBase_Xposition  LeftToeBase_Yposition  \\\n",
       "0 days 00:00:00                         8.655494              -0.566878   \n",
       "0 days 00:00:00.008333300               7.648375              -0.005262   \n",
       "0 days 00:00:00.016666600               7.617998              -0.008251   \n",
       "0 days 00:00:00.024999900               7.696464               0.002640   \n",
       "0 days 00:00:00.033333200               7.713964               0.001262   \n",
       "...                                          ...                    ...   \n",
       "0 days 00:00:02.274990900               8.150685               1.357677   \n",
       "0 days 00:00:02.283324200               8.229184               1.441191   \n",
       "0 days 00:00:02.291657500               8.320775               1.536207   \n",
       "0 days 00:00:02.299990800               8.400185               1.657992   \n",
       "0 days 00:00:02.308324100               8.463756               1.801027   \n",
       "\n",
       "                           LeftToeBase_Zposition  LeftToeBase_Nub_Xposition  \\\n",
       "0 days 00:00:00                       -34.429580                   8.655494   \n",
       "0 days 00:00:00.008333300             -37.248129                   7.512256   \n",
       "0 days 00:00:00.016666600             -37.251996                   7.454602   \n",
       "0 days 00:00:00.024999900             -37.236490                   7.590921   \n",
       "0 days 00:00:00.033333200             -37.235424                   7.614706   \n",
       "...                                          ...                        ...   \n",
       "0 days 00:00:02.274990900              20.972600                   8.137880   \n",
       "0 days 00:00:02.283324200              21.110068                   8.234341   \n",
       "0 days 00:00:02.291657500              21.251508                   8.349773   \n",
       "0 days 00:00:02.299990800              21.415823                   8.461191   \n",
       "0 days 00:00:02.308324100              21.623719                   8.562125   \n",
       "\n",
       "                           LeftToeBase_Nub_Yposition  \\\n",
       "0 days 00:00:00                            -0.566878   \n",
       "0 days 00:00:00.008333300                  -0.328603   \n",
       "0 days 00:00:00.016666600                  -0.441359   \n",
       "0 days 00:00:00.024999900                  -0.144527   \n",
       "0 days 00:00:00.033333200                  -0.090904   \n",
       "...                                              ...   \n",
       "0 days 00:00:02.274990900                   0.379781   \n",
       "0 days 00:00:02.283324200                   0.450145   \n",
       "0 days 00:00:02.291657500                   0.538876   \n",
       "0 days 00:00:02.299990800                   0.664399   \n",
       "0 days 00:00:02.308324100                   0.817719   \n",
       "\n",
       "                           LeftToeBase_Nub_Zposition  \n",
       "0 days 00:00:00                           -33.416880  \n",
       "0 days 00:00:00.008333300                 -36.298137  \n",
       "0 days 00:00:00.016666600                 -36.351285  \n",
       "0 days 00:00:00.024999900                 -36.240115  \n",
       "0 days 00:00:00.033333200                 -36.231823  \n",
       "...                                              ...  \n",
       "0 days 00:00:02.274990900                  21.235502  \n",
       "0 days 00:00:02.283324200                  21.318301  \n",
       "0 days 00:00:02.291657500                  21.424858  \n",
       "0 days 00:00:02.299990800                  21.601870  \n",
       "0 days 00:00:02.308324100                  21.845059  \n",
       "\n",
       "[278 rows x 114 columns]"
      ],
      "text/html": "<div>\n<style scoped>\n    .dataframe tbody tr th:only-of-type {\n        vertical-align: middle;\n    }\n\n    .dataframe tbody tr th {\n        vertical-align: top;\n    }\n\n    .dataframe thead th {\n        text-align: right;\n    }\n</style>\n<table border=\"1\" class=\"dataframe\">\n  <thead>\n    <tr style=\"text-align: right;\">\n      <th></th>\n      <th>Hips_Xposition</th>\n      <th>Hips_Yposition</th>\n      <th>Hips_Zposition</th>\n      <th>LowerBack_Xposition</th>\n      <th>LowerBack_Yposition</th>\n      <th>LowerBack_Zposition</th>\n      <th>Spine_Xposition</th>\n      <th>Spine_Yposition</th>\n      <th>Spine_Zposition</th>\n      <th>Spine1_Xposition</th>\n      <th>...</th>\n      <th>LeftLeg_Zposition</th>\n      <th>LeftFoot_Xposition</th>\n      <th>LeftFoot_Yposition</th>\n      <th>LeftFoot_Zposition</th>\n      <th>LeftToeBase_Xposition</th>\n      <th>LeftToeBase_Yposition</th>\n      <th>LeftToeBase_Zposition</th>\n      <th>LeftToeBase_Nub_Xposition</th>\n      <th>LeftToeBase_Nub_Yposition</th>\n      <th>LeftToeBase_Nub_Zposition</th>\n    </tr>\n  </thead>\n  <tbody>\n    <tr>\n      <th>0 days 00:00:00</th>\n      <td>7.1998</td>\n      <td>15.3951</td>\n      <td>-37.2754</td>\n      <td>7.1998</td>\n      <td>15.3951</td>\n      <td>-37.2754</td>\n      <td>7.209830</td>\n      <td>17.400860</td>\n      <td>-37.418070</td>\n      <td>7.218910</td>\n      <td>...</td>\n      <td>-36.399380</td>\n      <td>8.662147</td>\n      <td>-0.185983</td>\n      <td>-36.399380</td>\n      <td>8.655494</td>\n      <td>-0.566878</td>\n      <td>-34.429580</td>\n      <td>8.655494</td>\n      <td>-0.566878</td>\n      <td>-33.416880</td>\n    </tr>\n    <tr>\n      <th>0 days 00:00:00.008333300</th>\n      <td>7.1998</td>\n      <td>15.3951</td>\n      <td>-37.2754</td>\n      <td>7.1998</td>\n      <td>15.3951</td>\n      <td>-37.2754</td>\n      <td>7.241606</td>\n      <td>17.400484</td>\n      <td>-37.133219</td>\n      <td>7.274167</td>\n      <td>...</td>\n      <td>-35.951809</td>\n      <td>7.915722</td>\n      <td>0.608913</td>\n      <td>-39.139306</td>\n      <td>7.648375</td>\n      <td>-0.005262</td>\n      <td>-37.248129</td>\n      <td>7.512256</td>\n      <td>-0.328603</td>\n      <td>-36.298137</td>\n    </tr>\n    <tr>\n      <th>0 days 00:00:00.016666600</th>\n      <td>7.1954</td>\n      <td>15.3894</td>\n      <td>-37.0435</td>\n      <td>7.1954</td>\n      <td>15.3894</td>\n      <td>-37.0435</td>\n      <td>7.250246</td>\n      <td>17.394608</td>\n      <td>-36.903279</td>\n      <td>7.298927</td>\n      <td>...</td>\n      <td>-35.919873</td>\n      <td>7.922986</td>\n      <td>0.628395</td>\n      <td>-39.130001</td>\n      <td>7.617998</td>\n      <td>-0.008251</td>\n      <td>-37.251996</td>\n      <td>7.454602</td>\n      <td>-0.441359</td>\n      <td>-36.351285</td>\n    </tr>\n    <tr>\n      <th>0 days 00:00:00.024999900</th>\n      <td>7.1905</td>\n      <td>15.3745</td>\n      <td>-36.8040</td>\n      <td>7.1905</td>\n      <td>15.3745</td>\n      <td>-36.8040</td>\n      <td>7.255434</td>\n      <td>17.379674</td>\n      <td>-36.667660</td>\n      <td>7.317149</td>\n      <td>...</td>\n      <td>-35.883560</td>\n      <td>7.940175</td>\n      <td>0.638956</td>\n      <td>-39.123536</td>\n      <td>7.696464</td>\n      <td>0.002640</td>\n      <td>-37.236490</td>\n      <td>7.590921</td>\n      <td>-0.144527</td>\n      <td>-36.240115</td>\n    </tr>\n    <tr>\n      <th>0 days 00:00:00.033333200</th>\n      <td>7.1935</td>\n      <td>15.3672</td>\n      <td>-36.5645</td>\n      <td>7.1935</td>\n      <td>15.3672</td>\n      <td>-36.5645</td>\n      <td>7.264889</td>\n      <td>17.372640</td>\n      <td>-36.435493</td>\n      <td>7.330707</td>\n      <td>...</td>\n      <td>-35.836634</td>\n      <td>7.959456</td>\n      <td>0.651586</td>\n      <td>-39.117457</td>\n      <td>7.713964</td>\n      <td>0.001262</td>\n      <td>-37.235424</td>\n      <td>7.614706</td>\n      <td>-0.090904</td>\n      <td>-36.231823</td>\n    </tr>\n    <tr>\n      <th>...</th>\n      <td>...</td>\n      <td>...</td>\n      <td>...</td>\n      <td>...</td>\n      <td>...</td>\n      <td>...</td>\n      <td>...</td>\n      <td>...</td>\n      <td>...</td>\n      <td>...</td>\n      <td>...</td>\n      <td>...</td>\n      <td>...</td>\n      <td>...</td>\n      <td>...</td>\n      <td>...</td>\n      <td>...</td>\n      <td>...</td>\n      <td>...</td>\n      <td>...</td>\n      <td>...</td>\n    </tr>\n    <tr>\n      <th>0 days 00:00:02.274990900</th>\n      <td>7.2256</td>\n      <td>16.1408</td>\n      <td>26.9953</td>\n      <td>7.2256</td>\n      <td>16.1408</td>\n      <td>26.9953</td>\n      <td>7.191831</td>\n      <td>18.149988</td>\n      <td>27.069811</td>\n      <td>7.084194</td>\n      <td>...</td>\n      <td>25.706442</td>\n      <td>8.167404</td>\n      <td>3.260247</td>\n      <td>20.336059</td>\n      <td>8.150685</td>\n      <td>1.357677</td>\n      <td>20.972600</td>\n      <td>8.137880</td>\n      <td>0.379781</td>\n      <td>21.235502</td>\n    </tr>\n    <tr>\n      <th>0 days 00:00:02.283324200</th>\n      <td>7.2354</td>\n      <td>16.1494</td>\n      <td>27.2323</td>\n      <td>7.2354</td>\n      <td>16.1494</td>\n      <td>27.2323</td>\n      <td>7.197743</td>\n      <td>18.158559</td>\n      <td>27.305715</td>\n      <td>7.074245</td>\n      <td>...</td>\n      <td>26.158171</td>\n      <td>8.213478</td>\n      <td>3.388311</td>\n      <td>20.626627</td>\n      <td>8.229184</td>\n      <td>1.441191</td>\n      <td>21.110068</td>\n      <td>8.234341</td>\n      <td>0.450145</td>\n      <td>21.318301</td>\n    </tr>\n    <tr>\n      <th>0 days 00:00:02.291657500</th>\n      <td>7.2360</td>\n      <td>16.1650</td>\n      <td>27.4599</td>\n      <td>7.2360</td>\n      <td>16.1650</td>\n      <td>27.4599</td>\n      <td>7.185947</td>\n      <td>18.174995</td>\n      <td>27.429177</td>\n      <td>7.049802</td>\n      <td>...</td>\n      <td>26.592371</td>\n      <td>8.264271</td>\n      <td>3.514026</td>\n      <td>20.919426</td>\n      <td>8.320775</td>\n      <td>1.536207</td>\n      <td>21.251508</td>\n      <td>8.349773</td>\n      <td>0.538876</td>\n      <td>21.424858</td>\n    </tr>\n    <tr>\n      <th>0 days 00:00:02.299990800</th>\n      <td>7.2319</td>\n      <td>16.1959</td>\n      <td>27.6841</td>\n      <td>7.2319</td>\n      <td>16.1959</td>\n      <td>27.6841</td>\n      <td>7.187086</td>\n      <td>18.205949</td>\n      <td>27.719058</td>\n      <td>7.048889</td>\n      <td>...</td>\n      <td>27.017796</td>\n      <td>8.295847</td>\n      <td>3.652337</td>\n      <td>21.223626</td>\n      <td>8.400185</td>\n      <td>1.657992</td>\n      <td>21.415823</td>\n      <td>8.461191</td>\n      <td>0.664399</td>\n      <td>21.601870</td>\n    </tr>\n    <tr>\n      <th>0 days 00:00:02.308324100</th>\n      <td>7.2194</td>\n      <td>16.2385</td>\n      <td>27.9053</td>\n      <td>7.2194</td>\n      <td>16.2385</td>\n      <td>27.9053</td>\n      <td>7.176884</td>\n      <td>18.247465</td>\n      <td>27.981337</td>\n      <td>7.039144</td>\n      <td>...</td>\n      <td>27.464825</td>\n      <td>8.309123</td>\n      <td>3.800313</td>\n      <td>21.559068</td>\n      <td>8.463756</td>\n      <td>1.801027</td>\n      <td>21.623719</td>\n      <td>8.562125</td>\n      <td>0.817719</td>\n      <td>21.845059</td>\n    </tr>\n  </tbody>\n</table>\n<p>278 rows × 114 columns</p>\n</div>"
     },
     "metadata": {},
     "execution_count": 38
    }
   ],
   "source": [
    "pos.values"
   ]
  },
  {
   "cell_type": "code",
   "execution_count": null,
   "metadata": {},
   "outputs": [],
   "source": []
  }
 ]
}