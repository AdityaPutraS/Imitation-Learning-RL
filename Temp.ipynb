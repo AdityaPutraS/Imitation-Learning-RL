{
 "metadata": {
  "language_info": {
   "codemirror_mode": {
    "name": "ipython",
    "version": 3
   },
   "file_extension": ".py",
   "mimetype": "text/x-python",
   "name": "python",
   "nbconvert_exporter": "python",
   "pygments_lexer": "ipython3",
   "version": "3.8.3-final"
  },
  "orig_nbformat": 2,
  "kernelspec": {
   "name": "python3",
   "display_name": "Python 3.8.3 64-bit ('base': conda)",
   "metadata": {
    "interpreter": {
     "hash": "b831a290663060d6bbcd08c7adbf35f3f8975b354fb04e6990e28cd1cdf56c03"
    }
   }
  }
 },
 "nbformat": 4,
 "nbformat_minor": 2,
 "cells": [
  {
   "cell_type": "code",
   "execution_count": 1,
   "metadata": {},
   "outputs": [],
   "source": [
    "import pandas as pd\n",
    "import numpy as np\n",
    "from scipy.spatial.transform import Rotation as R"
   ]
  },
  {
   "cell_type": "code",
   "execution_count": 4,
   "metadata": {},
   "outputs": [],
   "source": [
    "a = np.zeros([44])\n",
    "b = np.zeros([4])"
   ]
  },
  {
   "cell_type": "code",
   "execution_count": 7,
   "metadata": {},
   "outputs": [
    {
     "output_type": "execute_result",
     "data": {
      "text/plain": [
       "(48,)"
      ]
     },
     "metadata": {},
     "execution_count": 7
    }
   ],
   "source": [
    "np.hstack((a, b)).shape"
   ]
  },
  {
   "cell_type": "code",
   "execution_count": 40,
   "metadata": {},
   "outputs": [],
   "source": [
    "df = pd.read_csv('Joints CSV/walk9_1QuatRot.csv')"
   ]
  },
  {
   "cell_type": "code",
   "execution_count": 41,
   "metadata": {},
   "outputs": [
    {
     "output_type": "execute_result",
     "data": {
      "text/plain": [
       "     LeftUpLeg.X  LeftUpLeg.Y  LeftUpLeg.Z  LeftUpLeg.W  RightUpLeg.X  \\\n",
       "0       0.015097    -0.009735    -0.237774     0.971154     -0.341619   \n",
       "1       0.030204     0.001146    -0.232719     0.972074     -0.352193   \n",
       "2       0.043930     0.013243    -0.226059     0.973032     -0.360574   \n",
       "3       0.059133     0.025625    -0.221390     0.973054     -0.366914   \n",
       "4       0.076159     0.036967    -0.217275     0.972432     -0.370440   \n",
       "..           ...          ...          ...          ...           ...   \n",
       "128    -0.244248     0.010659    -0.079054     0.966426     -0.036533   \n",
       "129    -0.260439    -0.009739    -0.086529     0.961556     -0.024492   \n",
       "130    -0.296990    -0.003613    -0.060573     0.952951     -0.006541   \n",
       "131    -0.307112    -0.023635    -0.060068     0.949482      0.006919   \n",
       "132    -0.315824    -0.027637    -0.056256     0.946745      0.031206   \n",
       "\n",
       "     RightUpLeg.Y  RightUpLeg.Z  RightUpLeg.W  LeftLeg.X  LeftLeg.Y  ...  \\\n",
       "0        0.073504      0.079287      0.933599   0.268772   0.082364  ...   \n",
       "1        0.081491      0.078165      0.929091   0.251936   0.078915  ...   \n",
       "2        0.093175      0.076187      0.924933   0.233688   0.074814  ...   \n",
       "3        0.102814      0.071392      0.921795   0.214097   0.070017  ...   \n",
       "4        0.110330      0.066921      0.919850   0.192753   0.064362  ...   \n",
       "..            ...           ...           ...        ...        ...  ...   \n",
       "128      0.075989      0.271475      0.958745   0.839616  -0.136685  ...   \n",
       "129      0.063606      0.267514      0.961140   0.836178  -0.131823  ...   \n",
       "130      0.069133      0.286807      0.955468   0.836173  -0.131818  ...   \n",
       "131      0.054028      0.287360      0.956273   0.830256  -0.123668  ...   \n",
       "132      0.041550      0.292298      0.954914   0.821906  -0.112605  ...   \n",
       "\n",
       "     RightForeArm.W  LeftHand.X  LeftHand.Y  LeftHand.Z  LeftHand.W  \\\n",
       "0          0.698867   -0.169611         0.0         0.0    0.985511   \n",
       "1          0.695398   -0.177969         0.0         0.0    0.984036   \n",
       "2          0.688671   -0.186706         0.0         0.0    0.982416   \n",
       "3          0.678321   -0.197789         0.0         0.0    0.980245   \n",
       "4          0.666986   -0.209378         0.0         0.0    0.977835   \n",
       "..              ...         ...         ...         ...         ...   \n",
       "128        0.092258   -0.290088         0.0         0.0    0.957000   \n",
       "129        0.074284   -0.293857         0.0         0.0    0.955849   \n",
       "130        0.054218   -0.293899         0.0         0.0    0.955837   \n",
       "131        0.032914   -0.294005         0.0         0.0    0.955804   \n",
       "132        0.012402   -0.295799         0.0         0.0    0.955250   \n",
       "\n",
       "     RightHand.X  RightHand.Y  RightHand.Z  RightHand.W      Time  \n",
       "0       0.044109          0.0          0.0     0.999027  0.133333  \n",
       "1       0.039221          0.0          0.0     0.999231  0.141666  \n",
       "2       0.034314          0.0          0.0     0.999411  0.149999  \n",
       "3       0.030506          0.0          0.0     0.999535  0.158333  \n",
       "4       0.028595          0.0          0.0     0.999591  0.166666  \n",
       "..           ...          ...          ...          ...       ...  \n",
       "128    -0.043214          0.0          0.0     0.999066  1.199995  \n",
       "129    -0.038250          0.0          0.0     0.999268  1.208328  \n",
       "130    -0.033621          0.0          0.0     0.999435  1.216662  \n",
       "131    -0.030186          0.0          0.0     0.999544  1.224995  \n",
       "132    -0.026390          0.0          0.0     0.999652  1.233328  \n",
       "\n",
       "[133 rows x 49 columns]"
      ],
      "text/html": "<div>\n<style scoped>\n    .dataframe tbody tr th:only-of-type {\n        vertical-align: middle;\n    }\n\n    .dataframe tbody tr th {\n        vertical-align: top;\n    }\n\n    .dataframe thead th {\n        text-align: right;\n    }\n</style>\n<table border=\"1\" class=\"dataframe\">\n  <thead>\n    <tr style=\"text-align: right;\">\n      <th></th>\n      <th>LeftUpLeg.X</th>\n      <th>LeftUpLeg.Y</th>\n      <th>LeftUpLeg.Z</th>\n      <th>LeftUpLeg.W</th>\n      <th>RightUpLeg.X</th>\n      <th>RightUpLeg.Y</th>\n      <th>RightUpLeg.Z</th>\n      <th>RightUpLeg.W</th>\n      <th>LeftLeg.X</th>\n      <th>LeftLeg.Y</th>\n      <th>...</th>\n      <th>RightForeArm.W</th>\n      <th>LeftHand.X</th>\n      <th>LeftHand.Y</th>\n      <th>LeftHand.Z</th>\n      <th>LeftHand.W</th>\n      <th>RightHand.X</th>\n      <th>RightHand.Y</th>\n      <th>RightHand.Z</th>\n      <th>RightHand.W</th>\n      <th>Time</th>\n    </tr>\n  </thead>\n  <tbody>\n    <tr>\n      <th>0</th>\n      <td>0.015097</td>\n      <td>-0.009735</td>\n      <td>-0.237774</td>\n      <td>0.971154</td>\n      <td>-0.341619</td>\n      <td>0.073504</td>\n      <td>0.079287</td>\n      <td>0.933599</td>\n      <td>0.268772</td>\n      <td>0.082364</td>\n      <td>...</td>\n      <td>0.698867</td>\n      <td>-0.169611</td>\n      <td>0.0</td>\n      <td>0.0</td>\n      <td>0.985511</td>\n      <td>0.044109</td>\n      <td>0.0</td>\n      <td>0.0</td>\n      <td>0.999027</td>\n      <td>0.133333</td>\n    </tr>\n    <tr>\n      <th>1</th>\n      <td>0.030204</td>\n      <td>0.001146</td>\n      <td>-0.232719</td>\n      <td>0.972074</td>\n      <td>-0.352193</td>\n      <td>0.081491</td>\n      <td>0.078165</td>\n      <td>0.929091</td>\n      <td>0.251936</td>\n      <td>0.078915</td>\n      <td>...</td>\n      <td>0.695398</td>\n      <td>-0.177969</td>\n      <td>0.0</td>\n      <td>0.0</td>\n      <td>0.984036</td>\n      <td>0.039221</td>\n      <td>0.0</td>\n      <td>0.0</td>\n      <td>0.999231</td>\n      <td>0.141666</td>\n    </tr>\n    <tr>\n      <th>2</th>\n      <td>0.043930</td>\n      <td>0.013243</td>\n      <td>-0.226059</td>\n      <td>0.973032</td>\n      <td>-0.360574</td>\n      <td>0.093175</td>\n      <td>0.076187</td>\n      <td>0.924933</td>\n      <td>0.233688</td>\n      <td>0.074814</td>\n      <td>...</td>\n      <td>0.688671</td>\n      <td>-0.186706</td>\n      <td>0.0</td>\n      <td>0.0</td>\n      <td>0.982416</td>\n      <td>0.034314</td>\n      <td>0.0</td>\n      <td>0.0</td>\n      <td>0.999411</td>\n      <td>0.149999</td>\n    </tr>\n    <tr>\n      <th>3</th>\n      <td>0.059133</td>\n      <td>0.025625</td>\n      <td>-0.221390</td>\n      <td>0.973054</td>\n      <td>-0.366914</td>\n      <td>0.102814</td>\n      <td>0.071392</td>\n      <td>0.921795</td>\n      <td>0.214097</td>\n      <td>0.070017</td>\n      <td>...</td>\n      <td>0.678321</td>\n      <td>-0.197789</td>\n      <td>0.0</td>\n      <td>0.0</td>\n      <td>0.980245</td>\n      <td>0.030506</td>\n      <td>0.0</td>\n      <td>0.0</td>\n      <td>0.999535</td>\n      <td>0.158333</td>\n    </tr>\n    <tr>\n      <th>4</th>\n      <td>0.076159</td>\n      <td>0.036967</td>\n      <td>-0.217275</td>\n      <td>0.972432</td>\n      <td>-0.370440</td>\n      <td>0.110330</td>\n      <td>0.066921</td>\n      <td>0.919850</td>\n      <td>0.192753</td>\n      <td>0.064362</td>\n      <td>...</td>\n      <td>0.666986</td>\n      <td>-0.209378</td>\n      <td>0.0</td>\n      <td>0.0</td>\n      <td>0.977835</td>\n      <td>0.028595</td>\n      <td>0.0</td>\n      <td>0.0</td>\n      <td>0.999591</td>\n      <td>0.166666</td>\n    </tr>\n    <tr>\n      <th>...</th>\n      <td>...</td>\n      <td>...</td>\n      <td>...</td>\n      <td>...</td>\n      <td>...</td>\n      <td>...</td>\n      <td>...</td>\n      <td>...</td>\n      <td>...</td>\n      <td>...</td>\n      <td>...</td>\n      <td>...</td>\n      <td>...</td>\n      <td>...</td>\n      <td>...</td>\n      <td>...</td>\n      <td>...</td>\n      <td>...</td>\n      <td>...</td>\n      <td>...</td>\n      <td>...</td>\n    </tr>\n    <tr>\n      <th>128</th>\n      <td>-0.244248</td>\n      <td>0.010659</td>\n      <td>-0.079054</td>\n      <td>0.966426</td>\n      <td>-0.036533</td>\n      <td>0.075989</td>\n      <td>0.271475</td>\n      <td>0.958745</td>\n      <td>0.839616</td>\n      <td>-0.136685</td>\n      <td>...</td>\n      <td>0.092258</td>\n      <td>-0.290088</td>\n      <td>0.0</td>\n      <td>0.0</td>\n      <td>0.957000</td>\n      <td>-0.043214</td>\n      <td>0.0</td>\n      <td>0.0</td>\n      <td>0.999066</td>\n      <td>1.199995</td>\n    </tr>\n    <tr>\n      <th>129</th>\n      <td>-0.260439</td>\n      <td>-0.009739</td>\n      <td>-0.086529</td>\n      <td>0.961556</td>\n      <td>-0.024492</td>\n      <td>0.063606</td>\n      <td>0.267514</td>\n      <td>0.961140</td>\n      <td>0.836178</td>\n      <td>-0.131823</td>\n      <td>...</td>\n      <td>0.074284</td>\n      <td>-0.293857</td>\n      <td>0.0</td>\n      <td>0.0</td>\n      <td>0.955849</td>\n      <td>-0.038250</td>\n      <td>0.0</td>\n      <td>0.0</td>\n      <td>0.999268</td>\n      <td>1.208328</td>\n    </tr>\n    <tr>\n      <th>130</th>\n      <td>-0.296990</td>\n      <td>-0.003613</td>\n      <td>-0.060573</td>\n      <td>0.952951</td>\n      <td>-0.006541</td>\n      <td>0.069133</td>\n      <td>0.286807</td>\n      <td>0.955468</td>\n      <td>0.836173</td>\n      <td>-0.131818</td>\n      <td>...</td>\n      <td>0.054218</td>\n      <td>-0.293899</td>\n      <td>0.0</td>\n      <td>0.0</td>\n      <td>0.955837</td>\n      <td>-0.033621</td>\n      <td>0.0</td>\n      <td>0.0</td>\n      <td>0.999435</td>\n      <td>1.216662</td>\n    </tr>\n    <tr>\n      <th>131</th>\n      <td>-0.307112</td>\n      <td>-0.023635</td>\n      <td>-0.060068</td>\n      <td>0.949482</td>\n      <td>0.006919</td>\n      <td>0.054028</td>\n      <td>0.287360</td>\n      <td>0.956273</td>\n      <td>0.830256</td>\n      <td>-0.123668</td>\n      <td>...</td>\n      <td>0.032914</td>\n      <td>-0.294005</td>\n      <td>0.0</td>\n      <td>0.0</td>\n      <td>0.955804</td>\n      <td>-0.030186</td>\n      <td>0.0</td>\n      <td>0.0</td>\n      <td>0.999544</td>\n      <td>1.224995</td>\n    </tr>\n    <tr>\n      <th>132</th>\n      <td>-0.315824</td>\n      <td>-0.027637</td>\n      <td>-0.056256</td>\n      <td>0.946745</td>\n      <td>0.031206</td>\n      <td>0.041550</td>\n      <td>0.292298</td>\n      <td>0.954914</td>\n      <td>0.821906</td>\n      <td>-0.112605</td>\n      <td>...</td>\n      <td>0.012402</td>\n      <td>-0.295799</td>\n      <td>0.0</td>\n      <td>0.0</td>\n      <td>0.955250</td>\n      <td>-0.026390</td>\n      <td>0.0</td>\n      <td>0.0</td>\n      <td>0.999652</td>\n      <td>1.233328</td>\n    </tr>\n  </tbody>\n</table>\n<p>133 rows × 49 columns</p>\n</div>"
     },
     "metadata": {},
     "execution_count": 41
    }
   ],
   "source": [
    "df"
   ]
  },
  {
   "cell_type": "code",
   "execution_count": 42,
   "metadata": {},
   "outputs": [
    {
     "output_type": "stream",
     "name": "stdout",
     "text": [
      "LeftUpLeg.X       0.015097\nLeftUpLeg.Y      -0.009735\nLeftUpLeg.Z      -0.237774\nLeftUpLeg.W       0.971154\nRightUpLeg.X     -0.341619\nRightUpLeg.Y      0.073504\nRightUpLeg.Z      0.079287\nRightUpLeg.W      0.933599\nLeftLeg.X         0.268772\nLeftLeg.Y         0.082364\nLeftLeg.Z         0.049598\nLeftLeg.W         0.958393\nRightLeg.X        0.766236\nRightLeg.Y        0.049985\nRightLeg.Z       -0.257825\nRightLeg.W        0.586439\nLeftFoot.X       -0.060422\nLeftFoot.Y       -0.074105\nLeftFoot.Z        0.004951\nLeftFoot.W        0.995406\nRightFoot.X       0.087478\nRightFoot.Y      -0.041119\nRightFoot.Z      -0.006366\nRightFoot.W       0.995297\nLeftArm.X         0.353201\nLeftArm.Y         0.165780\nLeftArm.Z        -0.625786\nLeftArm.W         0.675395\nRightArm.X        0.088766\nRightArm.Y       -0.327065\nRightArm.Z        0.566555\nRightArm.W        0.751109\nLeftForeArm.X    -0.544691\nLeftForeArm.Y     0.478727\nLeftForeArm.Z     0.687006\nLeftForeArm.W    -0.046409\nRightForeArm.X   -0.416088\nRightForeArm.Y    0.284102\nRightForeArm.Z   -0.507684\nRightForeArm.W    0.698867\nLeftHand.X       -0.169611\nLeftHand.Y        0.000000\nLeftHand.Z        0.000000\nLeftHand.W        0.985511\nRightHand.X       0.044109\nRightHand.Y       0.000000\nRightHand.Z       0.000000\nRightHand.W       0.999027\nTime              0.133333\nName: 0, dtype: float64\n"
     ]
    }
   ],
   "source": [
    "a = df.iloc[0]\n",
    "print(a)"
   ]
  },
  {
   "cell_type": "code",
   "execution_count": 43,
   "metadata": {},
   "outputs": [
    {
     "output_type": "execute_result",
     "data": {
      "text/plain": [
       "{'LeftUpLeg.X': 0.015097343477146478,\n",
       " 'LeftUpLeg.Y': -0.009735035902250269,\n",
       " 'LeftUpLeg.Z': -0.2377743918049266,\n",
       " 'LeftUpLeg.W': 0.9711542812023805,\n",
       " 'RightUpLeg.X': -0.34161922426597746,\n",
       " 'RightUpLeg.Y': 0.07350375280955103,\n",
       " 'RightUpLeg.Z': 0.07928672577162638,\n",
       " 'RightUpLeg.W': 0.9335990140586264,\n",
       " 'LeftLeg.X': 0.2687720872756651,\n",
       " 'LeftLeg.Y': 0.08236444824542108,\n",
       " 'LeftLeg.Z': 0.049598253002577225,\n",
       " 'LeftLeg.W': 0.958393278391393,\n",
       " 'RightLeg.X': 0.7662356341190012,\n",
       " 'RightLeg.Y': 0.04998513449146042,\n",
       " 'RightLeg.Z': -0.25782458315440976,\n",
       " 'RightLeg.W': 0.5864391900763265,\n",
       " 'LeftFoot.X': -0.060422050652931124,\n",
       " 'LeftFoot.Y': -0.0741048060479728,\n",
       " 'LeftFoot.Z': 0.0049508139011430145,\n",
       " 'LeftFoot.W': 0.99540601914857,\n",
       " 'RightFoot.X': 0.08747798107072002,\n",
       " 'RightFoot.Y': -0.04111883694492245,\n",
       " 'RightFoot.Z': -0.006366336006188331,\n",
       " 'RightFoot.W': 0.9952970982786716,\n",
       " 'LeftArm.X': 0.3532006273162405,\n",
       " 'LeftArm.Y': 0.16577957180145342,\n",
       " 'LeftArm.Z': -0.6257861539507037,\n",
       " 'LeftArm.W': 0.6753948030302921,\n",
       " 'RightArm.X': 0.08876556996892143,\n",
       " 'RightArm.Y': -0.3270653098668411,\n",
       " 'RightArm.Z': 0.566554578995064,\n",
       " 'RightArm.W': 0.7511090904053321,\n",
       " 'LeftForeArm.X': -0.5446913398693738,\n",
       " 'LeftForeArm.Y': 0.4787272523916707,\n",
       " 'LeftForeArm.Z': 0.6870063832320373,\n",
       " 'LeftForeArm.W': -0.046408959127123284,\n",
       " 'RightForeArm.X': -0.41608754756843497,\n",
       " 'RightForeArm.Y': 0.28410180320543704,\n",
       " 'RightForeArm.Z': -0.5076837044653302,\n",
       " 'RightForeArm.W': 0.6988666356281888,\n",
       " 'LeftHand.X': -0.1696109560991915,\n",
       " 'LeftHand.Y': 0.0,\n",
       " 'LeftHand.Z': 0.0,\n",
       " 'LeftHand.W': 0.9855110976397568,\n",
       " 'RightHand.X': 0.04410935283179472,\n",
       " 'RightHand.Y': 0.0,\n",
       " 'RightHand.Z': 0.0,\n",
       " 'RightHand.W': 0.9990267088485474,\n",
       " 'Time': 0.1333328}"
      ]
     },
     "metadata": {},
     "execution_count": 43
    }
   ],
   "source": [
    "a.to_dict()"
   ]
  },
  {
   "cell_type": "code",
   "execution_count": 44,
   "metadata": {},
   "outputs": [
    {
     "output_type": "execute_result",
     "data": {
      "text/plain": [
       "[0.015097343477146478,\n",
       " -0.009735035902250269,\n",
       " -0.2377743918049266,\n",
       " 0.9711542812023805,\n",
       " -0.34161922426597746,\n",
       " 0.07350375280955103,\n",
       " 0.07928672577162638,\n",
       " 0.9335990140586264,\n",
       " 0.2687720872756651,\n",
       " 0.08236444824542108,\n",
       " 0.049598253002577225,\n",
       " 0.958393278391393,\n",
       " 0.7662356341190012,\n",
       " 0.04998513449146042,\n",
       " -0.25782458315440976,\n",
       " 0.5864391900763265,\n",
       " -0.060422050652931124,\n",
       " -0.0741048060479728,\n",
       " 0.0049508139011430145,\n",
       " 0.99540601914857,\n",
       " 0.08747798107072002,\n",
       " -0.04111883694492245,\n",
       " -0.006366336006188331,\n",
       " 0.9952970982786716,\n",
       " 0.3532006273162405,\n",
       " 0.16577957180145342,\n",
       " -0.6257861539507037,\n",
       " 0.6753948030302921,\n",
       " 0.08876556996892143,\n",
       " -0.3270653098668411,\n",
       " 0.566554578995064,\n",
       " 0.7511090904053321,\n",
       " -0.5446913398693738,\n",
       " 0.4787272523916707,\n",
       " 0.6870063832320373,\n",
       " -0.046408959127123284,\n",
       " -0.41608754756843497,\n",
       " 0.28410180320543704,\n",
       " -0.5076837044653302,\n",
       " 0.6988666356281888,\n",
       " -0.1696109560991915,\n",
       " 0.0,\n",
       " 0.0,\n",
       " 0.9855110976397568,\n",
       " 0.04410935283179472,\n",
       " 0.0,\n",
       " 0.0,\n",
       " 0.9990267088485474,\n",
       " 0.1333328]"
      ]
     },
     "metadata": {},
     "execution_count": 44
    }
   ],
   "source": [
    "#  Root = 0, lhipjoint = 3, lfemur = 6, ltibia = 9, rhipjoint = 12, rfemur = 15, rtibia = 18\n",
    "a.to_list()"
   ]
  },
  {
   "cell_type": "code",
   "execution_count": 46,
   "metadata": {},
   "outputs": [],
   "source": [
    "import pybullet_envs\n",
    "import gym"
   ]
  },
  {
   "cell_type": "code",
   "execution_count": 47,
   "metadata": {},
   "outputs": [],
   "source": [
    "env = gym.make('HumanoidBulletEnv-v0')"
   ]
  },
  {
   "cell_type": "code",
   "execution_count": 48,
   "metadata": {},
   "outputs": [],
   "source": [
    "# env.close()"
   ]
  },
  {
   "cell_type": "code",
   "execution_count": 49,
   "metadata": {},
   "outputs": [],
   "source": [
    "obs = env.reset()"
   ]
  },
  {
   "cell_type": "code",
   "execution_count": 50,
   "metadata": {},
   "outputs": [
    {
     "output_type": "stream",
     "name": "stdout",
     "text": [
      "44 [ 5.9999996e-01  6.9100463e-07  1.0000000e+00  0.0000000e+00\n  0.0000000e+00  0.0000000e+00  0.0000000e+00 -0.0000000e+00\n -5.2742977e-02  0.0000000e+00  3.9381334e-01  0.0000000e+00\n  7.0315190e-02  0.0000000e+00  3.4107587e-01  0.0000000e+00\n  3.8131177e-01  0.0000000e+00  7.3970056e-01  0.0000000e+00\n  9.9446213e-01  0.0000000e+00  9.3073058e-01  0.0000000e+00\n  3.1005520e-01  0.0000000e+00  6.4398402e-01  0.0000000e+00\n  1.0549511e+00  0.0000000e+00  2.3961198e-01  0.0000000e+00\n  2.3867390e-01  0.0000000e+00  3.3552343e-01  0.0000000e+00\n -1.8468004e-01  0.0000000e+00 -1.9920982e-01  0.0000000e+00\n  2.9497612e-01  0.0000000e+00  0.0000000e+00  0.0000000e+00]\n"
     ]
    }
   ],
   "source": [
    "print(len(obs), obs)"
   ]
  },
  {
   "cell_type": "code",
   "execution_count": 51,
   "metadata": {},
   "outputs": [
    {
     "output_type": "stream",
     "name": "stdout",
     "text": [
      "abdomen_z (-0.05274297491108334, 0.0)\nabdomen_y (0.39381333368574223, 0.0)\nabdomen_x (0.07031519258880688, 0.0)\nright_hip_x (0.3410758751841874, 0.0)\nright_hip_z (0.3813117641860396, 0.0)\nright_hip_y (0.7397005502556482, 0.0)\nright_knee (0.9944621204311415, 0.0)\nleft_hip_x (0.9307306108900959, 0.0)\nleft_hip_z (0.3100551836072859, 0.0)\nleft_hip_y (0.6439840161452175, 0.0)\nleft_knee (1.0549510449184736, 0.0)\nright_shoulder1 (0.23961198552024646, 0.0)\nright_shoulder2 (0.23867390281120943, 0.0)\nright_elbow (0.3355234187619139, 0.0)\nleft_shoulder1 (-0.18468004220074788, 0.0)\nleft_shoulder2 (-0.1992098312532584, 0.0)\nleft_elbow (0.2949761283856279, 0.0)\n"
     ]
    }
   ],
   "source": [
    "for j in env.jdict:\n",
    "    print(j, env.jdict[j].current_relative_position())"
   ]
  },
  {
   "cell_type": "code",
   "execution_count": 52,
   "metadata": {},
   "outputs": [
    {
     "output_type": "execute_result",
     "data": {
      "text/plain": [
       "(-0.04254226953784852, 0.0)"
      ]
     },
     "metadata": {},
     "execution_count": 52
    }
   ],
   "source": [
    "env.jdict['right_knee'].current_position()"
   ]
  },
  {
   "cell_type": "code",
   "execution_count": 53,
   "metadata": {},
   "outputs": [
    {
     "output_type": "execute_result",
     "data": {
      "text/plain": [
       "<pybullet_envs.robot_bases.Joint at 0x7f09e96e3700>"
      ]
     },
     "metadata": {},
     "execution_count": 53
    }
   ],
   "source": [
    "env.jdict['right_knee']"
   ]
  },
  {
   "cell_type": "code",
   "execution_count": 54,
   "metadata": {},
   "outputs": [
    {
     "output_type": "stream",
     "name": "stdout",
     "text": [
      "torso [0. 0. 0. 1.]\nlwaist [-2.88373799e-04 -1.79195867e-02 -2.07086298e-02  9.99624909e-01]\npelvis [ 0.02113632 -0.02035891 -0.02027548  0.99936364]\nright_thigh [-0.02281966 -0.00288834  0.02747546  0.9993578 ]\nright_shin [-0.02339889  0.01836818  0.02698388  0.99919316]\nright_foot [-0.02339889  0.01836818  0.02698388  0.99919316]\nleft_thigh [-0.01475097 -0.06276918 -0.03979508  0.99712526]\nleft_shin [-0.01556085 -0.08312617 -0.03948543  0.99563487]\nleft_foot [-0.01556085 -0.08312617 -0.03948543  0.99563487]\nright_upper_arm [ 0.03570089 -0.01329974  0.04591542  0.99821858]\nright_lower_arm [ 0.03638598 -0.03553482  0.06659945  0.99648274]\nleft_upper_arm [-0.00641153 -0.00889509 -0.01507875  0.99982619]\nleft_lower_arm [-0.00643617 -0.0129205  -0.01905276  0.99971427]\nfloor [0. 0. 0. 1.]\n"
     ]
    }
   ],
   "source": [
    "for p in env.parts:\n",
    "    if('link' not in p):\n",
    "        print(p, R.from_quat(env.parts[p].get_pose()[3:]).as_quat())"
   ]
  },
  {
   "cell_type": "code",
   "execution_count": 67,
   "metadata": {},
   "outputs": [
    {
     "output_type": "stream",
     "name": "stdout",
     "text": [
      "[-0.01475097 -0.06276918 -0.03979508  0.99712526] [ 0.01509734 -0.00973504 -0.23777439  0.97115428]\n"
     ]
    }
   ],
   "source": [
    "actualLThighQ = R.from_quat(env.parts['left_thigh'].get_pose()[3:])\n",
    "x, y, z, w = df['LeftUpLeg.X'].iloc[0], df['LeftUpLeg.Y'].iloc[0], df['LeftUpLeg.Z'].iloc[0], df['LeftUpLeg.W'].iloc[0]\n",
    "refLThighQ = R.from_quat([x, y, z, w])\n",
    "\n",
    "print(actualLThighQ.as_quat(), refLThighQ.as_quat())"
   ]
  },
  {
   "cell_type": "code",
   "execution_count": 68,
   "metadata": {},
   "outputs": [],
   "source": [
    "shortestAngle = refLThighQ * actualLThighQ.inv()"
   ]
  },
  {
   "cell_type": "code",
   "execution_count": 69,
   "metadata": {},
   "outputs": [
    {
     "output_type": "stream",
     "name": "stdout",
     "text": [
      "[-0.0439169  -0.04714331  0.19735245 -0.97821308]\n[-23.03824498   4.29537232   6.01692864]\n"
     ]
    }
   ],
   "source": [
    "print(shortestAngle.as_quat())\n",
    "print(shortestAngle.as_euler('zyx', degrees=True))"
   ]
  },
  {
   "cell_type": "code",
   "execution_count": 73,
   "metadata": {},
   "outputs": [
    {
     "output_type": "execute_result",
     "data": {
      "text/plain": [
       "array([23.03824498,  4.29537232,  6.01692864])"
      ]
     },
     "metadata": {},
     "execution_count": 73
    }
   ],
   "source": [
    "np.clip(np.abs(shortestAngle.as_euler('zyx', degrees=True)), 0.001, 180)"
   ]
  },
  {
   "cell_type": "code",
   "execution_count": 66,
   "metadata": {},
   "outputs": [
    {
     "output_type": "execute_result",
     "data": {
      "text/plain": [
       "0.679960633151861"
      ]
     },
     "metadata": {},
     "execution_count": 66
    }
   ],
   "source": [
    "shortestAngle.magnitude()"
   ]
  },
  {
   "cell_type": "code",
   "execution_count": 76,
   "metadata": {},
   "outputs": [
    {
     "output_type": "execute_result",
     "data": {
      "text/plain": [
       "array([ 0.49336505, -0.5659901 , -0.19578922, -0.61176175, -0.9745941 ,\n",
       "        0.5139381 ,  0.61837643,  0.73036206, -0.8472857 , -0.24802065,\n",
       "       -0.6941837 ,  0.8466927 , -0.8028988 ,  0.5497886 ,  0.7589527 ,\n",
       "       -0.07189947, -0.89333844], dtype=float32)"
      ]
     },
     "metadata": {},
     "execution_count": 76
    }
   ],
   "source": [
    "env.action_space.sample()"
   ]
  },
  {
   "cell_type": "code",
   "execution_count": 77,
   "metadata": {},
   "outputs": [],
   "source": [
    "def vectorFrom2Points(p1, p2):\n",
    "    vec =  (p2[0] - p1[0], p2[1] - p1[1], p2[2] - p1[2])\n",
    "    mag = np.sqrt(np.square(vec[0]) + np.square(vec[1]) + np.square(vec[2]))\n",
    "    return (vec[0] / mag, vec[1] / mag, vec[2] / mag)\n",
    "\n",
    "def angle2Vec(v1, v2):\n",
    "    return np.rad2deg(np.arccos(v1[0] * v2[0] + v1[1] * v2[1] + v1[2] * v2[2]))\n",
    "\n",
    "def calc(obs, joint, idxObs1, idxObs2, idxJoint1, idxJoint2):\n",
    "    v1 = vectorFrom2Points(obs[idxObs1:idxObs1+3], obs[idxObs2:idxObs2+3])\n",
    "    v2 = vectorFrom2Points((joint[idxJoint1+2], joint[idxJoint1], joint[idxJoint1+1]), (joint[idxJoint2+2], joint[idxJoint2], joint[idxJoint2+1]))\n",
    "    print(v1, v2)\n",
    "    return angle2Vec(v1, v2)"
   ]
  },
  {
   "cell_type": "code",
   "execution_count": 87,
   "metadata": {},
   "outputs": [
    {
     "output_type": "stream",
     "name": "stdout",
     "text": [
      "(-0.014417151127814018, -0.09271804146556754, -0.9955880224973315)\n(0.017526079288898426, -0.015957129442920086, -0.9997190638197818)\n(-0.06482104823886731, -0.07110455415698512, -0.9953604242099194)\n(0.03677947468358527, -0.03295631600348164, -0.9987798313329511)\n"
     ]
    }
   ],
   "source": [
    "v1= vectorFrom2Points(env.parts['left_thigh'].get_position(), env.parts['left_shin'].get_position())\n",
    "v11= vectorFrom2Points(env.parts['right_thigh'].get_position(), env.parts['right_shin'].get_position())\n",
    "v12= vectorFrom2Points(env.parts['left_shin'].get_position(), env.parts['left_foot'].get_position())\n",
    "v112= vectorFrom2Points(env.parts['right_shin'].get_position(), env.parts['right_foot'].get_position())\n",
    "print(v1)\n",
    "print(v11)\n",
    "print(v12)\n",
    "print(v112)"
   ]
  },
  {
   "cell_type": "code",
   "execution_count": 80,
   "metadata": {},
   "outputs": [
    {
     "output_type": "execute_result",
     "data": {
      "text/plain": [
       "rootX          3.822670\n",
       "rootY         17.937000\n",
       "rootZ         14.864600\n",
       "lhipjointX     2.361133\n",
       "lhipjointY    16.089701\n",
       "lhipjointZ    14.358369\n",
       "lfemurX        2.466475\n",
       "lfemurY        9.123412\n",
       "lfemurZ       16.585949\n",
       "ltibiaX        2.640510\n",
       "ltibiaY        3.273635\n",
       "ltibiaZ       21.775475\n",
       "rhipjointX     4.923902\n",
       "rhipjointY    16.021793\n",
       "rhipjointZ    14.235148\n",
       "rfemurX        4.714602\n",
       "rfemurY        9.371562\n",
       "rfemurZ       10.571028\n",
       "rtibiaX        4.544611\n",
       "rtibiaY        1.750538\n",
       "rtibiaZ       11.363701\n",
       "Name: 0, dtype: float64"
      ]
     },
     "metadata": {},
     "execution_count": 80
    }
   ],
   "source": [
    "f"
   ]
  },
  {
   "cell_type": "code",
   "execution_count": 88,
   "metadata": {},
   "outputs": [
    {
     "output_type": "stream",
     "name": "stdout",
     "text": [
      "(0.01440177048090451, 0.3045415747077599, -0.9523901607437643)\n(-0.027554916991446507, -0.4823918897823306, -0.8755220107009453)\n(0.02224989816198715, 0.6634651993448776, -0.7478762406241043)\n(-0.022180503617343854, 0.10342777487665854, -0.9943896221518727)\n"
     ]
    }
   ],
   "source": [
    "f = df.iloc[0]\n",
    "v2 = vectorFrom2Points((f['lhipjointX'], f['lhipjointZ'], f['lhipjointY']), (f['lfemurX'], f['lfemurZ'], f['lfemurY']))\n",
    "v22 = vectorFrom2Points((f['rhipjointX'], f['rhipjointZ'], f['rhipjointY']), (f['rfemurX'], f['rfemurZ'], f['rfemurY']))\n",
    "v23 = vectorFrom2Points((f['lfemurX'], f['lfemurZ'], f['lfemurY']), (f['ltibiaX'], f['ltibiaZ'], f['ltibiaY']))\n",
    "v223 = vectorFrom2Points((f['rfemurX'], f['rfemurZ'], f['rfemurY']), (f['rtibiaX'], f['rtibiaZ'], f['rtibiaY']))\n",
    "print(v2)\n",
    "print(v22)\n",
    "print(v23)\n",
    "print(v223)"
   ]
  },
  {
   "cell_type": "code",
   "execution_count": 89,
   "metadata": {},
   "outputs": [
    {
     "output_type": "stream",
     "name": "stdout",
     "text": [
      "23.11129940361541\n28.05570909043261\n45.90989598620124\n8.524753331624154\n"
     ]
    }
   ],
   "source": [
    "print(angle2Vec(v1, v2))\n",
    "print(angle2Vec(v11, v22))\n",
    "print(angle2Vec(v12, v23))\n",
    "print(angle2Vec(v112, v223))"
   ]
  },
  {
   "cell_type": "code",
   "execution_count": 87,
   "metadata": {},
   "outputs": [
    {
     "output_type": "stream",
     "name": "stdout",
     "text": [
      "(-0.1577801, 0.06641376, -0.9852384) (-0.2740133669520237, 0.47938874187604225, -0.8337284383383603)\n"
     ]
    },
    {
     "output_type": "execute_result",
     "data": {
      "text/plain": [
       "26.29913561575083"
      ]
     },
     "metadata": {},
     "execution_count": 87
    }
   ],
   "source": [
    "# Root -> r hip \n",
    "calc(obs, f, 8, 11, 0, 12)"
   ]
  },
  {
   "cell_type": "code",
   "execution_count": 29,
   "metadata": {},
   "outputs": [],
   "source": [
    "def decipher_obs(obs):\n",
    "    # z - self.initial_z,\n",
    "    # np.sin(angle_to_target),\n",
    "    # np.cos(angle_to_target),\n",
    "    # 0.3 * vx,\n",
    "    # 0.3 * vy,\n",
    "    # 0.3 * vz,  # 0.3 is just scaling typical speed into -1..+1, no physical sense here\n",
    "    # r,\n",
    "    # p\n",
    "    return {\n",
    "        \"deltaZ\": obs[0],\n",
    "        \"sinAngleTarget\": obs[1],\n",
    "        \"cosAngleTarget\": obs[2],\n",
    "        \"vx\": obs[3],\n",
    "        \"vy\": obs[4],\n",
    "        \"vz\": obs[5],\n",
    "        \"rBody\": obs[6],\n",
    "        \"pBody\": obs[7],\n",
    "        \"joints\": obs[8:-2],\n",
    "        \"foot_contact\": obs[-2:]\n",
    "    }"
   ]
  },
  {
   "cell_type": "code",
   "execution_count": 31,
   "metadata": {},
   "outputs": [],
   "source": [
    "d_obs = decipher_obs(obs)"
   ]
  },
  {
   "cell_type": "code",
   "execution_count": 32,
   "metadata": {},
   "outputs": [
    {
     "output_type": "execute_result",
     "data": {
      "text/plain": [
       "array([ 0.05812395,  0.        ,  0.38102156,  0.        , -0.00292499,\n",
       "        0.        ,  0.6420605 ,  0.        ,  0.2521042 ,  0.        ,\n",
       "        0.74473894,  0.        ,  1.0854613 ,  0.        ,  0.48315504,\n",
       "        0.        ,  0.37431684,  0.        ,  0.64857244,  0.        ,\n",
       "        1.0154244 ,  0.        ,  0.13077   ,  0.        ,  0.14582019,\n",
       "        0.        ,  0.20516627,  0.        , -0.1206604 ,  0.        ,\n",
       "       -0.23286505,  0.        ,  0.3270485 ,  0.        ], dtype=float32)"
      ]
     },
     "metadata": {},
     "execution_count": 32
    }
   ],
   "source": [
    "d_obs['joints']"
   ]
  },
  {
   "cell_type": "code",
   "execution_count": 33,
   "metadata": {},
   "outputs": [
    {
     "output_type": "execute_result",
     "data": {
      "text/plain": [
       "(34,)"
      ]
     },
     "metadata": {},
     "execution_count": 33
    }
   ],
   "source": [
    "d_obs['joints'].shape"
   ]
  },
  {
   "cell_type": "code",
   "execution_count": 65,
   "metadata": {},
   "outputs": [],
   "source": [
    "env.close()"
   ]
  },
  {
   "cell_type": "code",
   "execution_count": 24,
   "metadata": {},
   "outputs": [],
   "source": [
    "t = [1,2,3,4,5,6,7,8,9,10]"
   ]
  },
  {
   "cell_type": "code",
   "execution_count": 27,
   "metadata": {},
   "outputs": [
    {
     "output_type": "execute_result",
     "data": {
      "text/plain": [
       "[4, 5, 6, 7, 8, 9]"
      ]
     },
     "metadata": {},
     "execution_count": 27
    }
   ],
   "source": [
    "t[3:-1]"
   ]
  },
  {
   "cell_type": "code",
   "execution_count": 90,
   "metadata": {},
   "outputs": [],
   "source": [
    "t = {'a': 2, 'b':3}"
   ]
  },
  {
   "cell_type": "code",
   "execution_count": 93,
   "metadata": {},
   "outputs": [
    {
     "output_type": "execute_result",
     "data": {
      "text/plain": [
       "[2, 3]"
      ]
     },
     "metadata": {},
     "execution_count": 93
    }
   ],
   "source": [
    "list(t.values())"
   ]
  },
  {
   "cell_type": "code",
   "execution_count": null,
   "metadata": {},
   "outputs": [],
   "source": []
  }
 ]
}