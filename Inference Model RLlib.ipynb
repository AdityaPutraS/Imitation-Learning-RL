{
 "cells": [
  {
   "cell_type": "code",
   "execution_count": 1,
   "metadata": {
    "ExecuteTime": {
     "end_time": "2021-02-21T11:28:39.409784Z",
     "start_time": "2021-02-21T11:28:39.406613Z"
    }
   },
   "outputs": [
    {
     "output_type": "stream",
     "name": "stdout",
     "text": [
      "WARNING:tensorflow:From /home/aditya/miniconda3/lib/python3.8/site-packages/tensorflow/python/compat/v2_compat.py:96: disable_resource_variables (from tensorflow.python.ops.variable_scope) is deprecated and will be removed in a future version.\nInstructions for updating:\nnon-resource variables are not supported in the long term\n"
     ]
    }
   ],
   "source": [
    "import gym\n",
    "import pybullet_envs\n",
    "\n",
    "import ray\n",
    "from ray import tune\n",
    "from ray.rllib.agents.ppo import PPOTrainer\n",
    "from ray.tune.registry import register_env\n",
    "import time\n",
    "\n",
    "from low_level_env import LowLevelHumanoidEnv\n",
    "\n",
    "import timeit"
   ]
  },
  {
   "cell_type": "code",
   "execution_count": 2,
   "metadata": {
    "ExecuteTime": {
     "end_time": "2021-02-21T11:18:41.000904Z",
     "start_time": "2021-02-21T11:18:39.134117Z"
    }
   },
   "outputs": [
    {
     "output_type": "stream",
     "name": "stderr",
     "text": [
      "2021-03-23 22:11:20,723\tINFO services.py:1171 -- View the Ray dashboard at \u001b[1m\u001b[32mhttp://127.0.0.1:8265\u001b[39m\u001b[22m\n"
     ]
    },
    {
     "output_type": "execute_result",
     "data": {
      "text/plain": [
       "{'node_ip_address': '192.168.0.108',\n",
       " 'raylet_ip_address': '192.168.0.108',\n",
       " 'redis_address': '192.168.0.108:6379',\n",
       " 'object_store_address': '/tmp/ray/session_2021-03-23_22-11-20_326777_139500/sockets/plasma_store',\n",
       " 'raylet_socket_name': '/tmp/ray/session_2021-03-23_22-11-20_326777_139500/sockets/raylet',\n",
       " 'webui_url': '127.0.0.1:8265',\n",
       " 'session_dir': '/tmp/ray/session_2021-03-23_22-11-20_326777_139500',\n",
       " 'metrics_export_port': 65414,\n",
       " 'node_id': '1675e74bb356778cabe855df1d689699ab645d6b'}"
      ]
     },
     "metadata": {},
     "execution_count": 2
    }
   ],
   "source": [
    "ray.shutdown()\n",
    "ray.init(ignore_reinit_error=True)"
   ]
  },
  {
   "cell_type": "code",
   "execution_count": 3,
   "metadata": {},
   "outputs": [],
   "source": [
    "def make_env(env_config):\n",
    "    import pybullet_envs\n",
    "    return LowLevelHumanoidEnv()\n",
    "\n",
    "\n",
    "ENV = 'HumanoidBulletEnv-v0-Low'\n",
    "register_env(ENV, make_env)\n",
    "TARGET_REWARD = 2000"
   ]
  },
  {
   "cell_type": "code",
   "execution_count": 4,
   "metadata": {
    "ExecuteTime": {
     "end_time": "2021-02-21T11:18:42.702589Z",
     "start_time": "2021-02-21T11:18:42.700393Z"
    }
   },
   "outputs": [],
   "source": [
    "# def make_env(env_config):\n",
    "#     import pybullet_envs\n",
    "#     return gym.make('HumanoidBulletEnv-v0')\n",
    "\n",
    "# ENV = 'HumanoidBulletEnv-v0'\n",
    "# register_env(ENV, make_env)\n",
    "# TARGET_REWARD = 2000"
   ]
  },
  {
   "cell_type": "code",
   "execution_count": 4,
   "metadata": {
    "ExecuteTime": {
     "end_time": "2021-02-21T11:18:43.926655Z",
     "start_time": "2021-02-21T11:18:43.921502Z"
    }
   },
   "outputs": [],
   "source": [
    "\n"
   ]
  },
  {
   "cell_type": "code",
   "execution_count": 5,
   "metadata": {},
   "outputs": [],
   "source": [
    "# Train\n",
    "# tune.run(\n",
    "#     PPOTrainer,\n",
    "#     name=\"HWalk\",\n",
    "#     resume=False,\n",
    "#     checkpoint_at_end=True,\n",
    "#     checkpoint_freq=5,\n",
    "#     keep_checkpoints_num=50,\n",
    "#     checkpoint_score_attr=\"episode_reward_max\",\n",
    "#     stop={\"episode_reward_mean\": TARGET_REWARD},\n",
    "#     config={\n",
    "#         \"env\": ENV,\n",
    "#         \"num_workers\": 12,\n",
    "#         \"num_gpus\": 1,\n",
    "#         \"monitor\": True,\n",
    "#         \"evaluation_num_episodes\": 50,\n",
    "#         \"gamma\": 0.995,\n",
    "#         \"lambda\": 0.95,\n",
    "#         \"clip_param\": 0.2,\n",
    "#         \"kl_coeff\": 1.0,\n",
    "#         \"num_sgd_iter\": 20,\n",
    "#         \"lr\": .0001,\n",
    "#         \"sgd_minibatch_size\": 8000,\n",
    "#         \"train_batch_size\": 24000,\n",
    "#         \"model\": {\n",
    "#             \"fcnet_hiddens\": [256, 128, 64],\n",
    "#             \"fcnet_activation\": \"tanh\",\n",
    "#             \"free_log_std\": True,\n",
    "#         },\n",
    "#         \"batch_mode\": \"complete_episodes\",\n",
    "#         \"observation_filter\": \"MeanStdFilter\",\n",
    "#     }\n",
    "# )"
   ]
  },
  {
   "cell_type": "code",
   "execution_count": 6,
   "metadata": {
    "ExecuteTime": {
     "end_time": "2021-02-21T11:34:13.762207Z",
     "start_time": "2021-02-21T11:34:13.758788Z"
    }
   },
   "outputs": [],
   "source": [
    "config = {\n",
    "    \"env\": ENV,\n",
    "    \"num_workers\": 0,\n",
    "    \"num_gpus\": 1,\n",
    "    \"monitor\": False,\n",
    "    \"evaluation_num_episodes\": 50,\n",
    "    \"gamma\": 0.995,\n",
    "    \"lambda\": 0.95,\n",
    "    \"clip_param\": 0.2,\n",
    "    \"kl_coeff\": 1.0,\n",
    "    \"num_sgd_iter\": 20,\n",
    "    \"lr\": .0001,\n",
    "    \"sgd_minibatch_size\": 8000,\n",
    "    \"train_batch_size\": 24000,\n",
    "    \"model\": {\n",
    "        \"fcnet_hiddens\": [256, 128, 64],\n",
    "        \"fcnet_activation\": \"tanh\",\n",
    "        \"free_log_std\": True,\n",
    "    },\n",
    "    \"batch_mode\": \"complete_episodes\",\n",
    "    \"observation_filter\": \"MeanStdFilter\",\n",
    "}"
   ]
  },
  {
   "cell_type": "code",
   "execution_count": 7,
   "metadata": {
    "ExecuteTime": {
     "end_time": "2021-02-21T11:34:23.658743Z",
     "start_time": "2021-02-21T11:34:21.947713Z"
    }
   },
   "outputs": [
    {
     "output_type": "stream",
     "name": "stderr",
     "text": [
      "2021-03-23 22:11:25,720\tINFO trainer.py:591 -- Tip: set framework=tfe or the --eager flag to enable TensorFlow eager execution\n",
      "2021-03-23 22:11:25,721\tINFO trainer.py:616 -- Current log_level is WARN. For more information, set 'log_level': 'INFO' / 'DEBUG' or use the -v and -vv flags.\n",
      "WARNING:tensorflow:\n",
      "The following Variables were used a Lambda layer's call (lambda), but\n",
      "are not present in its tracked objects:\n",
      "  <tf.Variable 'default_policy/log_std:0' shape=(17,) dtype=float32>\n",
      "It is possible that this is intended behavior, but it is more likely\n",
      "an omission. This is a strong indication that this layer should be\n",
      "formulated as a subclassed Layer rather than a Lambda layer.\n",
      "2021-03-23 22:11:28,828\tWARNING util.py:43 -- Install gputil for GPU system monitoring.\n"
     ]
    }
   ],
   "source": [
    "agent = PPOTrainer(config)"
   ]
  },
  {
   "cell_type": "code",
   "execution_count": 8,
   "metadata": {
    "ExecuteTime": {
     "end_time": "2021-02-21T11:34:23.718852Z",
     "start_time": "2021-02-21T11:34:23.662899Z"
    }
   },
   "outputs": [
    {
     "output_type": "stream",
     "name": "stderr",
     "text": [
      "2021-03-23 22:11:48,764\tINFO trainable.py:328 -- Restored on 192.168.0.108 from checkpoint: /home/aditya/ray_results/HWalk_Low_Mimic/PPO_HumanoidBulletEnv-v0-Low_6a5d5_00000_0_2021-03-23_20-29-30/checkpoint_535/checkpoint-535\n",
      "2021-03-23 22:11:48,765\tINFO trainable.py:336 -- Current state after restoring: {'_iteration': 535, '_timesteps_total': None, '_time_total': 5562.900058031082, '_episodes_total': 184568}\n"
     ]
    }
   ],
   "source": [
    "# agent.restore(\"/home/aditya/ray_results/HWalk/PPO_HumanoidBulletEnv-v0_881b4_00000_0_2021-02-21_17-45-29/checkpoint_710/checkpoint-710\")\n",
    "# agent.restore(\"/home/aditya/ray_results/HWalk_Low/PPO_HumanoidBulletEnv-v0-Low_92895_00000_0_2021-03-20_09-42-47/checkpoint_430/checkpoint-430\")\n",
    "# agent.restore(\"/home/aditya/ray_results/HWalk_Low/PPO_HumanoidBulletEnv-v0-Low_5ab1c_00000_0_2021-03-20_11-42-54/checkpoint_805/checkpoint-805\")\n",
    "agent.restore(\"/home/aditya/ray_results/HWalk_Low_Mimic/PPO_HumanoidBulletEnv-v0-Low_6a5d5_00000_0_2021-03-23_20-29-30/checkpoint_535/checkpoint-535\")"
   ]
  },
  {
   "cell_type": "code",
   "execution_count": 9,
   "metadata": {
    "ExecuteTime": {
     "end_time": "2021-02-21T11:34:24.388800Z",
     "start_time": "2021-02-21T11:34:24.357761Z"
    }
   },
   "outputs": [
    {
     "output_type": "execute_result",
     "data": {
      "text/plain": [
       "(44, 256)"
      ]
     },
     "metadata": {},
     "execution_count": 9
    }
   ],
   "source": [
    "agent.get_weights()['default_policy']['default_policy/fc_1/kernel'].shape"
   ]
  },
  {
   "cell_type": "code",
   "execution_count": 10,
   "metadata": {
    "ExecuteTime": {
     "end_time": "2021-02-21T11:34:27.279702Z",
     "start_time": "2021-02-21T11:34:27.277621Z"
    }
   },
   "outputs": [
    {
     "output_type": "error",
     "ename": "NameError",
     "evalue": "name 'env' is not defined",
     "traceback": [
      "\u001b[0;31m---------------------------------------------------------------------------\u001b[0m",
      "\u001b[0;31mNameError\u001b[0m                                 Traceback (most recent call last)",
      "\u001b[0;32m<ipython-input-10-1baceacf4cb1>\u001b[0m in \u001b[0;36m<module>\u001b[0;34m\u001b[0m\n\u001b[0;32m----> 1\u001b[0;31m \u001b[0menv\u001b[0m\u001b[0;34m.\u001b[0m\u001b[0mclose\u001b[0m\u001b[0;34m(\u001b[0m\u001b[0;34m)\u001b[0m\u001b[0;34m\u001b[0m\u001b[0;34m\u001b[0m\u001b[0m\n\u001b[0m",
      "\u001b[0;31mNameError\u001b[0m: name 'env' is not defined"
     ]
    }
   ],
   "source": [
    "env.close()"
   ]
  },
  {
   "cell_type": "code",
   "execution_count": 11,
   "metadata": {
    "ExecuteTime": {
     "end_time": "2021-02-21T11:34:27.878328Z",
     "start_time": "2021-02-21T11:34:27.875522Z"
    }
   },
   "outputs": [],
   "source": [
    "env = make_env(ENV)"
   ]
  },
  {
   "cell_type": "code",
   "execution_count": 12,
   "metadata": {
    "ExecuteTime": {
     "end_time": "2021-02-21T11:34:29.035333Z",
     "start_time": "2021-02-21T11:34:28.794556Z"
    }
   },
   "outputs": [],
   "source": [
    "env.render()\n",
    "observation = env.reset()"
   ]
  },
  {
   "cell_type": "code",
   "execution_count": 12,
   "metadata": {
    "ExecuteTime": {
     "end_time": "2021-02-21T11:34:35.805841Z",
     "start_time": "2021-02-21T11:34:35.756326Z"
    }
   },
   "outputs": [
    {
     "output_type": "execute_result",
     "data": {
      "text/plain": [
       "array([ 0.14176384,  1.        , -0.6668723 ,  1.        , -0.49632737,\n",
       "       -1.        ,  0.7887472 ,  0.40421596,  0.10032001,  1.        ,\n",
       "       -0.37429866, -0.2658472 ,  1.        ,  0.5843158 , -0.34374365,\n",
       "        0.8275212 , -0.2380859 ], dtype=float32)"
      ]
     },
     "metadata": {},
     "execution_count": 12
    }
   ],
   "source": [
    "agent.compute_action(observation)"
   ]
  },
  {
   "cell_type": "code",
   "execution_count": 16,
   "metadata": {
    "ExecuteTime": {
     "start_time": "2021-02-21T11:34:38.024Z"
    }
   },
   "outputs": [],
   "source": [
    "rew = []\n",
    "for i in range(5):\n",
    "    env.render()\n",
    "    observation = env.reset()\n",
    "    done = False\n",
    "    tempRew = []\n",
    "    startFrame = env.frame\n",
    "    start = timeit.default_timer()\n",
    "    while(not done):\n",
    "        action = agent.compute_action(observation)\n",
    "        observation, reward, done, info = env.step(action)\n",
    "        # tempRew.append(env.calcJointScore())\n",
    "        time.sleep(1.0/60)\n",
    "    # stop = timeit.default_timer()\n",
    "    # rew.append((startFrame, tempRew, stop-start))"
   ]
  },
  {
   "cell_type": "code",
   "execution_count": 17,
   "metadata": {
    "ExecuteTime": {
     "start_time": "2021-02-02T06:12:20.066Z"
    }
   },
   "outputs": [],
   "source": [
    "env.close()"
   ]
  },
  {
   "cell_type": "code",
   "execution_count": 18,
   "metadata": {},
   "outputs": [],
   "source": [
    "ray.shutdown()"
   ]
  },
  {
   "cell_type": "code",
   "execution_count": 43,
   "metadata": {},
   "outputs": [
    {
     "output_type": "execute_result",
     "data": {
      "text/plain": [
       "23.287814890005393"
      ]
     },
     "metadata": {},
     "execution_count": 43
    }
   ],
   "source": [
    "rew[0][2]"
   ]
  },
  {
   "cell_type": "code",
   "execution_count": 44,
   "metadata": {},
   "outputs": [
    {
     "output_type": "execute_result",
     "data": {
      "text/plain": [
       "1000"
      ]
     },
     "metadata": {},
     "execution_count": 44
    }
   ],
   "source": [
    "len(rew[0][1])"
   ]
  },
  {
   "cell_type": "code",
   "execution_count": 45,
   "metadata": {},
   "outputs": [
    {
     "output_type": "execute_result",
     "data": {
      "text/plain": [
       "42.955326460481096"
      ]
     },
     "metadata": {},
     "execution_count": 45
    }
   ],
   "source": [
    "1000 / 23.28"
   ]
  },
  {
   "cell_type": "code",
   "execution_count": 47,
   "metadata": {},
   "outputs": [
    {
     "output_type": "execute_result",
     "data": {
      "text/plain": [
       "652.1739130434783"
      ]
     },
     "metadata": {},
     "execution_count": 47
    }
   ],
   "source": [
    "1000 * 15/23"
   ]
  },
  {
   "cell_type": "code",
   "execution_count": 50,
   "metadata": {},
   "outputs": [
    {
     "output_type": "stream",
     "name": "stdout",
     "text": [
      "235 640\n125 1000\n210 41\n140 56\n117 1000\n46 1000\n227 78\n47 1000\n169 1000\n187 43\n"
     ]
    }
   ],
   "source": [
    "for r in rew:\n",
    "    print(r[0], len(r[1]))"
   ]
  },
  {
   "cell_type": "code",
   "execution_count": 56,
   "metadata": {},
   "outputs": [
    {
     "output_type": "stream",
     "name": "stdout",
     "text": [
      "3.2890066819963977\n"
     ]
    }
   ],
   "source": [
    "start = timeit.default_timer()\n",
    "time.sleep(3.2873985)\n",
    "stop = timeit.default_timer()\n",
    "print(stop-start)"
   ]
  },
  {
   "cell_type": "code",
   "execution_count": null,
   "metadata": {},
   "outputs": [],
   "source": []
  }
 ],
 "metadata": {
  "kernelspec": {
   "display_name": "Python 3",
   "language": "python",
   "name": "python3"
  },
  "language_info": {
   "codemirror_mode": {
    "name": "ipython",
    "version": 3
   },
   "file_extension": ".py",
   "mimetype": "text/x-python",
   "name": "python",
   "nbconvert_exporter": "python",
   "pygments_lexer": "ipython3",
   "version": "3.8.3-final"
  },
  "varInspector": {
   "cols": {
    "lenName": 16,
    "lenType": 16,
    "lenVar": 40
   },
   "kernels_config": {
    "python": {
     "delete_cmd_postfix": "",
     "delete_cmd_prefix": "del ",
     "library": "var_list.py",
     "varRefreshCmd": "print(var_dic_list())"
    },
    "r": {
     "delete_cmd_postfix": ") ",
     "delete_cmd_prefix": "rm(",
     "library": "var_list.r",
     "varRefreshCmd": "cat(var_dic_list()) "
    }
   },
   "types_to_exclude": [
    "module",
    "function",
    "builtin_function_or_method",
    "instance",
    "_Feature"
   ],
   "window_display": false
  }
 },
 "nbformat": 4,
 "nbformat_minor": 4
}