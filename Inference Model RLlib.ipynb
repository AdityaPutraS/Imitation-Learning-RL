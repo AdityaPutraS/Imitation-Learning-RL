{
 "cells": [
  {
   "cell_type": "code",
   "execution_count": 1,
   "metadata": {
    "ExecuteTime": {
     "end_time": "2021-02-21T11:28:39.409784Z",
     "start_time": "2021-02-21T11:28:39.406613Z"
    }
   },
   "outputs": [
    {
     "output_type": "stream",
     "name": "stdout",
     "text": [
      "WARNING:tensorflow:From /home/aditya/miniconda3/lib/python3.8/site-packages/tensorflow/python/compat/v2_compat.py:96: disable_resource_variables (from tensorflow.python.ops.variable_scope) is deprecated and will be removed in a future version.\nInstructions for updating:\nnon-resource variables are not supported in the long term\n"
     ]
    }
   ],
   "source": [
    "import gym\n",
    "from gym.spaces import Discrete, Tuple, Box\n",
    "import pybullet_envs\n",
    "import pybullet\n",
    "\n",
    "import ray\n",
    "from ray import tune\n",
    "from ray.tune import function\n",
    "from ray.rllib.agents.ppo import PPOTrainer\n",
    "from ray.tune.registry import register_env\n",
    "import time\n",
    "\n",
    "from low_level_env import LowLevelHumanoidEnv\n",
    "from hier_env import HierarchicalHumanoidEnv\n",
    "\n",
    "import timeit\n",
    "\n",
    "from custom_callback import RewardLogCallback\n",
    "\n",
    "import numpy as np"
   ]
  },
  {
   "cell_type": "code",
   "execution_count": 2,
   "metadata": {
    "ExecuteTime": {
     "end_time": "2021-02-21T11:18:41.000904Z",
     "start_time": "2021-02-21T11:18:39.134117Z"
    }
   },
   "outputs": [
    {
     "output_type": "stream",
     "name": "stderr",
     "text": [
      "2021-03-25 18:23:02,672\tINFO services.py:1172 -- View the Ray dashboard at \u001b[1m\u001b[32mhttp://127.0.0.1:8266\u001b[39m\u001b[22m\n"
     ]
    },
    {
     "output_type": "execute_result",
     "data": {
      "text/plain": [
       "{'node_ip_address': '192.168.0.108',\n",
       " 'raylet_ip_address': '192.168.0.108',\n",
       " 'redis_address': '192.168.0.108:24805',\n",
       " 'object_store_address': '/tmp/ray/session_2021-03-25_18-23-02_174530_54367/sockets/plasma_store',\n",
       " 'raylet_socket_name': '/tmp/ray/session_2021-03-25_18-23-02_174530_54367/sockets/raylet',\n",
       " 'webui_url': '127.0.0.1:8266',\n",
       " 'session_dir': '/tmp/ray/session_2021-03-25_18-23-02_174530_54367',\n",
       " 'metrics_export_port': 57632,\n",
       " 'node_id': 'be484198333b27b75e555eb181074bccfe2a9e2aea081ab1c8ca7d0e'}"
      ]
     },
     "metadata": {},
     "execution_count": 2
    }
   ],
   "source": [
    "ray.shutdown()\n",
    "ray.init(ignore_reinit_error=True)"
   ]
  },
  {
   "cell_type": "code",
   "execution_count": 3,
   "metadata": {},
   "outputs": [],
   "source": [
    "def make_env_low(env_config):\n",
    "    import pybullet_envs\n",
    "    return LowLevelHumanoidEnv()\n",
    "\n",
    "def make_env_hier(env_config):\n",
    "    import pybullet_envs\n",
    "    return HierarchicalHumanoidEnv()\n",
    "\n",
    "def make_env(env_config):\n",
    "    import pybullet_envs\n",
    "    return gym.make('HumanoidBulletEnv-v0')\n",
    "\n",
    "\n",
    "\n",
    "ENV = 'HumanoidBulletEnv-v0'\n",
    "register_env(ENV, make_env)\n",
    "\n",
    "ENV_LOW = 'HumanoidBulletEnv-v0-Low'\n",
    "register_env(ENV_LOW, make_env_low)\n",
    "\n",
    "ENV_HIER = \"HumanoidBulletEnv-v0-Hier\"\n",
    "register_env(ENV_HIER, make_env_hier)\n",
    "\n",
    "TARGET_REWARD = 2000"
   ]
  },
  {
   "cell_type": "code",
   "execution_count": 4,
   "metadata": {},
   "outputs": [],
   "source": [
    "config = {\n",
    "        \"env\": ENV,\n",
    "        \"num_workers\": 0,\n",
    "        \"num_gpus\": 1,\n",
    "        \"monitor\": True,\n",
    "        \"evaluation_num_episodes\": 50,\n",
    "        \"gamma\": 0.995,\n",
    "        \"lambda\": 0.95,\n",
    "        \"clip_param\": 0.2,\n",
    "        \"kl_coeff\": 1.0,\n",
    "        \"num_sgd_iter\": 20,\n",
    "        \"lr\": .0005,\n",
    "        \"sgd_minibatch_size\": 8000,\n",
    "        \"train_batch_size\": 24000,\n",
    "        \"model\": {\n",
    "            \"fcnet_hiddens\": [256, 128, 64],\n",
    "            \"fcnet_activation\": \"tanh\",\n",
    "            \"free_log_std\": True,\n",
    "        },\n",
    "        \"batch_mode\": \"complete_episodes\",\n",
    "        \"observation_filter\": \"MeanStdFilter\",\n",
    "    }"
   ]
  },
  {
   "cell_type": "code",
   "execution_count": 5,
   "metadata": {
    "ExecuteTime": {
     "end_time": "2021-02-21T11:34:13.762207Z",
     "start_time": "2021-02-21T11:34:13.758788Z"
    }
   },
   "outputs": [],
   "source": [
    "config_low = {\n",
    "    \"env\": ENV_LOW,\n",
    "    \"num_workers\": 0,\n",
    "    \"num_gpus\": 1,\n",
    "    \"monitor\": False,\n",
    "    \"evaluation_num_episodes\": 50,\n",
    "    \"gamma\": 0.995,\n",
    "    \"lambda\": 0.95,\n",
    "    \"clip_param\": 0.2,\n",
    "    \"kl_coeff\": 1.0,\n",
    "    \"num_sgd_iter\": 20,\n",
    "    \"lr\": .0001,\n",
    "    \"sgd_minibatch_size\": 8000,\n",
    "    \"train_batch_size\": 24000,\n",
    "    \"model\": {\n",
    "        \"fcnet_hiddens\": [256, 128, 64],\n",
    "        \"fcnet_activation\": \"tanh\",\n",
    "        \"free_log_std\": True,\n",
    "    },\n",
    "    \"batch_mode\": \"complete_episodes\",\n",
    "    \"observation_filter\": \"MeanStdFilter\",\n",
    "}"
   ]
  },
  {
   "cell_type": "code",
   "execution_count": 10,
   "metadata": {},
   "outputs": [
    {
     "output_type": "stream",
     "name": "stderr",
     "text": [
      "2021-03-25 18:23:50,344\tWARNING sample.py:402 -- DeprecationWarning: wrapping <function policy_mapping_fn at 0x7fab4c4628b0> with tune.function() is no longer needed\n"
     ]
    }
   ],
   "source": [
    "def policy_mapping_fn(agent_id):\n",
    "    if agent_id.startswith(\"low_level_\"):\n",
    "        return \"low_level_policy\"\n",
    "    else:\n",
    "        return \"high_level_policy\"\n",
    "\n",
    "single_env_hier = HierarchicalHumanoidEnv()\n",
    "\n",
    "highLevelPolicy = (\n",
    "    None,\n",
    "    single_env_hier.high_level_obs_space,\n",
    "    single_env_hier.high_level_act_space,\n",
    "    {\n",
    "        \"model\": {\n",
    "            \"fcnet_hiddens\": [64, 4],\n",
    "            \"fcnet_activation\": \"tanh\",\n",
    "            \"free_log_std\": True,\n",
    "        },\n",
    "    },\n",
    ")\n",
    "\n",
    "lowLevelPolicy = (\n",
    "    None,\n",
    "    single_env_hier.low_level_obs_space,\n",
    "    single_env_hier.low_level_act_space,\n",
    "    {\n",
    "        \"model\": {\n",
    "            \"fcnet_hiddens\": [256, 128, 64],\n",
    "            \"fcnet_activation\": \"tanh\",\n",
    "            \"free_log_std\": True,\n",
    "        },\n",
    "    },\n",
    ")\n",
    "\n",
    "config_high = {\n",
    "    \"env\": ENV_HIER,\n",
    "    \"callbacks\": RewardLogCallback,\n",
    "    \"num_workers\": 0,\n",
    "    \"num_envs_per_worker\": 1,\n",
    "    \"multiagent\": {\n",
    "        \"policies\": {\n",
    "            \"high_level_policy\": highLevelPolicy,\n",
    "            \"low_level_policy\": lowLevelPolicy,\n",
    "        },\n",
    "        \"policy_mapping_fn\": function(policy_mapping_fn),\n",
    "    },\n",
    "    \"log_level\": \"WARN\",\n",
    "    \"num_gpus\": 1,\n",
    "    \"monitor\": True,\n",
    "    \"evaluation_num_episodes\": 50,\n",
    "    \"gamma\": 0.995,\n",
    "    \"lambda\": 0.95,\n",
    "    \"clip_param\": 0.2,\n",
    "    \"kl_coeff\": 1.0,\n",
    "    \"num_sgd_iter\": 20,\n",
    "    \"lr\": 0.001,\n",
    "    \"sgd_minibatch_size\": 8000,\n",
    "    \"train_batch_size\": 24000,\n",
    "    \"batch_mode\": \"complete_episodes\",\n",
    "    \"observation_filter\": \"MeanStdFilter\",\n",
    "}"
   ]
  },
  {
   "cell_type": "code",
   "execution_count": 11,
   "metadata": {
    "ExecuteTime": {
     "end_time": "2021-02-21T11:34:23.658743Z",
     "start_time": "2021-02-21T11:34:21.947713Z"
    },
    "tags": []
   },
   "outputs": [
    {
     "output_type": "stream",
     "name": "stderr",
     "text": [
      "2021-03-25 18:23:51,387\tWARNING deprecation.py:33 -- DeprecationWarning: `framestack` has been deprecated. Use `num_framestacks (int)` instead. This will raise an error in the future!\n",
      "WARNING:tensorflow:\n",
      "The following Variables were used a Lambda layer's call (lambda), but\n",
      "are not present in its tracked objects:\n",
      "  <tf.Variable 'high_level_policy/log_std:0' shape=(2,) dtype=float32>\n",
      "It is possible that this is intended behavior, but it is more likely\n",
      "an omission. This is a strong indication that this layer should be\n",
      "formulated as a subclassed Layer rather than a Lambda layer.\n",
      "2021-03-25 18:23:51,848\tWARNING deprecation.py:33 -- DeprecationWarning: `framestack` has been deprecated. Use `num_framestacks (int)` instead. This will raise an error in the future!\n",
      "WARNING:tensorflow:\n",
      "The following Variables were used a Lambda layer's call (lambda_1), but\n",
      "are not present in its tracked objects:\n",
      "  <tf.Variable 'low_level_policy/log_std:0' shape=(17,) dtype=float32>\n",
      "It is possible that this is intended behavior, but it is more likely\n",
      "an omission. This is a strong indication that this layer should be\n",
      "formulated as a subclassed Layer rather than a Lambda layer.\n",
      "2021-03-25 18:23:54,844\tWARNING util.py:47 -- Install gputil for GPU system monitoring.\n"
     ]
    }
   ],
   "source": [
    "# agent = PPOTrainer(config_low)\n",
    "agent = PPOTrainer(config_high)\n",
    "# agent = PPOTrainer(config)"
   ]
  },
  {
   "cell_type": "code",
   "execution_count": 13,
   "metadata": {
    "ExecuteTime": {
     "end_time": "2021-02-21T11:34:23.718852Z",
     "start_time": "2021-02-21T11:34:23.662899Z"
    }
   },
   "outputs": [
    {
     "output_type": "stream",
     "name": "stderr",
     "text": [
      "2021-03-25 18:24:24,313\tINFO trainable.py:371 -- Restored on 192.168.0.108 from checkpoint: /home/aditya/ray_results/HWalk_Hier_Mimic/PPO_HumanoidBulletEnv-v0-Hier_2aea3_00000_0_2021-03-25_15-10-23/checkpoint_1035/checkpoint-1035\n",
      "2021-03-25 18:24:24,313\tINFO trainable.py:379 -- Current state after restoring: {'_iteration': 1035, '_timesteps_total': None, '_time_total': 10803.83689570427, '_episodes_total': 270426}\n"
     ]
    }
   ],
   "source": [
    "# Baseline\n",
    "# agent.restore(\"/home/aditya/ray_results/HWalk/PPO_HumanoidBulletEnv-v0_881b4_00000_0_2021-02-21_17-45-29/checkpoint_710/checkpoint-710\")\n",
    "\n",
    "# Jalan dengan kaki kanan tegak\n",
    "# agent.restore(\"/home/aditya/ray_results/HWalk_Low_Mimic/PPO_HumanoidBulletEnv-v0-Low_c0e9e_00000_0_2021-03-23_13-00-57/checkpoint_750/checkpoint-750\")\n",
    "\n",
    "# Frame skip 5\n",
    "# agent.restore(\"/home/aditya/ray_results/HWalk_Low_Mimic/PPO_HumanoidBulletEnv-v0-Low_6a5d5_00000_0_2021-03-23_20-29-30/checkpoint_535/checkpoint-535\")\n",
    "\n",
    "# Frame skip 1\n",
    "# agent.restore(\"/home/aditya/ray_results/HWalk_Low_Mimic/PPO_HumanoidBulletEnv-v0-Low_32439_00000_0_2021-03-23_22-15-18/checkpoint_545/checkpoint-545\")\n",
    "\n",
    "\n",
    "# Hierarcical\n",
    "agent.restore(\"/home/aditya/ray_results/HWalk_Hier_Mimic/PPO_HumanoidBulletEnv-v0-Hier_2aea3_00000_0_2021-03-25_15-10-23/checkpoint_1035/checkpoint-1035\")"
   ]
  },
  {
   "cell_type": "code",
   "execution_count": 14,
   "metadata": {
    "ExecuteTime": {
     "end_time": "2021-02-21T11:34:24.388800Z",
     "start_time": "2021-02-21T11:34:24.357761Z"
    }
   },
   "outputs": [
    {
     "output_type": "execute_result",
     "data": {
      "text/plain": [
       "(44, 64)"
      ]
     },
     "metadata": {},
     "execution_count": 14
    }
   ],
   "source": [
    "# agent.get_weights()['default_policy']['default_policy/fc_1/kernel'].shape\n",
    "agent.get_weights()['high_level_policy']['high_level_policy/fc_1/kernel'].shape"
   ]
  },
  {
   "cell_type": "code",
   "execution_count": 72,
   "metadata": {
    "ExecuteTime": {
     "end_time": "2021-02-21T11:34:27.279702Z",
     "start_time": "2021-02-21T11:34:27.277621Z"
    }
   },
   "outputs": [],
   "source": [
    "env.close()"
   ]
  },
  {
   "cell_type": "code",
   "execution_count": 15,
   "metadata": {
    "ExecuteTime": {
     "end_time": "2021-02-21T11:34:27.878328Z",
     "start_time": "2021-02-21T11:34:27.875522Z"
    }
   },
   "outputs": [],
   "source": [
    "env = make_env_hier(ENV_HIER)\n",
    "# env = make_env_low(ENV_LOW)\n",
    "# env = make_env(ENV)"
   ]
  },
  {
   "cell_type": "code",
   "execution_count": 16,
   "metadata": {
    "ExecuteTime": {
     "end_time": "2021-02-21T11:34:29.035333Z",
     "start_time": "2021-02-21T11:34:28.794556Z"
    }
   },
   "outputs": [],
   "source": [
    "env.render()\n",
    "observation = env.reset()"
   ]
  },
  {
   "cell_type": "code",
   "execution_count": 24,
   "metadata": {
    "ExecuteTime": {
     "start_time": "2021-02-21T11:34:38.024Z"
    }
   },
   "outputs": [],
   "source": [
    "# rew = []\n",
    "# for i in range(5):\n",
    "#     env.render()\n",
    "#     observation = env.reset()\n",
    "    \n",
    "#     # pybullet.removeAllUserDebugItems()\n",
    "#     # pybullet.addUserDebugLine([0, 0, 0], [env.flat_env.walk_target_x, env.flat_env.walk_target_y, 0])\n",
    "\n",
    "#     done = False\n",
    "#     tempRew = []\n",
    "#     startFrame = env.frame\n",
    "#     start = timeit.default_timer()\n",
    "#     while(not done):\n",
    "#         action = agent.compute_action(observation)\n",
    "#         observation, reward, done, info = env.step(action)\n",
    "#         # tempRew.append(env.calcJointScore())\n",
    "#         time.sleep(1.0/120)\n",
    "#     # stop = timeit.default_timer()\n",
    "#     # rew.append((startFrame, tempRew, stop-start))\n",
    "\n",
    "rew = []\n",
    "for i in range(5):\n",
    "    env.render()\n",
    "    observation = env.reset()\n",
    "    done = False\n",
    "    tempRew = []\n",
    "    startFrame = env.frame\n",
    "    start = timeit.default_timer()\n",
    "\n",
    "    pybullet.removeAllUserDebugItems()\n",
    "    pybullet.addUserDebugLine([0, 0, 0], [env.flat_env.walk_target_x, env.flat_env.walk_target_y, 0], lineColorRGB=[1, 0, 0], lineWidth=5)\n",
    "    \n",
    "    while(not done):\n",
    "        action = dict()\n",
    "        if('high_level_agent' in observation):\n",
    "            action['high_level_agent'] = agent.compute_action(observation['high_level_agent'], policy_id='high_level_policy')\n",
    "        else:\n",
    "            action[env.low_level_agent_id] = agent.compute_action(observation[env.low_level_agent_id], policy_id='low_level_policy')\n",
    "        observation, reward, f_done, info = env.step(action)\n",
    "\n",
    "        # basePos = env.flat_env.parts['torso'].get_position()\n",
    "        # pybullet.removeAllUserDebugItems()\n",
    "        # pybullet.addUserDebugLine(basePos, basePos + env.targetHighLevel, lineColorRGB=[0, 1, 0], lineWidth=5)\n",
    "        done = f_done['__all__']\n",
    "        # tempRew.append(env.calcJointScore())\n",
    "        time.sleep(1.0/120)\n",
    "    # stop = timeit.default_timer()\n",
    "    # rew.append((startFrame, tempRew, stop-start))"
   ]
  },
  {
   "cell_type": "code",
   "execution_count": 25,
   "metadata": {
    "ExecuteTime": {
     "start_time": "2021-02-02T06:12:20.066Z"
    }
   },
   "outputs": [],
   "source": [
    "env.close()"
   ]
  },
  {
   "cell_type": "code",
   "execution_count": 26,
   "metadata": {},
   "outputs": [],
   "source": [
    "ray.shutdown()"
   ]
  },
  {
   "cell_type": "code",
   "execution_count": 27,
   "metadata": {},
   "outputs": [],
   "source": [
    "rng = np.random.default_rng()"
   ]
  },
  {
   "cell_type": "code",
   "execution_count": 52,
   "metadata": {},
   "outputs": [],
   "source": [
    "a = 3"
   ]
  },
  {
   "cell_type": "code",
   "execution_count": 53,
   "metadata": {},
   "outputs": [],
   "source": [
    "a = +2"
   ]
  },
  {
   "cell_type": "code",
   "execution_count": 54,
   "metadata": {},
   "outputs": [
    {
     "output_type": "execute_result",
     "data": {
      "text/plain": [
       "2"
      ]
     },
     "metadata": {},
     "execution_count": 54
    }
   ],
   "source": [
    "a"
   ]
  },
  {
   "cell_type": "code",
   "execution_count": null,
   "metadata": {},
   "outputs": [],
   "source": []
  }
 ],
 "metadata": {
  "kernelspec": {
   "display_name": "Python 3",
   "language": "python",
   "name": "python3"
  },
  "language_info": {
   "codemirror_mode": {
    "name": "ipython",
    "version": 3
   },
   "file_extension": ".py",
   "mimetype": "text/x-python",
   "name": "python",
   "nbconvert_exporter": "python",
   "pygments_lexer": "ipython3",
   "version": "3.8.3"
  },
  "varInspector": {
   "cols": {
    "lenName": 16,
    "lenType": 16,
    "lenVar": 40
   },
   "kernels_config": {
    "python": {
     "delete_cmd_postfix": "",
     "delete_cmd_prefix": "del ",
     "library": "var_list.py",
     "varRefreshCmd": "print(var_dic_list())"
    },
    "r": {
     "delete_cmd_postfix": ") ",
     "delete_cmd_prefix": "rm(",
     "library": "var_list.r",
     "varRefreshCmd": "cat(var_dic_list()) "
    }
   },
   "types_to_exclude": [
    "module",
    "function",
    "builtin_function_or_method",
    "instance",
    "_Feature"
   ],
   "window_display": false
  }
 },
 "nbformat": 4,
 "nbformat_minor": 4
}