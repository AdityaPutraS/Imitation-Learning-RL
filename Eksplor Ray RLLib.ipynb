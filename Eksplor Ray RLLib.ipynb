{
 "cells": [
  {
   "cell_type": "code",
   "execution_count": 2,
   "metadata": {
    "ExecuteTime": {
     "end_time": "2021-02-21T11:28:39.409784Z",
     "start_time": "2021-02-21T11:28:39.406613Z"
    }
   },
   "outputs": [],
   "source": [
    "import gym\n",
    "import pybullet_envs\n",
    "import pybullet\n",
    "\n",
    "import ray\n",
    "from ray import tune\n",
    "from ray.rllib.agents.ppo import PPOTrainer\n",
    "from ray.tune.registry import register_env\n",
    "import time\n",
    "from scipy.spatial.transform import Rotation as R\n",
    "import pandas as pd\n",
    "import numpy as np\n",
    "\n",
    "from low_level_env import LowLevelHumanoidEnv\n",
    "from hier_env import HierarchicalHumanoidEnv\n",
    "\n",
    "from pymo.parsers import BVHParser\n",
    "from pymo.preprocessing import *"
   ]
  },
  {
   "cell_type": "code",
   "execution_count": 3,
   "metadata": {},
   "outputs": [],
   "source": [
    "def make_env(env_config):\n",
    "    import pybullet_envs\n",
    "    return HierarchicalHumanoidEnv()\n",
    "\n",
    "\n",
    "ENV = 'HumanoidBulletEnv-v0-Hier'\n",
    "register_env(ENV, make_env)\n",
    "TARGET_REWARD = 2000"
   ]
  },
  {
   "cell_type": "code",
   "execution_count": 4,
   "metadata": {},
   "outputs": [],
   "source": [
    "parser = BVHParser()\n",
    "parsed_data = parser.parse('Dataset/CMU_Mocap_BVH/08/08_01.bvh')\n",
    "mp = MocapParameterizer('position')\n",
    "bvh_pos = mp.fit_transform([parsed_data])[0].values"
   ]
  },
  {
   "cell_type": "code",
   "execution_count": 5,
   "metadata": {},
   "outputs": [
    {
     "output_type": "execute_result",
     "data": {
      "text/plain": [
       "                           Hips_Xposition  Hips_Yposition  Hips_Zposition  \\\n",
       "0 days 00:00:00                    7.1998         15.3951        -37.2754   \n",
       "0 days 00:00:00.008333300          7.1998         15.3951        -37.2754   \n",
       "0 days 00:00:00.016666600          7.1954         15.3894        -37.0435   \n",
       "0 days 00:00:00.024999900          7.1905         15.3745        -36.8040   \n",
       "0 days 00:00:00.033333200          7.1935         15.3672        -36.5645   \n",
       "...                                   ...             ...             ...   \n",
       "0 days 00:00:02.274990900          7.2256         16.1408         26.9953   \n",
       "0 days 00:00:02.283324200          7.2354         16.1494         27.2323   \n",
       "0 days 00:00:02.291657500          7.2360         16.1650         27.4599   \n",
       "0 days 00:00:02.299990800          7.2319         16.1959         27.6841   \n",
       "0 days 00:00:02.308324100          7.2194         16.2385         27.9053   \n",
       "\n",
       "                           LowerBack_Xposition  LowerBack_Yposition  \\\n",
       "0 days 00:00:00                         7.1998              15.3951   \n",
       "0 days 00:00:00.008333300               7.1998              15.3951   \n",
       "0 days 00:00:00.016666600               7.1954              15.3894   \n",
       "0 days 00:00:00.024999900               7.1905              15.3745   \n",
       "0 days 00:00:00.033333200               7.1935              15.3672   \n",
       "...                                        ...                  ...   \n",
       "0 days 00:00:02.274990900               7.2256              16.1408   \n",
       "0 days 00:00:02.283324200               7.2354              16.1494   \n",
       "0 days 00:00:02.291657500               7.2360              16.1650   \n",
       "0 days 00:00:02.299990800               7.2319              16.1959   \n",
       "0 days 00:00:02.308324100               7.2194              16.2385   \n",
       "\n",
       "                           LowerBack_Zposition  Spine_Xposition  \\\n",
       "0 days 00:00:00                       -37.2754         7.209830   \n",
       "0 days 00:00:00.008333300             -37.2754         7.241606   \n",
       "0 days 00:00:00.016666600             -37.0435         7.250246   \n",
       "0 days 00:00:00.024999900             -36.8040         7.255434   \n",
       "0 days 00:00:00.033333200             -36.5645         7.264889   \n",
       "...                                        ...              ...   \n",
       "0 days 00:00:02.274990900              26.9953         7.191831   \n",
       "0 days 00:00:02.283324200              27.2323         7.197743   \n",
       "0 days 00:00:02.291657500              27.4599         7.185947   \n",
       "0 days 00:00:02.299990800              27.6841         7.187086   \n",
       "0 days 00:00:02.308324100              27.9053         7.176884   \n",
       "\n",
       "                           Spine_Yposition  Spine_Zposition  Spine1_Xposition  \\\n",
       "0 days 00:00:00                  17.400860       -37.418070          7.218910   \n",
       "0 days 00:00:00.008333300        17.400484       -37.133219          7.274167   \n",
       "0 days 00:00:00.016666600        17.394608       -36.903279          7.298927   \n",
       "0 days 00:00:00.024999900        17.379674       -36.667660          7.317149   \n",
       "0 days 00:00:00.033333200        17.372640       -36.435493          7.330707   \n",
       "...                                    ...              ...               ...   \n",
       "0 days 00:00:02.274990900        18.149988        27.069811          7.084194   \n",
       "0 days 00:00:02.283324200        18.158559        27.305715          7.074245   \n",
       "0 days 00:00:02.291657500        18.174995        27.429177          7.049802   \n",
       "0 days 00:00:02.299990800        18.205949        27.719058          7.048889   \n",
       "0 days 00:00:02.308324100        18.247465        27.981337          7.039144   \n",
       "\n",
       "                           ...  LeftLeg_Zposition  LeftFoot_Xposition  \\\n",
       "0 days 00:00:00            ...         -36.399380            8.662147   \n",
       "0 days 00:00:00.008333300  ...         -35.951809            7.915722   \n",
       "0 days 00:00:00.016666600  ...         -35.919873            7.922986   \n",
       "0 days 00:00:00.024999900  ...         -35.883560            7.940175   \n",
       "0 days 00:00:00.033333200  ...         -35.836634            7.959456   \n",
       "...                        ...                ...                 ...   \n",
       "0 days 00:00:02.274990900  ...          25.706442            8.167404   \n",
       "0 days 00:00:02.283324200  ...          26.158171            8.213478   \n",
       "0 days 00:00:02.291657500  ...          26.592371            8.264271   \n",
       "0 days 00:00:02.299990800  ...          27.017796            8.295847   \n",
       "0 days 00:00:02.308324100  ...          27.464825            8.309123   \n",
       "\n",
       "                           LeftFoot_Yposition  LeftFoot_Zposition  \\\n",
       "0 days 00:00:00                     -0.185983          -36.399380   \n",
       "0 days 00:00:00.008333300            0.608913          -39.139306   \n",
       "0 days 00:00:00.016666600            0.628395          -39.130001   \n",
       "0 days 00:00:00.024999900            0.638956          -39.123536   \n",
       "0 days 00:00:00.033333200            0.651586          -39.117457   \n",
       "...                                       ...                 ...   \n",
       "0 days 00:00:02.274990900            3.260247           20.336059   \n",
       "0 days 00:00:02.283324200            3.388311           20.626627   \n",
       "0 days 00:00:02.291657500            3.514026           20.919426   \n",
       "0 days 00:00:02.299990800            3.652337           21.223626   \n",
       "0 days 00:00:02.308324100            3.800313           21.559068   \n",
       "\n",
       "                           LeftToeBase_Xposition  LeftToeBase_Yposition  \\\n",
       "0 days 00:00:00                         8.655494              -0.566878   \n",
       "0 days 00:00:00.008333300               7.648375              -0.005262   \n",
       "0 days 00:00:00.016666600               7.617998              -0.008251   \n",
       "0 days 00:00:00.024999900               7.696464               0.002640   \n",
       "0 days 00:00:00.033333200               7.713964               0.001262   \n",
       "...                                          ...                    ...   \n",
       "0 days 00:00:02.274990900               8.150685               1.357677   \n",
       "0 days 00:00:02.283324200               8.229184               1.441191   \n",
       "0 days 00:00:02.291657500               8.320775               1.536207   \n",
       "0 days 00:00:02.299990800               8.400185               1.657992   \n",
       "0 days 00:00:02.308324100               8.463756               1.801027   \n",
       "\n",
       "                           LeftToeBase_Zposition  LeftToeBase_Nub_Xposition  \\\n",
       "0 days 00:00:00                       -34.429580                   8.655494   \n",
       "0 days 00:00:00.008333300             -37.248129                   7.512256   \n",
       "0 days 00:00:00.016666600             -37.251996                   7.454602   \n",
       "0 days 00:00:00.024999900             -37.236490                   7.590921   \n",
       "0 days 00:00:00.033333200             -37.235424                   7.614706   \n",
       "...                                          ...                        ...   \n",
       "0 days 00:00:02.274990900              20.972600                   8.137880   \n",
       "0 days 00:00:02.283324200              21.110068                   8.234341   \n",
       "0 days 00:00:02.291657500              21.251508                   8.349773   \n",
       "0 days 00:00:02.299990800              21.415823                   8.461191   \n",
       "0 days 00:00:02.308324100              21.623719                   8.562125   \n",
       "\n",
       "                           LeftToeBase_Nub_Yposition  \\\n",
       "0 days 00:00:00                            -0.566878   \n",
       "0 days 00:00:00.008333300                  -0.328603   \n",
       "0 days 00:00:00.016666600                  -0.441359   \n",
       "0 days 00:00:00.024999900                  -0.144527   \n",
       "0 days 00:00:00.033333200                  -0.090904   \n",
       "...                                              ...   \n",
       "0 days 00:00:02.274990900                   0.379781   \n",
       "0 days 00:00:02.283324200                   0.450145   \n",
       "0 days 00:00:02.291657500                   0.538876   \n",
       "0 days 00:00:02.299990800                   0.664399   \n",
       "0 days 00:00:02.308324100                   0.817719   \n",
       "\n",
       "                           LeftToeBase_Nub_Zposition  \n",
       "0 days 00:00:00                           -33.416880  \n",
       "0 days 00:00:00.008333300                 -36.298137  \n",
       "0 days 00:00:00.016666600                 -36.351285  \n",
       "0 days 00:00:00.024999900                 -36.240115  \n",
       "0 days 00:00:00.033333200                 -36.231823  \n",
       "...                                              ...  \n",
       "0 days 00:00:02.274990900                  21.235502  \n",
       "0 days 00:00:02.283324200                  21.318301  \n",
       "0 days 00:00:02.291657500                  21.424858  \n",
       "0 days 00:00:02.299990800                  21.601870  \n",
       "0 days 00:00:02.308324100                  21.845059  \n",
       "\n",
       "[278 rows x 114 columns]"
      ],
      "text/html": "<div>\n<style scoped>\n    .dataframe tbody tr th:only-of-type {\n        vertical-align: middle;\n    }\n\n    .dataframe tbody tr th {\n        vertical-align: top;\n    }\n\n    .dataframe thead th {\n        text-align: right;\n    }\n</style>\n<table border=\"1\" class=\"dataframe\">\n  <thead>\n    <tr style=\"text-align: right;\">\n      <th></th>\n      <th>Hips_Xposition</th>\n      <th>Hips_Yposition</th>\n      <th>Hips_Zposition</th>\n      <th>LowerBack_Xposition</th>\n      <th>LowerBack_Yposition</th>\n      <th>LowerBack_Zposition</th>\n      <th>Spine_Xposition</th>\n      <th>Spine_Yposition</th>\n      <th>Spine_Zposition</th>\n      <th>Spine1_Xposition</th>\n      <th>...</th>\n      <th>LeftLeg_Zposition</th>\n      <th>LeftFoot_Xposition</th>\n      <th>LeftFoot_Yposition</th>\n      <th>LeftFoot_Zposition</th>\n      <th>LeftToeBase_Xposition</th>\n      <th>LeftToeBase_Yposition</th>\n      <th>LeftToeBase_Zposition</th>\n      <th>LeftToeBase_Nub_Xposition</th>\n      <th>LeftToeBase_Nub_Yposition</th>\n      <th>LeftToeBase_Nub_Zposition</th>\n    </tr>\n  </thead>\n  <tbody>\n    <tr>\n      <th>0 days 00:00:00</th>\n      <td>7.1998</td>\n      <td>15.3951</td>\n      <td>-37.2754</td>\n      <td>7.1998</td>\n      <td>15.3951</td>\n      <td>-37.2754</td>\n      <td>7.209830</td>\n      <td>17.400860</td>\n      <td>-37.418070</td>\n      <td>7.218910</td>\n      <td>...</td>\n      <td>-36.399380</td>\n      <td>8.662147</td>\n      <td>-0.185983</td>\n      <td>-36.399380</td>\n      <td>8.655494</td>\n      <td>-0.566878</td>\n      <td>-34.429580</td>\n      <td>8.655494</td>\n      <td>-0.566878</td>\n      <td>-33.416880</td>\n    </tr>\n    <tr>\n      <th>0 days 00:00:00.008333300</th>\n      <td>7.1998</td>\n      <td>15.3951</td>\n      <td>-37.2754</td>\n      <td>7.1998</td>\n      <td>15.3951</td>\n      <td>-37.2754</td>\n      <td>7.241606</td>\n      <td>17.400484</td>\n      <td>-37.133219</td>\n      <td>7.274167</td>\n      <td>...</td>\n      <td>-35.951809</td>\n      <td>7.915722</td>\n      <td>0.608913</td>\n      <td>-39.139306</td>\n      <td>7.648375</td>\n      <td>-0.005262</td>\n      <td>-37.248129</td>\n      <td>7.512256</td>\n      <td>-0.328603</td>\n      <td>-36.298137</td>\n    </tr>\n    <tr>\n      <th>0 days 00:00:00.016666600</th>\n      <td>7.1954</td>\n      <td>15.3894</td>\n      <td>-37.0435</td>\n      <td>7.1954</td>\n      <td>15.3894</td>\n      <td>-37.0435</td>\n      <td>7.250246</td>\n      <td>17.394608</td>\n      <td>-36.903279</td>\n      <td>7.298927</td>\n      <td>...</td>\n      <td>-35.919873</td>\n      <td>7.922986</td>\n      <td>0.628395</td>\n      <td>-39.130001</td>\n      <td>7.617998</td>\n      <td>-0.008251</td>\n      <td>-37.251996</td>\n      <td>7.454602</td>\n      <td>-0.441359</td>\n      <td>-36.351285</td>\n    </tr>\n    <tr>\n      <th>0 days 00:00:00.024999900</th>\n      <td>7.1905</td>\n      <td>15.3745</td>\n      <td>-36.8040</td>\n      <td>7.1905</td>\n      <td>15.3745</td>\n      <td>-36.8040</td>\n      <td>7.255434</td>\n      <td>17.379674</td>\n      <td>-36.667660</td>\n      <td>7.317149</td>\n      <td>...</td>\n      <td>-35.883560</td>\n      <td>7.940175</td>\n      <td>0.638956</td>\n      <td>-39.123536</td>\n      <td>7.696464</td>\n      <td>0.002640</td>\n      <td>-37.236490</td>\n      <td>7.590921</td>\n      <td>-0.144527</td>\n      <td>-36.240115</td>\n    </tr>\n    <tr>\n      <th>0 days 00:00:00.033333200</th>\n      <td>7.1935</td>\n      <td>15.3672</td>\n      <td>-36.5645</td>\n      <td>7.1935</td>\n      <td>15.3672</td>\n      <td>-36.5645</td>\n      <td>7.264889</td>\n      <td>17.372640</td>\n      <td>-36.435493</td>\n      <td>7.330707</td>\n      <td>...</td>\n      <td>-35.836634</td>\n      <td>7.959456</td>\n      <td>0.651586</td>\n      <td>-39.117457</td>\n      <td>7.713964</td>\n      <td>0.001262</td>\n      <td>-37.235424</td>\n      <td>7.614706</td>\n      <td>-0.090904</td>\n      <td>-36.231823</td>\n    </tr>\n    <tr>\n      <th>...</th>\n      <td>...</td>\n      <td>...</td>\n      <td>...</td>\n      <td>...</td>\n      <td>...</td>\n      <td>...</td>\n      <td>...</td>\n      <td>...</td>\n      <td>...</td>\n      <td>...</td>\n      <td>...</td>\n      <td>...</td>\n      <td>...</td>\n      <td>...</td>\n      <td>...</td>\n      <td>...</td>\n      <td>...</td>\n      <td>...</td>\n      <td>...</td>\n      <td>...</td>\n      <td>...</td>\n    </tr>\n    <tr>\n      <th>0 days 00:00:02.274990900</th>\n      <td>7.2256</td>\n      <td>16.1408</td>\n      <td>26.9953</td>\n      <td>7.2256</td>\n      <td>16.1408</td>\n      <td>26.9953</td>\n      <td>7.191831</td>\n      <td>18.149988</td>\n      <td>27.069811</td>\n      <td>7.084194</td>\n      <td>...</td>\n      <td>25.706442</td>\n      <td>8.167404</td>\n      <td>3.260247</td>\n      <td>20.336059</td>\n      <td>8.150685</td>\n      <td>1.357677</td>\n      <td>20.972600</td>\n      <td>8.137880</td>\n      <td>0.379781</td>\n      <td>21.235502</td>\n    </tr>\n    <tr>\n      <th>0 days 00:00:02.283324200</th>\n      <td>7.2354</td>\n      <td>16.1494</td>\n      <td>27.2323</td>\n      <td>7.2354</td>\n      <td>16.1494</td>\n      <td>27.2323</td>\n      <td>7.197743</td>\n      <td>18.158559</td>\n      <td>27.305715</td>\n      <td>7.074245</td>\n      <td>...</td>\n      <td>26.158171</td>\n      <td>8.213478</td>\n      <td>3.388311</td>\n      <td>20.626627</td>\n      <td>8.229184</td>\n      <td>1.441191</td>\n      <td>21.110068</td>\n      <td>8.234341</td>\n      <td>0.450145</td>\n      <td>21.318301</td>\n    </tr>\n    <tr>\n      <th>0 days 00:00:02.291657500</th>\n      <td>7.2360</td>\n      <td>16.1650</td>\n      <td>27.4599</td>\n      <td>7.2360</td>\n      <td>16.1650</td>\n      <td>27.4599</td>\n      <td>7.185947</td>\n      <td>18.174995</td>\n      <td>27.429177</td>\n      <td>7.049802</td>\n      <td>...</td>\n      <td>26.592371</td>\n      <td>8.264271</td>\n      <td>3.514026</td>\n      <td>20.919426</td>\n      <td>8.320775</td>\n      <td>1.536207</td>\n      <td>21.251508</td>\n      <td>8.349773</td>\n      <td>0.538876</td>\n      <td>21.424858</td>\n    </tr>\n    <tr>\n      <th>0 days 00:00:02.299990800</th>\n      <td>7.2319</td>\n      <td>16.1959</td>\n      <td>27.6841</td>\n      <td>7.2319</td>\n      <td>16.1959</td>\n      <td>27.6841</td>\n      <td>7.187086</td>\n      <td>18.205949</td>\n      <td>27.719058</td>\n      <td>7.048889</td>\n      <td>...</td>\n      <td>27.017796</td>\n      <td>8.295847</td>\n      <td>3.652337</td>\n      <td>21.223626</td>\n      <td>8.400185</td>\n      <td>1.657992</td>\n      <td>21.415823</td>\n      <td>8.461191</td>\n      <td>0.664399</td>\n      <td>21.601870</td>\n    </tr>\n    <tr>\n      <th>0 days 00:00:02.308324100</th>\n      <td>7.2194</td>\n      <td>16.2385</td>\n      <td>27.9053</td>\n      <td>7.2194</td>\n      <td>16.2385</td>\n      <td>27.9053</td>\n      <td>7.176884</td>\n      <td>18.247465</td>\n      <td>27.981337</td>\n      <td>7.039144</td>\n      <td>...</td>\n      <td>27.464825</td>\n      <td>8.309123</td>\n      <td>3.800313</td>\n      <td>21.559068</td>\n      <td>8.463756</td>\n      <td>1.801027</td>\n      <td>21.623719</td>\n      <td>8.562125</td>\n      <td>0.817719</td>\n      <td>21.845059</td>\n    </tr>\n  </tbody>\n</table>\n<p>278 rows × 114 columns</p>\n</div>"
     },
     "metadata": {},
     "execution_count": 5
    }
   ],
   "source": [
    "bvh_pos"
   ]
  },
  {
   "cell_type": "code",
   "execution_count": 7,
   "metadata": {},
   "outputs": [],
   "source": [
    "def getNormalJointPos(df, joint, frame):\n",
    "    x = df.iloc[frame][joint + '_Xposition']\n",
    "    y = df.iloc[frame][joint + '_Yposition']\n",
    "    z = df.iloc[frame][joint + '_Zposition']\n",
    "    return np.array([x, y, z])\n",
    "\n",
    "def _getJointPos(df, joint, frame):\n",
    "    x = df.iloc[frame][joint + '_Xposition']\n",
    "    z = df.iloc[frame][joint + '_Zposition']\n",
    "    y = df.iloc[frame][joint + '_Yposition']\n",
    "    return np.array([z, x, y])/15\n",
    "\n",
    "def getJointPos(df, joint, frame):\n",
    "    xStart, yStart, zStart = _getJointPos(df, 'Hips', 1)\n",
    "    return _getJointPos(df, joint, frame) - np.array([xStart, yStart, 0.01])\n",
    "\n",
    "def getVectorFrom2Joint(df, j1, j2, frame):\n",
    "    return getJointPos(df, j2, frame) - getJointPos(df, j1, frame)"
   ]
  },
  {
   "cell_type": "code",
   "execution_count": 8,
   "metadata": {},
   "outputs": [],
   "source": [
    "endpoint = ['LeftLeg', 'LeftFoot', 'RightLeg', 'RightFoot']\n",
    "normalized_data = np.zeros((1, 12))\n",
    "for i in range(1, len(bvh_pos)):\n",
    "    basePos = _getJointPos(bvh_pos, 'Hips', i)\n",
    "    tmp = []\n",
    "    for ep in endpoint:\n",
    "        epPos = _getJointPos(bvh_pos, ep, i)\n",
    "        tmp = np.hstack((tmp, epPos - basePos))\n",
    "    normalized_data = np.vstack((normalized_data, tmp))\n",
    "normalized_data = normalized_data[1:]"
   ]
  },
  {
   "cell_type": "code",
   "execution_count": 9,
   "metadata": {},
   "outputs": [],
   "source": [
    "norm_df = pd.DataFrame(normalized_data, columns=['{}_{}position'.format(ep, axis) for ep in endpoint for axis in ['X', 'Y', 'Z']])"
   ]
  },
  {
   "cell_type": "code",
   "execution_count": 10,
   "metadata": {},
   "outputs": [
    {
     "output_type": "execute_result",
     "data": {
      "text/plain": [
       "   LeftLeg_Xposition  LeftLeg_Yposition  LeftLeg_Zposition  \\\n",
       "0           0.088239           0.078685          -0.559161   \n",
       "1           0.074908           0.080529          -0.558316   \n",
       "2           0.061363           0.083043          -0.557705   \n",
       "3           0.048524           0.084536          -0.557804   \n",
       "4           0.037088           0.085340          -0.559117   \n",
       "\n",
       "   LeftFoot_Xposition  LeftFoot_Yposition  LeftFoot_Zposition  \\\n",
       "0           -0.124260            0.047728           -0.985746   \n",
       "1           -0.139100            0.048506           -0.984067   \n",
       "2           -0.154636            0.049978           -0.982370   \n",
       "3           -0.170197            0.051064           -0.981041   \n",
       "4           -0.183678            0.051349           -0.981249   \n",
       "\n",
       "   RightLeg_Xposition  RightLeg_Yposition  RightLeg_Zposition  \\\n",
       "0            0.298626           -0.094182           -0.520820   \n",
       "1            0.304994           -0.091677           -0.518478   \n",
       "2            0.310303           -0.089263           -0.516289   \n",
       "3            0.314956           -0.087188           -0.513701   \n",
       "4            0.317215           -0.085837           -0.511406   \n",
       "\n",
       "   RightFoot_Xposition  RightFoot_Yposition  RightFoot_Zposition  \n",
       "0             0.084469            -0.048277            -0.947002  \n",
       "1             0.114122            -0.045435            -0.955550  \n",
       "2             0.144955            -0.042385            -0.963575  \n",
       "3             0.176789            -0.040134            -0.970098  \n",
       "4             0.207684            -0.038491            -0.975478  "
      ],
      "text/html": "<div>\n<style scoped>\n    .dataframe tbody tr th:only-of-type {\n        vertical-align: middle;\n    }\n\n    .dataframe tbody tr th {\n        vertical-align: top;\n    }\n\n    .dataframe thead th {\n        text-align: right;\n    }\n</style>\n<table border=\"1\" class=\"dataframe\">\n  <thead>\n    <tr style=\"text-align: right;\">\n      <th></th>\n      <th>LeftLeg_Xposition</th>\n      <th>LeftLeg_Yposition</th>\n      <th>LeftLeg_Zposition</th>\n      <th>LeftFoot_Xposition</th>\n      <th>LeftFoot_Yposition</th>\n      <th>LeftFoot_Zposition</th>\n      <th>RightLeg_Xposition</th>\n      <th>RightLeg_Yposition</th>\n      <th>RightLeg_Zposition</th>\n      <th>RightFoot_Xposition</th>\n      <th>RightFoot_Yposition</th>\n      <th>RightFoot_Zposition</th>\n    </tr>\n  </thead>\n  <tbody>\n    <tr>\n      <th>0</th>\n      <td>0.088239</td>\n      <td>0.078685</td>\n      <td>-0.559161</td>\n      <td>-0.124260</td>\n      <td>0.047728</td>\n      <td>-0.985746</td>\n      <td>0.298626</td>\n      <td>-0.094182</td>\n      <td>-0.520820</td>\n      <td>0.084469</td>\n      <td>-0.048277</td>\n      <td>-0.947002</td>\n    </tr>\n    <tr>\n      <th>1</th>\n      <td>0.074908</td>\n      <td>0.080529</td>\n      <td>-0.558316</td>\n      <td>-0.139100</td>\n      <td>0.048506</td>\n      <td>-0.984067</td>\n      <td>0.304994</td>\n      <td>-0.091677</td>\n      <td>-0.518478</td>\n      <td>0.114122</td>\n      <td>-0.045435</td>\n      <td>-0.955550</td>\n    </tr>\n    <tr>\n      <th>2</th>\n      <td>0.061363</td>\n      <td>0.083043</td>\n      <td>-0.557705</td>\n      <td>-0.154636</td>\n      <td>0.049978</td>\n      <td>-0.982370</td>\n      <td>0.310303</td>\n      <td>-0.089263</td>\n      <td>-0.516289</td>\n      <td>0.144955</td>\n      <td>-0.042385</td>\n      <td>-0.963575</td>\n    </tr>\n    <tr>\n      <th>3</th>\n      <td>0.048524</td>\n      <td>0.084536</td>\n      <td>-0.557804</td>\n      <td>-0.170197</td>\n      <td>0.051064</td>\n      <td>-0.981041</td>\n      <td>0.314956</td>\n      <td>-0.087188</td>\n      <td>-0.513701</td>\n      <td>0.176789</td>\n      <td>-0.040134</td>\n      <td>-0.970098</td>\n    </tr>\n    <tr>\n      <th>4</th>\n      <td>0.037088</td>\n      <td>0.085340</td>\n      <td>-0.559117</td>\n      <td>-0.183678</td>\n      <td>0.051349</td>\n      <td>-0.981249</td>\n      <td>0.317215</td>\n      <td>-0.085837</td>\n      <td>-0.511406</td>\n      <td>0.207684</td>\n      <td>-0.038491</td>\n      <td>-0.975478</td>\n    </tr>\n  </tbody>\n</table>\n</div>"
     },
     "metadata": {},
     "execution_count": 10
    }
   ],
   "source": [
    "norm_df.head()"
   ]
  },
  {
   "cell_type": "code",
   "execution_count": 11,
   "metadata": {},
   "outputs": [],
   "source": [
    "# norm_df.to_csv('Joints CSV/walk8_1JointVecFromHip.csv', index=False)"
   ]
  },
  {
   "cell_type": "code",
   "execution_count": 12,
   "metadata": {},
   "outputs": [
    {
     "output_type": "execute_result",
     "data": {
      "text/plain": [
       "array([ 0.08823941,  0.07868522, -0.55916118])"
      ]
     },
     "metadata": {},
     "execution_count": 12
    }
   ],
   "source": [
    "getNormalJointPos(norm_df, 'LeftLeg', 0)"
   ]
  },
  {
   "cell_type": "code",
   "execution_count": 13,
   "metadata": {},
   "outputs": [
    {
     "output_type": "execute_result",
     "data": {
      "text/plain": [
       "array([ 0.05840133,  0.10582506, -0.56122503])"
      ]
     },
     "metadata": {},
     "execution_count": 13
    }
   ],
   "source": [
    "getVectorFrom2Joint(bvh_pos, 'Hips', 'LeftLeg', 0)"
   ]
  },
  {
   "cell_type": "code",
   "execution_count": 14,
   "metadata": {},
   "outputs": [],
   "source": [
    "def quatFromJoints(joints, idx, joint_name):\n",
    "    x, y, z, w = joints.iloc[idx][joint_name + '.X'], joints.iloc[idx][joint_name +\n",
    "                                                   '.Y'], joints.iloc[idx][joint_name + '.Z'], joints.iloc[idx][joint_name + '.W']\n",
    "    return R.from_quat([x, y, z, w]).as_quat().tolist()\n",
    "\n",
    "def eulerFromJoints(joints, idx, joint_name, order='xyz'):\n",
    "    # return pybullet.getEulerFromQuaternion(quatFromJoints(joints, idx, joint_name))\n",
    "    x, y, z = [np.deg2rad(joints.iloc[idx][joint_name+o]) for o in ['.X', '.Y', '.Z']]\n",
    "    # return R.from_euler('zyx', [z, y, x]).as_euler(order)\n",
    "    return [x, y, z]"
   ]
  },
  {
   "cell_type": "code",
   "execution_count": 15,
   "metadata": {},
   "outputs": [],
   "source": [
    "def rotFrom2Vec(v1, v2):\n",
    "    rotAxis= np.cross(v1, v2)\n",
    "    rotAxis = rotAxis / np.linalg.norm(rotAxis)\n",
    "    rotAngle = v1.dot(v2) / (np.linalg.norm(v1) * np.linalg.norm(v2))\n",
    "    rotAngle = np.arccos(rotAngle)\n",
    "    if(rotAxis.all() == 0):\n",
    "        rotAxis = np.array([1, 0, 0])\n",
    "        if((v1 == v2).all()):\n",
    "            rotAngle = 0\n",
    "        else:\n",
    "            rotAngle = np.pi\n",
    "    return R.from_rotvec(rotAxis * rotAngle)"
   ]
  },
  {
   "cell_type": "code",
   "execution_count": 16,
   "metadata": {},
   "outputs": [
    {
     "output_type": "stream",
     "name": "stdout",
     "text": [
      "[-3.18715833 13.26330681 -1.85654086]\n[2. 1. 5.]\n"
     ]
    }
   ],
   "source": [
    "v1 = np.array([3, 3, 21])\n",
    "v2 = np.array([2, 1, 5])\n",
    "r = rotFrom2Vec(v1, v2)\n",
    "print(r.as_euler('xyz', degrees=True))\n",
    "print(r.apply(v1) / np.linalg.norm(v1) * np.linalg.norm(v2))"
   ]
  },
  {
   "cell_type": "code",
   "execution_count": 17,
   "metadata": {},
   "outputs": [],
   "source": [
    "def drawAxis():\n",
    "    xId = pybullet.addUserDebugLine([0, 0, 0], [10, 0, 0], lineColorRGB=[1, 0, 0], lineWidth=2)\n",
    "    yId = pybullet.addUserDebugLine([0, 0, 0], [0, 5, 0], lineColorRGB=[0, 1, 0], lineWidth=2)\n",
    "    zId = pybullet.addUserDebugLine([0, 0, 0], [0, 0, 15], lineColorRGB=[0, 0, 1], lineWidth=2)\n",
    "    return xId, yId, zId\n",
    "\n",
    "def drawLine2Joint(df, j1, j2, frame, color):\n",
    "    return pybullet.addUserDebugLine(getJointPos(df, j1, frame), getJointPos(df, j2, frame), lineColorRGB=color, lineWidth=5)\n",
    "\n",
    "def getVector2Parts(parts, p1, p2):\n",
    "    return parts[p2].get_position() - parts[p1].get_position()\n",
    "\n",
    "def getVector2Joint(df, j1, j2, frame):\n",
    "    return getJointPos(df, j2, frame) - getJointPos(df, j1, frame)\n",
    "\n",
    "def angle2Vec(v1, v2):\n",
    "    return np.arccos(v1.dot(v2)/(np.linalg.norm(v1) * np.linalg.norm(v2)))\n",
    "\n",
    "def drawLine2Parts(env, p1, p2, color):\n",
    "    delta = np.array([1, 0, 0])\n",
    "    return pybullet.addUserDebugLine(env.parts[p1].get_position() + delta, env.parts[p1].get_position() + delta, lineColorRGB=color, lineWidth=5)\n",
    "\n",
    "def drawLine(c1, c2, color):\n",
    "    return pybullet.addUserDebugLine(c1, c2, lineColorRGB=color, lineWidth=5)\n",
    "\n",
    "def draw2(p, color):\n",
    "    return drawLine([-3, 0, 0], env.flat_env.parts[p].get_position(), color)"
   ]
  },
  {
   "cell_type": "code",
   "execution_count": 54,
   "metadata": {
    "ExecuteTime": {
     "end_time": "2021-02-21T11:34:27.279702Z",
     "start_time": "2021-02-21T11:34:27.277621Z"
    }
   },
   "outputs": [],
   "source": [
    "env.close()"
   ]
  },
  {
   "cell_type": "code",
   "execution_count": 25,
   "metadata": {
    "ExecuteTime": {
     "end_time": "2021-02-21T11:34:27.878328Z",
     "start_time": "2021-02-21T11:34:27.875522Z"
    }
   },
   "outputs": [],
   "source": [
    "env = make_env(ENV)"
   ]
  },
  {
   "cell_type": "code",
   "execution_count": 26,
   "metadata": {
    "ExecuteTime": {
     "end_time": "2021-02-21T11:34:29.035333Z",
     "start_time": "2021-02-21T11:34:28.794556Z"
    }
   },
   "outputs": [
    {
     "output_type": "execute_result",
     "data": {
      "text/plain": [
       "(0, 1, 2)"
      ]
     },
     "metadata": {},
     "execution_count": 26
    }
   ],
   "source": [
    "env.render()\n",
    "observation = env.resetFromFrame(10)\n",
    "pybullet.removeAllUserDebugItems()\n",
    "drawAxis()"
   ]
  },
  {
   "cell_type": "code",
   "execution_count": 101,
   "metadata": {},
   "outputs": [],
   "source": [
    "observation = env.resetFromFrame(30)"
   ]
  },
  {
   "cell_type": "code",
   "execution_count": 53,
   "metadata": {},
   "outputs": [
    {
     "output_type": "execute_result",
     "data": {
      "text/plain": [
       "4"
      ]
     },
     "metadata": {},
     "execution_count": 53
    }
   ],
   "source": [
    "basePos = env.flat_env.parts['lwaist'].get_position()\n",
    "pybullet.removeAllUserDebugItems()\n",
    "\n",
    "target_pos = np.array([1, -1, 0])\n",
    "drawLine([0, 0, 0], target_pos, [0, 0, 0])\n",
    "r = R.from_euler('z', np.arctan2(target_pos[1], target_pos[0]))\n",
    "env.flat_env.parts['torso'].reset_orientation(r.as_quat())\n",
    "\n",
    "vll = basePos + r.apply(getNormalJointPos(norm_df, 'LeftLeg', 10))\n",
    "vlf = basePos + r.apply(getNormalJointPos(norm_df, 'LeftFoot', 10))\n",
    "drawLine(basePos, vll, [1, 0, 0])\n",
    "drawLine(basePos, vlf, [0, 1, 0])\n",
    "\n",
    "vrl = basePos + r.apply(getNormalJointPos(norm_df, 'RightLeg', 10))\n",
    "vrf = basePos + r.apply(getNormalJointPos(norm_df, 'RightFoot', 10))\n",
    "drawLine(basePos, vrl, [0, 0, 1])\n",
    "drawLine(basePos, vrf, [1, 1, 1])"
   ]
  },
  {
   "cell_type": "code",
   "execution_count": 63,
   "metadata": {},
   "outputs": [
    {
     "output_type": "execute_result",
     "data": {
      "text/plain": [
       "array([2, 3, 4, 5, 6, 7])"
      ]
     },
     "metadata": {},
     "execution_count": 63
    }
   ],
   "source": [
    "np.array([0, 1, 2, 3, 4, 5, 6, 7, 8, 9, 10])[2:2+6]"
   ]
  },
  {
   "cell_type": "code",
   "execution_count": 103,
   "metadata": {},
   "outputs": [],
   "source": [
    "v1 = env.flat_env.parts['left_foot'].get_position() \n",
    "v2 = basePos + getNormalJointPos(norm_df, 'LeftFoot', 10)"
   ]
  },
  {
   "cell_type": "code",
   "execution_count": 104,
   "metadata": {},
   "outputs": [
    {
     "output_type": "execute_result",
     "data": {
      "text/plain": [
       "4"
      ]
     },
     "metadata": {},
     "execution_count": 104
    }
   ],
   "source": [
    "drawLine([0, 0, 0], v1, [0, 0, 1])\n",
    "drawLine([0, 0, 0], v2, [0, 1, 0])\n",
    "drawLine(v1, v2, [1, 1, 1])"
   ]
  },
  {
   "cell_type": "code",
   "execution_count": 105,
   "metadata": {},
   "outputs": [
    {
     "output_type": "execute_result",
     "data": {
      "text/plain": [
       "0.23758328596822187"
      ]
     },
     "metadata": {},
     "execution_count": 105
    }
   ],
   "source": [
    "np.linalg.norm(v2 - v1)"
   ]
  },
  {
   "cell_type": "code",
   "execution_count": 65,
   "metadata": {},
   "outputs": [
    {
     "output_type": "execute_result",
     "data": {
      "text/plain": [
       "4"
      ]
     },
     "metadata": {},
     "execution_count": 65
    }
   ],
   "source": [
    "drawLine(v1, v2, [1, 1, 1])"
   ]
  },
  {
   "cell_type": "code",
   "execution_count": 26,
   "metadata": {},
   "outputs": [
    {
     "output_type": "execute_result",
     "data": {
      "text/plain": [
       "array([ 3.4999999e-01, -1.3717048e-05,  1.0000000e+00,  0.0000000e+00,\n",
       "        0.0000000e+00,  0.0000000e+00,  0.0000000e+00, -0.0000000e+00,\n",
       "        7.1336195e-02,  0.0000000e+00,  5.1822627e-01,  0.0000000e+00,\n",
       "        1.2700889e-02,  0.0000000e+00,  1.1723903e+00,  0.0000000e+00,\n",
       "        4.3820977e-01,  0.0000000e+00,  4.4546205e-01,  0.0000000e+00,\n",
       "        5.5154860e-01,  0.0000000e+00,  9.6816510e-02,  0.0000000e+00,\n",
       "        3.9674813e-01,  0.0000000e+00,  4.4077528e-01,  0.0000000e+00,\n",
       "        1.2652647e-01,  0.0000000e+00,  1.2998933e-01,  0.0000000e+00,\n",
       "        1.6158226e-01,  0.0000000e+00,  2.4842025e-01,  0.0000000e+00,\n",
       "       -1.5762837e-01,  0.0000000e+00, -2.1543621e-01,  0.0000000e+00,\n",
       "        2.8703377e-01,  0.0000000e+00,  0.0000000e+00,  0.0000000e+00],\n",
       "      dtype=float32)"
      ]
     },
     "metadata": {},
     "execution_count": 26
    }
   ],
   "source": [
    "env.resetFromFrame(50)"
   ]
  },
  {
   "cell_type": "code",
   "execution_count": 29,
   "metadata": {},
   "outputs": [],
   "source": [
    "env.close()"
   ]
  },
  {
   "cell_type": "code",
   "execution_count": 30,
   "metadata": {},
   "outputs": [],
   "source": [
    "# pybullet.removeAllUserDebugItems()\n",
    "# idx = 100\n",
    "# v1 = getVector2Parts(env.flat_env.parts, 'link0_15', 'link0_19')\n",
    "# v2 = getVector2Joint(bvh_pos, 'LeftUpLeg', 'LeftLeg', idx)\n",
    "\n",
    "# r = rotFrom2Vec(v1, v2)\n",
    "# rE = r.as_euler('xyz')\n",
    "# print(rE)\n",
    "\n",
    "# jx = env.flat_env.jdict['left_hip_x'].get_position()\n",
    "# jy = env.flat_env.jdict['left_hip_y'].get_position()\n",
    "# jz = env.flat_env.jdict['left_hip_z'].get_position()\n",
    "\n",
    "# env.flat_env.jdict['left_hip_x'].set_state(jx - rE[0], 0)\n",
    "# env.flat_env.jdict['left_hip_y'].set_state(jy + rE[1], 0)\n",
    "# env.flat_env.jdict['left_hip_z'].set_state(jz - rE[2], 0)\n",
    "\n",
    "# v11 = env.flat_env.parts['link0_15'].get_position()\n",
    "# v12 = env.flat_env.parts['link0_19'].get_position()\n",
    "\n",
    "# v21 = getJointPos(bvh_pos, 'LeftUpLeg', idx)\n",
    "# v22 = getJointPos(bvh_pos, 'LeftLeg', idx)\n",
    "\n",
    "# drawLine([-3, 0, 0], v11, [1, 1, 1])\n",
    "# drawLine([-3, 0, 0], v12, [0, 0, 1])\n",
    "# drawLine(v21, v21 + (v12- v11), [1, 1, 1])\n",
    "\n",
    "# drawLine([-3, 0, 0], v21, [1, 0, 0])\n",
    "# drawLine([-3, 0, 0], v22, [0, 1, 0])\n",
    "# drawLine(v21, v22, [1, 1, 0])"
   ]
  },
  {
   "cell_type": "code",
   "execution_count": 68,
   "metadata": {},
   "outputs": [],
   "source": [
    "def getRot(parts, l1, l2, df, j1, j2, frame):\n",
    "    v1 = getVector2Parts(parts, l1, l2)\n",
    "    v2 = getVector2Joint(df, j1, j2, frame)\n",
    "    return rotFrom2Vec(v1, v2).as_euler('xyz')\n",
    "\n",
    "def moveJoint(l1, l2, j1, j2, frame, part_name, weight, index):\n",
    "    rot = getRot(env.flat_env.parts, l1, l2, bvh_pos, j1, j2, frame)\n",
    "    cur_pos = [env.flat_env.jdict[p].get_position() for p in part_name]\n",
    "    \n",
    "    pos = []\n",
    "    for i, idx in enumerate(index):\n",
    "        joint_pos = cur_pos[i] + rot[idx] * weight[i]\n",
    "        env.flat_env.jdict[part_name[i]].set_state(joint_pos, 0)\n",
    "        pos.append(joint_pos)\n",
    "    return pos\n",
    "\n",
    "def setJoint(frame):\n",
    "    rightHipX, rightHipY, rightHipZ = moveJoint('link0_8', 'link0_12', 'RightUpLeg', 'RightLeg', frame, ['right_hip_x', 'right_hip_y', 'right_hip_z'], [1, 1, 1], [0, 1, 2])\n",
    "    rightKnee = moveJoint('link0_12', 'right_foot', 'RightLeg', 'RightFoot', frame, ['right_knee'], [-1], [1])[0]\n",
    "\n",
    "    leftHipX, leftHipY,leftHipZ = moveJoint('link0_15', 'link0_19', 'LeftUpLeg', 'LeftLeg', frame, ['left_hip_x', 'left_hip_y', 'left_hip_z'], [-1, 1, -1], [0, 1, 2])\n",
    "    leftKnee = moveJoint('link0_19', 'left_foot', 'LeftLeg', 'LeftFoot', frame, ['left_knee'], [-1], [1])[0]\n",
    "    return [rightHipX, rightHipY, rightHipZ, rightKnee, leftHipX, leftHipY, leftHipZ, leftKnee]"
   ]
  },
  {
   "cell_type": "code",
   "execution_count": 95,
   "metadata": {},
   "outputs": [],
   "source": [
    "env = make_env(ENV)\n",
    "env.render()\n",
    "observation = env.resetNonFrame()\n",
    "pybullet.removeAllUserDebugItems()\n",
    "drawAxis()\n",
    "\n",
    "joint_data = []\n",
    "for i in range(1, 100):\n",
    "    joint_data.append(setJoint(i))\n",
    "    time.sleep(1.0/20)\n",
    "env.close()"
   ]
  },
  {
   "cell_type": "code",
   "execution_count": 92,
   "metadata": {},
   "outputs": [],
   "source": [
    "joint_df = pd.DataFrame(joint_data, columns=['rightHipX', 'rightHipY', 'rightHipZ', 'rightKnee', 'leftHipX', 'leftHipY', 'leftHipZ', 'leftKnee'])"
   ]
  },
  {
   "cell_type": "code",
   "execution_count": 94,
   "metadata": {},
   "outputs": [
    {
     "output_type": "execute_result",
     "data": {
      "text/plain": [
       "    rightHipX  rightHipY  rightHipZ  rightKnee  leftHipX  leftHipY  leftHipZ  \\\n",
       "0    0.064196  -0.599307   0.036584  -1.028779  0.030262 -0.107818  0.067969   \n",
       "1    0.074723  -0.612231   0.042783  -1.000192  0.008741 -0.085250  0.068484   \n",
       "2    0.077187  -0.624273   0.043695  -0.954795  0.008774 -0.055518  0.070853   \n",
       "3    0.080630  -0.633907   0.045440  -0.904467  0.010291 -0.029381  0.072894   \n",
       "4    0.084916  -0.637582   0.048192  -0.846201  0.010385 -0.006985  0.074557   \n",
       "..        ...        ...        ...        ...       ...       ...       ...   \n",
       "94   0.071359   0.108791   0.200814  -0.905737 -0.104117 -0.637404  0.149173   \n",
       "95   0.064254   0.078321   0.200434  -0.962352 -0.102162 -0.622116  0.152206   \n",
       "96   0.056748   0.045629   0.199883  -1.016857 -0.099599 -0.605594  0.155717   \n",
       "97   0.049528   0.011006   0.199086  -1.068893 -0.096813 -0.587826  0.159440   \n",
       "98   0.041670  -0.024246   0.198140  -1.117726 -0.094259 -0.566543  0.163327   \n",
       "\n",
       "    leftKnee  \n",
       "0  -0.536350  \n",
       "1  -0.527270  \n",
       "2  -0.502908  \n",
       "3  -0.483312  \n",
       "4  -0.466005  \n",
       "..       ...  \n",
       "94 -0.729953  \n",
       "95 -0.738649  \n",
       "96 -0.742837  \n",
       "97 -0.742774  \n",
       "98 -0.739956  \n",
       "\n",
       "[99 rows x 8 columns]"
      ],
      "text/html": "<div>\n<style scoped>\n    .dataframe tbody tr th:only-of-type {\n        vertical-align: middle;\n    }\n\n    .dataframe tbody tr th {\n        vertical-align: top;\n    }\n\n    .dataframe thead th {\n        text-align: right;\n    }\n</style>\n<table border=\"1\" class=\"dataframe\">\n  <thead>\n    <tr style=\"text-align: right;\">\n      <th></th>\n      <th>rightHipX</th>\n      <th>rightHipY</th>\n      <th>rightHipZ</th>\n      <th>rightKnee</th>\n      <th>leftHipX</th>\n      <th>leftHipY</th>\n      <th>leftHipZ</th>\n      <th>leftKnee</th>\n    </tr>\n  </thead>\n  <tbody>\n    <tr>\n      <th>0</th>\n      <td>0.064196</td>\n      <td>-0.599307</td>\n      <td>0.036584</td>\n      <td>-1.028779</td>\n      <td>0.030262</td>\n      <td>-0.107818</td>\n      <td>0.067969</td>\n      <td>-0.536350</td>\n    </tr>\n    <tr>\n      <th>1</th>\n      <td>0.074723</td>\n      <td>-0.612231</td>\n      <td>0.042783</td>\n      <td>-1.000192</td>\n      <td>0.008741</td>\n      <td>-0.085250</td>\n      <td>0.068484</td>\n      <td>-0.527270</td>\n    </tr>\n    <tr>\n      <th>2</th>\n      <td>0.077187</td>\n      <td>-0.624273</td>\n      <td>0.043695</td>\n      <td>-0.954795</td>\n      <td>0.008774</td>\n      <td>-0.055518</td>\n      <td>0.070853</td>\n      <td>-0.502908</td>\n    </tr>\n    <tr>\n      <th>3</th>\n      <td>0.080630</td>\n      <td>-0.633907</td>\n      <td>0.045440</td>\n      <td>-0.904467</td>\n      <td>0.010291</td>\n      <td>-0.029381</td>\n      <td>0.072894</td>\n      <td>-0.483312</td>\n    </tr>\n    <tr>\n      <th>4</th>\n      <td>0.084916</td>\n      <td>-0.637582</td>\n      <td>0.048192</td>\n      <td>-0.846201</td>\n      <td>0.010385</td>\n      <td>-0.006985</td>\n      <td>0.074557</td>\n      <td>-0.466005</td>\n    </tr>\n    <tr>\n      <th>...</th>\n      <td>...</td>\n      <td>...</td>\n      <td>...</td>\n      <td>...</td>\n      <td>...</td>\n      <td>...</td>\n      <td>...</td>\n      <td>...</td>\n    </tr>\n    <tr>\n      <th>94</th>\n      <td>0.071359</td>\n      <td>0.108791</td>\n      <td>0.200814</td>\n      <td>-0.905737</td>\n      <td>-0.104117</td>\n      <td>-0.637404</td>\n      <td>0.149173</td>\n      <td>-0.729953</td>\n    </tr>\n    <tr>\n      <th>95</th>\n      <td>0.064254</td>\n      <td>0.078321</td>\n      <td>0.200434</td>\n      <td>-0.962352</td>\n      <td>-0.102162</td>\n      <td>-0.622116</td>\n      <td>0.152206</td>\n      <td>-0.738649</td>\n    </tr>\n    <tr>\n      <th>96</th>\n      <td>0.056748</td>\n      <td>0.045629</td>\n      <td>0.199883</td>\n      <td>-1.016857</td>\n      <td>-0.099599</td>\n      <td>-0.605594</td>\n      <td>0.155717</td>\n      <td>-0.742837</td>\n    </tr>\n    <tr>\n      <th>97</th>\n      <td>0.049528</td>\n      <td>0.011006</td>\n      <td>0.199086</td>\n      <td>-1.068893</td>\n      <td>-0.096813</td>\n      <td>-0.587826</td>\n      <td>0.159440</td>\n      <td>-0.742774</td>\n    </tr>\n    <tr>\n      <th>98</th>\n      <td>0.041670</td>\n      <td>-0.024246</td>\n      <td>0.198140</td>\n      <td>-1.117726</td>\n      <td>-0.094259</td>\n      <td>-0.566543</td>\n      <td>0.163327</td>\n      <td>-0.739956</td>\n    </tr>\n  </tbody>\n</table>\n<p>99 rows × 8 columns</p>\n</div>"
     },
     "metadata": {},
     "execution_count": 94
    }
   ],
   "source": [
    "joint_df"
   ]
  },
  {
   "cell_type": "code",
   "execution_count": 117,
   "metadata": {},
   "outputs": [],
   "source": [
    "joint_df.to_csv('Joints CSV/walk8_1JointPos.csv', index=False)"
   ]
  },
  {
   "cell_type": "code",
   "execution_count": 35,
   "metadata": {},
   "outputs": [],
   "source": [
    "# draw2('link0_8', [1, 0, 0]) # Kanan atas\n",
    "# draw2('link0_12', [1, 0, 0]) # Kanan lutut\n",
    "# draw2('right_foot', [1, 0, 0]) # Kanan telapak\n",
    "# draw2('link0_15', [0, 1, 0]) # Kiri atas\n",
    "# draw2('link0_19', [0, 1, 0]) # Kiri lutut\n",
    "# draw2('left_foot', [0, 1, 0]) # Kiri telapak"
   ]
  },
  {
   "cell_type": "code",
   "execution_count": 67,
   "metadata": {},
   "outputs": [],
   "source": [
    "pybullet.removeAllUserDebugItems()"
   ]
  },
  {
   "cell_type": "code",
   "execution_count": 146,
   "metadata": {},
   "outputs": [
    {
     "output_type": "execute_result",
     "data": {
      "text/plain": [
       "5"
      ]
     },
     "metadata": {},
     "execution_count": 146
    }
   ],
   "source": [
    "drawLine2Parts(env.flat_env, 'pelvis', 'left_thigh', [1, 1, 1])\n",
    "drawLine2Parts(env.flat_env, 'left_thigh', 'left_shin', [1, 1, 1])\n",
    "drawLine2Parts(env.flat_env, 'left_shin', 'left_foot', [1, 1, 1])\n",
    "\n",
    "drawLine2Parts(env.flat_env, 'pelvis', 'right_thigh', [0, 0, 1])\n",
    "drawLine2Parts(env.flat_env, 'right_thigh', 'right_shin', [0, 0, 1])\n",
    "drawLine2Parts(env.flat_env, 'right_shin', 'right_foot', [0, 0, 1])"
   ]
  },
  {
   "cell_type": "code",
   "execution_count": 36,
   "metadata": {},
   "outputs": [],
   "source": [
    "for i in range(1, 100):\n",
    "    drawLine2Joint(bvh_pos, 'Hips', 'LeftUpLeg', i, [1, 0, 0])\n",
    "    drawLine2Joint(bvh_pos, 'LeftUpLeg', 'LeftLeg', i, [1, 0, 0])\n",
    "    drawLine2Joint(bvh_pos, 'LeftLeg', 'LeftFoot', i, [1, 0, 0])\n",
    "    \n",
    "    drawLine2Joint(bvh_pos, 'Hips', 'RightUpLeg', i, [0, 1, 0])\n",
    "    drawLine2Joint(bvh_pos, 'RightUpLeg', 'RightLeg', i, [0, 1, 0])\n",
    "    drawLine2Joint(bvh_pos, 'RightLeg', 'RightFoot', i, [0, 1, 0])\n",
    "    time.sleep(1.0/30)\n",
    "    pybullet.removeAllUserDebugItems()"
   ]
  },
  {
   "cell_type": "code",
   "execution_count": 109,
   "metadata": {},
   "outputs": [],
   "source": [
    "def setEnv(df):\n",
    "    env.flat_env.jdict['right_knee'].set_state(df['rightKnee'], 0)\n",
    "\n",
    "    env.flat_env.jdict['right_hip_x'].set_state(df['rightHipX'], 0)\n",
    "    env.flat_env.jdict['right_hip_y'].set_state(df['rightHipY'], 0)\n",
    "    env.flat_env.jdict['right_hip_z'].set_state(df['rightHipZ'], 0)\n",
    "    \n",
    "    env.flat_env.jdict['left_knee'].set_state(df['leftKnee'], 0)\n",
    "\n",
    "    env.flat_env.jdict['left_hip_x'].set_state(df['leftHipX'], 0)\n",
    "    env.flat_env.jdict['left_hip_y'].set_state(df['leftHipY'], 0)\n",
    "    env.flat_env.jdict['left_hip_z'].set_state(df['leftHipZ'], 0)\n",
    "\n",
    "setEnv(joint_df.iloc[0])"
   ]
  },
  {
   "cell_type": "code",
   "execution_count": 111,
   "metadata": {},
   "outputs": [],
   "source": [
    "setEnv(joint_df.iloc[80])"
   ]
  },
  {
   "cell_type": "code",
   "execution_count": 114,
   "metadata": {
    "ExecuteTime": {
     "start_time": "2021-02-21T11:34:38.024Z"
    }
   },
   "outputs": [],
   "source": [
    "for i in range(10):\n",
    "    observation = env.resetNonFrame()\n",
    "    idx = 0\n",
    "    while(idx < len(joint_df)):\n",
    "        # action = agent.compute_action(observation)\n",
    "        # observation, reward, done, info = env.step(action)\n",
    "        setEnv(joint_df.iloc[idx])\n",
    "        idx += 1\n",
    "        time.sleep(1.0/30)"
   ]
  },
  {
   "cell_type": "code",
   "execution_count": 115,
   "metadata": {},
   "outputs": [],
   "source": [
    "env.close()"
   ]
  }
 ],
 "metadata": {
  "kernelspec": {
   "display_name": "Python 3",
   "language": "python",
   "name": "python3"
  },
  "language_info": {
   "codemirror_mode": {
    "name": "ipython",
    "version": 3
   },
   "file_extension": ".py",
   "mimetype": "text/x-python",
   "name": "python",
   "nbconvert_exporter": "python",
   "pygments_lexer": "ipython3",
   "version": "3.8.3"
  },
  "varInspector": {
   "cols": {
    "lenName": 16,
    "lenType": 16,
    "lenVar": 40
   },
   "kernels_config": {
    "python": {
     "delete_cmd_postfix": "",
     "delete_cmd_prefix": "del ",
     "library": "var_list.py",
     "varRefreshCmd": "print(var_dic_list())"
    },
    "r": {
     "delete_cmd_postfix": ") ",
     "delete_cmd_prefix": "rm(",
     "library": "var_list.r",
     "varRefreshCmd": "cat(var_dic_list()) "
    }
   },
   "types_to_exclude": [
    "module",
    "function",
    "builtin_function_or_method",
    "instance",
    "_Feature"
   ],
   "window_display": false
  }
 },
 "nbformat": 4,
 "nbformat_minor": 4
}