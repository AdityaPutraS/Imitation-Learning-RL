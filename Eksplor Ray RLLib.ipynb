{
 "cells": [
  {
   "cell_type": "code",
   "execution_count": 1,
   "metadata": {
    "ExecuteTime": {
     "end_time": "2021-02-21T11:28:39.409784Z",
     "start_time": "2021-02-21T11:28:39.406613Z"
    }
   },
   "outputs": [
    {
     "output_type": "stream",
     "name": "stdout",
     "text": [
      "WARNING:tensorflow:From /home/aditya/miniconda3/lib/python3.8/site-packages/tensorflow/python/compat/v2_compat.py:96: disable_resource_variables (from tensorflow.python.ops.variable_scope) is deprecated and will be removed in a future version.\nInstructions for updating:\nnon-resource variables are not supported in the long term\n"
     ]
    }
   ],
   "source": [
    "import gym\n",
    "import pybullet_envs\n",
    "import pybullet\n",
    "\n",
    "import ray\n",
    "from ray import tune\n",
    "from ray.rllib.agents.ppo import PPOTrainer\n",
    "from ray.tune.registry import register_env\n",
    "import time\n",
    "from scipy.spatial.transform import Rotation as R\n",
    "import pandas as pd\n",
    "import numpy as np\n",
    "\n",
    "from low_level_env import LowLevelHumanoidEnv\n",
    "from hier_env import HierarchicalHumanoidEnv\n",
    "\n",
    "from pymo.parsers import BVHParser\n",
    "from pymo.preprocessing import *\n",
    "\n",
    "from humanoid import CustomHumanoidRobot"
   ]
  },
  {
   "cell_type": "code",
   "execution_count": 2,
   "metadata": {},
   "outputs": [],
   "source": [
    "def make_env(env_config):\n",
    "    import pybullet_envs\n",
    "    return LowLevelHumanoidEnv(reference_name=\"motion09_03\")\n",
    "\n",
    "\n",
    "ENV = 'HumanoidBulletEnv-Low-v0'\n",
    "register_env(ENV, make_env)\n",
    "TARGET_REWARD = 2000"
   ]
  },
  {
   "cell_type": "code",
   "execution_count": 3,
   "metadata": {},
   "outputs": [],
   "source": [
    "parser = BVHParser()\n",
    "parsed_data = parser.parse('Dataset/CMU_Mocap_BVH/09/09_03.bvh')\n",
    "mp = MocapParameterizer('position')\n",
    "bvh_pos = mp.fit_transform([parsed_data])[0].values"
   ]
  },
  {
   "cell_type": "code",
   "execution_count": 4,
   "metadata": {},
   "outputs": [
    {
     "output_type": "stream",
     "name": "stdout",
     "text": [
      "Hips_Xposition\nHips_Yposition\nHips_Zposition\nLowerBack_Xposition\nLowerBack_Yposition\nLowerBack_Zposition\nSpine_Xposition\nSpine_Yposition\nSpine_Zposition\nSpine1_Xposition\nSpine1_Yposition\nSpine1_Zposition\nRightShoulder_Xposition\nRightShoulder_Yposition\nRightShoulder_Zposition\nRightArm_Xposition\nRightArm_Yposition\nRightArm_Zposition\nRightForeArm_Xposition\nRightForeArm_Yposition\nRightForeArm_Zposition\nRightHand_Xposition\nRightHand_Yposition\nRightHand_Zposition\nRThumb_Xposition\nRThumb_Yposition\nRThumb_Zposition\nRThumb_Nub_Xposition\nRThumb_Nub_Yposition\nRThumb_Nub_Zposition\nRightFingerBase_Xposition\nRightFingerBase_Yposition\nRightFingerBase_Zposition\nRightHandIndex1_Xposition\nRightHandIndex1_Yposition\nRightHandIndex1_Zposition\nRightHandIndex1_Nub_Xposition\nRightHandIndex1_Nub_Yposition\nRightHandIndex1_Nub_Zposition\nLeftShoulder_Xposition\nLeftShoulder_Yposition\nLeftShoulder_Zposition\nLeftArm_Xposition\nLeftArm_Yposition\nLeftArm_Zposition\nLeftForeArm_Xposition\nLeftForeArm_Yposition\nLeftForeArm_Zposition\nLeftHand_Xposition\nLeftHand_Yposition\nLeftHand_Zposition\nLThumb_Xposition\nLThumb_Yposition\nLThumb_Zposition\nLThumb_Nub_Xposition\nLThumb_Nub_Yposition\nLThumb_Nub_Zposition\nLeftFingerBase_Xposition\nLeftFingerBase_Yposition\nLeftFingerBase_Zposition\nLeftHandIndex1_Xposition\nLeftHandIndex1_Yposition\nLeftHandIndex1_Zposition\nLeftHandIndex1_Nub_Xposition\nLeftHandIndex1_Nub_Yposition\nLeftHandIndex1_Nub_Zposition\nNeck_Xposition\nNeck_Yposition\nNeck_Zposition\nNeck1_Xposition\nNeck1_Yposition\nNeck1_Zposition\nHead_Xposition\nHead_Yposition\nHead_Zposition\nHead_Nub_Xposition\nHead_Nub_Yposition\nHead_Nub_Zposition\nRHipJoint_Xposition\nRHipJoint_Yposition\nRHipJoint_Zposition\nRightUpLeg_Xposition\nRightUpLeg_Yposition\nRightUpLeg_Zposition\nRightLeg_Xposition\nRightLeg_Yposition\nRightLeg_Zposition\nRightFoot_Xposition\nRightFoot_Yposition\nRightFoot_Zposition\nRightToeBase_Xposition\nRightToeBase_Yposition\nRightToeBase_Zposition\nRightToeBase_Nub_Xposition\nRightToeBase_Nub_Yposition\nRightToeBase_Nub_Zposition\nLHipJoint_Xposition\nLHipJoint_Yposition\nLHipJoint_Zposition\nLeftUpLeg_Xposition\nLeftUpLeg_Yposition\nLeftUpLeg_Zposition\nLeftLeg_Xposition\nLeftLeg_Yposition\nLeftLeg_Zposition\nLeftFoot_Xposition\nLeftFoot_Yposition\nLeftFoot_Zposition\nLeftToeBase_Xposition\nLeftToeBase_Yposition\nLeftToeBase_Zposition\nLeftToeBase_Nub_Xposition\nLeftToeBase_Nub_Yposition\nLeftToeBase_Nub_Zposition\n"
     ]
    }
   ],
   "source": [
    "for c in bvh_pos.columns:\n",
    "    print(c)"
   ]
  },
  {
   "cell_type": "code",
   "execution_count": 5,
   "metadata": {},
   "outputs": [],
   "source": [
    "def getNormalJointPos(df, joint, frame):\n",
    "    x = df.iloc[frame][joint + '_Xposition']\n",
    "    y = df.iloc[frame][joint + '_Yposition']\n",
    "    z = df.iloc[frame][joint + '_Zposition']\n",
    "    return np.array([x, y, z])\n",
    "\n",
    "def _getJointPos(df, joint, frame):\n",
    "    x = df.iloc[frame][joint + '_Xposition']\n",
    "    z = df.iloc[frame][joint + '_Zposition']\n",
    "    y = df.iloc[frame][joint + '_Yposition']\n",
    "    return np.array([z, x, y])/17\n",
    "\n",
    "def getJointPos(df, joint, frame):\n",
    "    xStart, yStart, zStart = _getJointPos(df, 'Hips', 1)\n",
    "    return _getJointPos(df, joint, frame) - np.array([xStart, yStart, 0.01])\n",
    "\n",
    "def getVectorFrom2Joint(df, j1, j2, frame):\n",
    "    return getJointPos(df, j2, frame) - getJointPos(df, j1, frame)"
   ]
  },
  {
   "cell_type": "code",
   "execution_count": 6,
   "metadata": {},
   "outputs": [],
   "source": [
    "endpoint = ['LeftLeg', 'LeftFoot', 'RightLeg', 'RightFoot', 'RightShoulder', 'RightArm', 'RightForeArm', 'RightHand', 'LeftShoulder', 'LeftArm', 'LeftForeArm', 'LeftHand', 'RightToeBase', 'LeftToeBase']\n",
    "normalized_data = np.zeros((1, 3 * len(endpoint)))\n",
    "for i in range(1, len(bvh_pos)):\n",
    "    basePos = _getJointPos(bvh_pos, 'Hips', i)\n",
    "    tmp = []\n",
    "    for ep in endpoint:\n",
    "        epPos = _getJointPos(bvh_pos, ep, i)\n",
    "        tmp = np.hstack((tmp, epPos - basePos))\n",
    "    normalized_data = np.vstack((normalized_data, tmp))\n",
    "normalized_data = normalized_data[1:]"
   ]
  },
  {
   "cell_type": "code",
   "execution_count": 7,
   "metadata": {},
   "outputs": [],
   "source": [
    "norm_df = pd.DataFrame(normalized_data, columns=['{}_{}position'.format(ep, axis) for ep in endpoint for axis in ['X', 'Y', 'Z']])"
   ]
  },
  {
   "cell_type": "code",
   "execution_count": 8,
   "metadata": {},
   "outputs": [
    {
     "output_type": "execute_result",
     "data": {
      "text/plain": [
       "   LeftLeg_Xposition  LeftLeg_Yposition  LeftLeg_Zposition  \\\n",
       "0           0.132066           0.058209          -0.539438   \n",
       "1           0.114431           0.056799          -0.542626   \n",
       "2           0.096141           0.056069          -0.544677   \n",
       "3           0.076973           0.056302          -0.545964   \n",
       "4           0.056707           0.056930          -0.546975   \n",
       "\n",
       "   LeftFoot_Xposition  LeftFoot_Yposition  LeftFoot_Zposition  \\\n",
       "0           -0.111781            0.021125           -0.920638   \n",
       "1           -0.138951            0.019221           -0.917507   \n",
       "2           -0.163915            0.017527           -0.914860   \n",
       "3           -0.189943            0.017096           -0.911162   \n",
       "4           -0.216218            0.018315           -0.907768   \n",
       "\n",
       "   RightLeg_Xposition  RightLeg_Yposition  RightLeg_Zposition  \\\n",
       "0            0.234594           -0.114282           -0.500467   \n",
       "1            0.252191           -0.114436           -0.491098   \n",
       "2            0.268597           -0.114195           -0.481995   \n",
       "3            0.282271           -0.112644           -0.474022   \n",
       "4            0.293448           -0.110305           -0.466818   \n",
       "\n",
       "   RightFoot_Xposition  ...  LeftForeArm_Zposition  LeftHand_Xposition  \\\n",
       "0            -0.218909  ...              -0.030834            0.223964   \n",
       "1            -0.198343  ...              -0.032305            0.235206   \n",
       "2            -0.177090  ...              -0.032734            0.244698   \n",
       "3            -0.157003  ...              -0.032444            0.252601   \n",
       "4            -0.137418  ...              -0.031731            0.259607   \n",
       "\n",
       "   LeftHand_Yposition  LeftHand_Zposition  RightToeBase_Xposition  \\\n",
       "0            0.163998            0.031965               -0.248700   \n",
       "1            0.159763            0.038723               -0.224966   \n",
       "2            0.154913            0.044777               -0.196305   \n",
       "3            0.150792            0.050529               -0.165442   \n",
       "4            0.147845            0.056203               -0.132572   \n",
       "\n",
       "   RightToeBase_Yposition  RightToeBase_Zposition  LeftToeBase_Xposition  \\\n",
       "0               -0.088121               -0.675125               0.005024   \n",
       "1               -0.086353               -0.690158              -0.023658   \n",
       "2               -0.085118               -0.708934              -0.050540   \n",
       "3               -0.083605               -0.728445              -0.079024   \n",
       "4               -0.082255               -0.748524              -0.108247   \n",
       "\n",
       "   LeftToeBase_Yposition  LeftToeBase_Zposition  \n",
       "0               0.015073              -0.973826  \n",
       "1               0.013861              -0.973968  \n",
       "2               0.012435              -0.975102  \n",
       "3               0.012018              -0.975817  \n",
       "4               0.012868              -0.977207  \n",
       "\n",
       "[5 rows x 42 columns]"
      ],
      "text/html": "<div>\n<style scoped>\n    .dataframe tbody tr th:only-of-type {\n        vertical-align: middle;\n    }\n\n    .dataframe tbody tr th {\n        vertical-align: top;\n    }\n\n    .dataframe thead th {\n        text-align: right;\n    }\n</style>\n<table border=\"1\" class=\"dataframe\">\n  <thead>\n    <tr style=\"text-align: right;\">\n      <th></th>\n      <th>LeftLeg_Xposition</th>\n      <th>LeftLeg_Yposition</th>\n      <th>LeftLeg_Zposition</th>\n      <th>LeftFoot_Xposition</th>\n      <th>LeftFoot_Yposition</th>\n      <th>LeftFoot_Zposition</th>\n      <th>RightLeg_Xposition</th>\n      <th>RightLeg_Yposition</th>\n      <th>RightLeg_Zposition</th>\n      <th>RightFoot_Xposition</th>\n      <th>...</th>\n      <th>LeftForeArm_Zposition</th>\n      <th>LeftHand_Xposition</th>\n      <th>LeftHand_Yposition</th>\n      <th>LeftHand_Zposition</th>\n      <th>RightToeBase_Xposition</th>\n      <th>RightToeBase_Yposition</th>\n      <th>RightToeBase_Zposition</th>\n      <th>LeftToeBase_Xposition</th>\n      <th>LeftToeBase_Yposition</th>\n      <th>LeftToeBase_Zposition</th>\n    </tr>\n  </thead>\n  <tbody>\n    <tr>\n      <th>0</th>\n      <td>0.132066</td>\n      <td>0.058209</td>\n      <td>-0.539438</td>\n      <td>-0.111781</td>\n      <td>0.021125</td>\n      <td>-0.920638</td>\n      <td>0.234594</td>\n      <td>-0.114282</td>\n      <td>-0.500467</td>\n      <td>-0.218909</td>\n      <td>...</td>\n      <td>-0.030834</td>\n      <td>0.223964</td>\n      <td>0.163998</td>\n      <td>0.031965</td>\n      <td>-0.248700</td>\n      <td>-0.088121</td>\n      <td>-0.675125</td>\n      <td>0.005024</td>\n      <td>0.015073</td>\n      <td>-0.973826</td>\n    </tr>\n    <tr>\n      <th>1</th>\n      <td>0.114431</td>\n      <td>0.056799</td>\n      <td>-0.542626</td>\n      <td>-0.138951</td>\n      <td>0.019221</td>\n      <td>-0.917507</td>\n      <td>0.252191</td>\n      <td>-0.114436</td>\n      <td>-0.491098</td>\n      <td>-0.198343</td>\n      <td>...</td>\n      <td>-0.032305</td>\n      <td>0.235206</td>\n      <td>0.159763</td>\n      <td>0.038723</td>\n      <td>-0.224966</td>\n      <td>-0.086353</td>\n      <td>-0.690158</td>\n      <td>-0.023658</td>\n      <td>0.013861</td>\n      <td>-0.973968</td>\n    </tr>\n    <tr>\n      <th>2</th>\n      <td>0.096141</td>\n      <td>0.056069</td>\n      <td>-0.544677</td>\n      <td>-0.163915</td>\n      <td>0.017527</td>\n      <td>-0.914860</td>\n      <td>0.268597</td>\n      <td>-0.114195</td>\n      <td>-0.481995</td>\n      <td>-0.177090</td>\n      <td>...</td>\n      <td>-0.032734</td>\n      <td>0.244698</td>\n      <td>0.154913</td>\n      <td>0.044777</td>\n      <td>-0.196305</td>\n      <td>-0.085118</td>\n      <td>-0.708934</td>\n      <td>-0.050540</td>\n      <td>0.012435</td>\n      <td>-0.975102</td>\n    </tr>\n    <tr>\n      <th>3</th>\n      <td>0.076973</td>\n      <td>0.056302</td>\n      <td>-0.545964</td>\n      <td>-0.189943</td>\n      <td>0.017096</td>\n      <td>-0.911162</td>\n      <td>0.282271</td>\n      <td>-0.112644</td>\n      <td>-0.474022</td>\n      <td>-0.157003</td>\n      <td>...</td>\n      <td>-0.032444</td>\n      <td>0.252601</td>\n      <td>0.150792</td>\n      <td>0.050529</td>\n      <td>-0.165442</td>\n      <td>-0.083605</td>\n      <td>-0.728445</td>\n      <td>-0.079024</td>\n      <td>0.012018</td>\n      <td>-0.975817</td>\n    </tr>\n    <tr>\n      <th>4</th>\n      <td>0.056707</td>\n      <td>0.056930</td>\n      <td>-0.546975</td>\n      <td>-0.216218</td>\n      <td>0.018315</td>\n      <td>-0.907768</td>\n      <td>0.293448</td>\n      <td>-0.110305</td>\n      <td>-0.466818</td>\n      <td>-0.137418</td>\n      <td>...</td>\n      <td>-0.031731</td>\n      <td>0.259607</td>\n      <td>0.147845</td>\n      <td>0.056203</td>\n      <td>-0.132572</td>\n      <td>-0.082255</td>\n      <td>-0.748524</td>\n      <td>-0.108247</td>\n      <td>0.012868</td>\n      <td>-0.977207</td>\n    </tr>\n  </tbody>\n</table>\n<p>5 rows × 42 columns</p>\n</div>"
     },
     "metadata": {},
     "execution_count": 8
    }
   ],
   "source": [
    "norm_df.head()"
   ]
  },
  {
   "cell_type": "code",
   "execution_count": 9,
   "metadata": {},
   "outputs": [],
   "source": [
    "# norm_df.to_csv('Joints CSV/walk8_1JointVecFromHip.csv', index=False)"
   ]
  },
  {
   "cell_type": "code",
   "execution_count": 10,
   "metadata": {},
   "outputs": [
    {
     "output_type": "execute_result",
     "data": {
      "text/plain": [
       "array([ 0.13206635,  0.0582094 , -0.53943767])"
      ]
     },
     "metadata": {},
     "execution_count": 10
    }
   ],
   "source": [
    "getNormalJointPos(norm_df, 'LeftLeg', 0)"
   ]
  },
  {
   "cell_type": "code",
   "execution_count": 11,
   "metadata": {},
   "outputs": [
    {
     "output_type": "execute_result",
     "data": {
      "text/plain": [
       "array([ 0.03751941,  0.08479418, -0.55291021])"
      ]
     },
     "metadata": {},
     "execution_count": 11
    }
   ],
   "source": [
    "getVectorFrom2Joint(bvh_pos, 'Hips', 'LeftLeg', 0)"
   ]
  },
  {
   "cell_type": "code",
   "execution_count": 12,
   "metadata": {},
   "outputs": [],
   "source": [
    "def quatFromJoints(joints, idx, joint_name):\n",
    "    x, y, z, w = joints.iloc[idx][joint_name + '.X'], joints.iloc[idx][joint_name +\n",
    "                                                   '.Y'], joints.iloc[idx][joint_name + '.Z'], joints.iloc[idx][joint_name + '.W']\n",
    "    return R.from_quat([x, y, z, w]).as_quat().tolist()\n",
    "\n",
    "def eulerFromJoints(joints, idx, joint_name, order='xyz'):\n",
    "    # return pybullet.getEulerFromQuaternion(quatFromJoints(joints, idx, joint_name))\n",
    "    x, y, z = [np.deg2rad(joints.iloc[idx][joint_name+o]) for o in ['.X', '.Y', '.Z']]\n",
    "    # return R.from_euler('zyx', [z, y, x]).as_euler(order)\n",
    "    return [x, y, z]"
   ]
  },
  {
   "cell_type": "code",
   "execution_count": 13,
   "metadata": {},
   "outputs": [],
   "source": [
    "def rotFrom2Vec(v1, v2):\n",
    "    rotAxis= np.cross(v1, v2)\n",
    "    rotAxis = rotAxis / np.linalg.norm(rotAxis)\n",
    "    rotAngle = v1.dot(v2) / (np.linalg.norm(v1) * np.linalg.norm(v2))\n",
    "    rotAngle = np.arccos(rotAngle)\n",
    "    if(np.all(rotAxis == 0)):\n",
    "        rotAxis = np.array([1, 0, 0])\n",
    "        if((v1 == v2).all()):\n",
    "            rotAngle = 0\n",
    "        else:\n",
    "            rotAngle = np.pi\n",
    "    return R.from_rotvec(rotAxis * rotAngle)"
   ]
  },
  {
   "cell_type": "code",
   "execution_count": 14,
   "metadata": {},
   "outputs": [
    {
     "output_type": "stream",
     "name": "stdout",
     "text": [
      "[-3.18715833 13.26330681 -1.85654086]\n[2. 1. 5.]\n"
     ]
    }
   ],
   "source": [
    "v1 = np.array([3, 3, 21])\n",
    "v2 = np.array([2, 1, 5])\n",
    "r = rotFrom2Vec(v1, v2)\n",
    "print(r.as_euler('xyz', degrees=True))\n",
    "print(r.apply(v1) / np.linalg.norm(v1) * np.linalg.norm(v2))"
   ]
  },
  {
   "cell_type": "code",
   "execution_count": 15,
   "metadata": {},
   "outputs": [],
   "source": [
    "def drawAxis():\n",
    "    xId = pybullet.addUserDebugLine([0, 0, 0], [10, 0, 0], lineColorRGB=[1, 0, 0], lineWidth=2)\n",
    "    yId = pybullet.addUserDebugLine([0, 0, 0], [0, 5, 0], lineColorRGB=[0, 1, 0], lineWidth=2)\n",
    "    zId = pybullet.addUserDebugLine([0, 0, 0], [0, 0, 15], lineColorRGB=[0, 0, 1], lineWidth=2)\n",
    "    return xId, yId, zId\n",
    "\n",
    "def drawLine2Joint(df, j1, j2, frame, color):\n",
    "    return pybullet.addUserDebugLine(getJointPos(df, j1, frame), getJointPos(df, j2, frame), lineColorRGB=color, lineWidth=5)\n",
    "\n",
    "def getVector2Parts(parts, p1, p2):\n",
    "    return parts[p2].get_position() - parts[p1].get_position()\n",
    "\n",
    "def getVector2Joint(df, j1, j2, frame):\n",
    "    return getJointPos(df, j2, frame) - getJointPos(df, j1, frame)\n",
    "\n",
    "def angle2Vec(v1, v2):\n",
    "    return np.arccos(v1.dot(v2)/(np.linalg.norm(v1) * np.linalg.norm(v2)))\n",
    "\n",
    "def drawLine2Parts(env, p1, p2, color):\n",
    "    delta = np.array([1, 0, 0])\n",
    "    return pybullet.addUserDebugLine(env.parts[p1].get_position() + delta, env.parts[p1].get_position() + delta, lineColorRGB=color, lineWidth=5)\n",
    "\n",
    "def drawLine(c1, c2, color):\n",
    "    return pybullet.addUserDebugLine(c1, c2, lineColorRGB=color, lineWidth=5)\n",
    "\n",
    "def draw2(p, color):\n",
    "    return drawLine([-3, 0, 0], env.flat_env.parts[p].get_position(), color)"
   ]
  },
  {
   "cell_type": "code",
   "execution_count": 26,
   "metadata": {
    "ExecuteTime": {
     "end_time": "2021-02-21T11:34:27.279702Z",
     "start_time": "2021-02-21T11:34:27.277621Z"
    }
   },
   "outputs": [],
   "source": [
    "env.close()"
   ]
  },
  {
   "cell_type": "code",
   "execution_count": null,
   "metadata": {},
   "outputs": [],
   "source": []
  },
  {
   "cell_type": "code",
   "execution_count": 16,
   "metadata": {
    "ExecuteTime": {
     "end_time": "2021-02-21T11:34:27.878328Z",
     "start_time": "2021-02-21T11:34:27.875522Z"
    }
   },
   "outputs": [],
   "source": [
    "env = LowLevelHumanoidEnv(reference_name=\"motion09_03\", customRobot=CustomHumanoidRobot())"
   ]
  },
  {
   "cell_type": "code",
   "execution_count": 17,
   "metadata": {
    "ExecuteTime": {
     "end_time": "2021-02-21T11:34:29.035333Z",
     "start_time": "2021-02-21T11:34:28.794556Z"
    }
   },
   "outputs": [
    {
     "output_type": "execute_result",
     "data": {
      "text/plain": [
       "(0, 1, 2)"
      ]
     },
     "metadata": {},
     "execution_count": 17
    }
   ],
   "source": [
    "env.render()\n",
    "observation = env.resetFromFrame(startFrame=0, resetYaw=0, startFromRef=True)\n",
    "pybullet.removeAllUserDebugItems()\n",
    "drawAxis()"
   ]
  },
  {
   "cell_type": "code",
   "execution_count": 18,
   "metadata": {},
   "outputs": [
    {
     "output_type": "execute_result",
     "data": {
      "text/plain": [
       "array([ 0.37      ,  0.12967981,  0.99155593,  1.87121713,  0.01112592,\n",
       "        0.45616901,  0.        ,  0.        ,  0.        ,  0.        ,\n",
       "        0.42857143,  0.        ,  0.        ,  0.        ,  0.370334  ,\n",
       "        0.        ,  0.42322886,  0.        ,  0.27030659,  0.        ,\n",
       "        0.23502456,  0.        , -0.13674481,  0.        , -0.46700674,\n",
       "        0.        ,  0.76509839,  0.        ,  0.29358155,  0.        ,\n",
       "        0.47564051,  0.        ,  0.45783779,  0.        ,  0.5352118 ,\n",
       "        0.        , -0.30779222,  0.        ,  0.68367165,  0.        ,\n",
       "        0.07500515,  0.        , -0.06618293,  0.        ,  0.37244859,\n",
       "        0.        ,  0.70054132,  0.        ,  0.05114443,  0.        ,\n",
       "       -0.36034118,  1.41404871,  0.25343593, -0.26496762,  0.19300883,\n",
       "       -2.19495334,  0.41009348, -0.02384195,  0.47840375,  1.47231628,\n",
       "        0.71364225,  0.26732834,  0.54626803,  2.624408  ,  0.29926521,\n",
       "        0.26844835,  0.33556914,  0.52268237,  0.70786169,  0.90855893,\n",
       "       -0.09009224, -0.75450141,  0.71880533,  0.2406697 ,  0.32695813,\n",
       "       -1.59339296, -0.3911886 , -0.17098475])"
      ]
     },
     "metadata": {},
     "execution_count": 18
    }
   ],
   "source": [
    "observation"
   ]
  },
  {
   "cell_type": "code",
   "execution_count": 25,
   "metadata": {},
   "outputs": [],
   "source": [
    "for i in range(100):\n",
    "    observation, reward, f_done, info = env.step(np.array([\n",
    "        0, 0, 0,\n",
    "        0, 0, 0, 0,\n",
    "        0, 0, 0, 0,\n",
    "        0, 0, 0,\n",
    "        0, 0, 0,\n",
    "        -1, 1, -1, 1\n",
    "    ]))\n",
    "    time.sleep(0.0165)"
   ]
  },
  {
   "cell_type": "code",
   "execution_count": 19,
   "metadata": {},
   "outputs": [],
   "source": [
    "basePos = env.flat_env.parts['lwaist'].get_position()\n",
    "pybullet.removeAllUserDebugItems()\n",
    "\n",
    "target_pos = np.array([1, 0, 0])\n",
    "drawLine([0, 0, 0], target_pos, [0, 0, 0])\n",
    "r = R.from_euler('z', np.arctan2(target_pos[1], target_pos[0]))\n",
    "env.flat_env.parts['torso'].reset_orientation(r.as_quat())\n",
    "env.flat_env.parts['torso'].reset_position([0, 1, 1.15])\n",
    "\n",
    "# vll = basePos + r.apply(getNormalJointPos(norm_df, 'LeftLeg', 10))\n",
    "# vlf = basePos + r.apply(getNormalJointPos(norm_df, 'LeftFoot', 10))\n",
    "# drawLine(basePos, vll, [1, 0, 0])\n",
    "# drawLine(basePos, vlf, [0, 1, 0])\n",
    "\n",
    "# vrl = basePos + r.apply(getNormalJointPos(norm_df, 'RightLeg', 10))\n",
    "# vrf = basePos + r.apply(getNormalJointPos(norm_df, 'RightFoot', 10))\n",
    "# drawLine(basePos, vrl, [0, 0, 1])\n",
    "# drawLine(basePos, vrf, [1, 1, 1])"
   ]
  },
  {
   "cell_type": "code",
   "execution_count": 19,
   "metadata": {},
   "outputs": [
    {
     "output_type": "execute_result",
     "data": {
      "text/plain": [
       "array([2, 3, 4, 5, 6, 7])"
      ]
     },
     "metadata": {},
     "execution_count": 19
    }
   ],
   "source": [
    "np.array([0, 1, 2, 3, 4, 5, 6, 7, 8, 9, 10])[2:2+6]"
   ]
  },
  {
   "cell_type": "code",
   "execution_count": 22,
   "metadata": {},
   "outputs": [],
   "source": [
    "v1 = env.flat_env.parts['left_foot'].get_position() \n",
    "v2 = basePos + getNormalJointPos(norm_df, 'LeftFoot', 10)"
   ]
  },
  {
   "cell_type": "code",
   "execution_count": 23,
   "metadata": {},
   "outputs": [
    {
     "output_type": "execute_result",
     "data": {
      "text/plain": [
       "3"
      ]
     },
     "metadata": {},
     "execution_count": 23
    }
   ],
   "source": [
    "drawLine([0, 0, 0], v1, [0, 0, 1])\n",
    "drawLine([0, 0, 0], v2, [0, 1, 0])\n",
    "drawLine(v1, v2, [1, 1, 1])"
   ]
  },
  {
   "cell_type": "code",
   "execution_count": 23,
   "metadata": {},
   "outputs": [
    {
     "output_type": "execute_result",
     "data": {
      "text/plain": [
       "0.19855298780610323"
      ]
     },
     "metadata": {},
     "execution_count": 23
    }
   ],
   "source": [
    "np.linalg.norm(v2 - v1)"
   ]
  },
  {
   "cell_type": "code",
   "execution_count": 24,
   "metadata": {},
   "outputs": [
    {
     "output_type": "execute_result",
     "data": {
      "text/plain": [
       "8"
      ]
     },
     "metadata": {},
     "execution_count": 24
    }
   ],
   "source": [
    "drawLine(v1, v2, [1, 1, 1])"
   ]
  },
  {
   "cell_type": "code",
   "execution_count": 26,
   "metadata": {},
   "outputs": [
    {
     "output_type": "execute_result",
     "data": {
      "text/plain": [
       "array([ 3.4999999e-01, -1.3717048e-05,  1.0000000e+00,  0.0000000e+00,\n",
       "        0.0000000e+00,  0.0000000e+00,  0.0000000e+00, -0.0000000e+00,\n",
       "        7.1336195e-02,  0.0000000e+00,  5.1822627e-01,  0.0000000e+00,\n",
       "        1.2700889e-02,  0.0000000e+00,  1.1723903e+00,  0.0000000e+00,\n",
       "        4.3820977e-01,  0.0000000e+00,  4.4546205e-01,  0.0000000e+00,\n",
       "        5.5154860e-01,  0.0000000e+00,  9.6816510e-02,  0.0000000e+00,\n",
       "        3.9674813e-01,  0.0000000e+00,  4.4077528e-01,  0.0000000e+00,\n",
       "        1.2652647e-01,  0.0000000e+00,  1.2998933e-01,  0.0000000e+00,\n",
       "        1.6158226e-01,  0.0000000e+00,  2.4842025e-01,  0.0000000e+00,\n",
       "       -1.5762837e-01,  0.0000000e+00, -2.1543621e-01,  0.0000000e+00,\n",
       "        2.8703377e-01,  0.0000000e+00,  0.0000000e+00,  0.0000000e+00],\n",
       "      dtype=float32)"
      ]
     },
     "metadata": {},
     "execution_count": 26
    }
   ],
   "source": [
    "env.resetFromFrame(50)"
   ]
  },
  {
   "cell_type": "code",
   "execution_count": 68,
   "metadata": {},
   "outputs": [],
   "source": [
    "env.close()"
   ]
  },
  {
   "cell_type": "code",
   "execution_count": 30,
   "metadata": {},
   "outputs": [],
   "source": [
    "# pybullet.removeAllUserDebugItems()\n",
    "# idx = 100\n",
    "# v1 = getVector2Parts(env.flat_env.parts, 'link0_15', 'link0_19')\n",
    "# v2 = getVector2Joint(bvh_pos, 'LeftUpLeg', 'LeftLeg', idx)\n",
    "\n",
    "# r = rotFrom2Vec(v1, v2)\n",
    "# rE = r.as_euler('xyz')\n",
    "# print(rE)\n",
    "\n",
    "# jx = env.flat_env.jdict['left_hip_x'].get_position()\n",
    "# jy = env.flat_env.jdict['left_hip_y'].get_position()\n",
    "# jz = env.flat_env.jdict['left_hip_z'].get_position()\n",
    "\n",
    "# env.flat_env.jdict['left_hip_x'].set_state(jx - rE[0], 0)\n",
    "# env.flat_env.jdict['left_hip_y'].set_state(jy + rE[1], 0)\n",
    "# env.flat_env.jdict['left_hip_z'].set_state(jz - rE[2], 0)\n",
    "\n",
    "# v11 = env.flat_env.parts['link0_15'].get_position()\n",
    "# v12 = env.flat_env.parts['link0_19'].get_position()\n",
    "\n",
    "# v21 = getJointPos(bvh_pos, 'LeftUpLeg', idx)\n",
    "# v22 = getJointPos(bvh_pos, 'LeftLeg', idx)\n",
    "\n",
    "# drawLine([-3, 0, 0], v11, [1, 1, 1])\n",
    "# drawLine([-3, 0, 0], v12, [0, 0, 1])\n",
    "# drawLine(v21, v21 + (v12- v11), [1, 1, 1])\n",
    "\n",
    "# drawLine([-3, 0, 0], v21, [1, 0, 0])\n",
    "# drawLine([-3, 0, 0], v22, [0, 1, 0])\n",
    "# drawLine(v21, v22, [1, 1, 0])"
   ]
  },
  {
   "cell_type": "code",
   "execution_count": 20,
   "metadata": {},
   "outputs": [
    {
     "output_type": "execute_result",
     "data": {
      "text/plain": [
       "{'abdomen_z': <pybullet_envs.robot_bases.Joint at 0x7fe8a47007c0>,\n",
       " 'abdomen_y': <pybullet_envs.robot_bases.Joint at 0x7fe9cc1a64f0>,\n",
       " 'abdomen_x': <pybullet_envs.robot_bases.Joint at 0x7fe8a4700ee0>,\n",
       " 'right_hip_x': <pybullet_envs.robot_bases.Joint at 0x7fe8a49cd100>,\n",
       " 'right_hip_z': <pybullet_envs.robot_bases.Joint at 0x7fe8a49cd4c0>,\n",
       " 'right_hip_y': <pybullet_envs.robot_bases.Joint at 0x7fe8a49cd610>,\n",
       " 'right_knee': <pybullet_envs.robot_bases.Joint at 0x7fe8a49cd7f0>,\n",
       " 'right_ankle_y': <pybullet_envs.robot_bases.Joint at 0x7fe8a49cd4f0>,\n",
       " 'right_ankle_x': <pybullet_envs.robot_bases.Joint at 0x7fe8a49cd640>,\n",
       " 'left_hip_x': <pybullet_envs.robot_bases.Joint at 0x7fe8a49cd550>,\n",
       " 'left_hip_z': <pybullet_envs.robot_bases.Joint at 0x7fe8a49cdd90>,\n",
       " 'left_hip_y': <pybullet_envs.robot_bases.Joint at 0x7fe8a49cdca0>,\n",
       " 'left_knee': <pybullet_envs.robot_bases.Joint at 0x7fe8a49cd8e0>,\n",
       " 'left_ankle_y': <pybullet_envs.robot_bases.Joint at 0x7fe8a49cdac0>,\n",
       " 'left_ankle_x': <pybullet_envs.robot_bases.Joint at 0x7fe8a49cdb20>,\n",
       " 'right_shoulder_y': <pybullet_envs.robot_bases.Joint at 0x7fe8a49cdf40>,\n",
       " 'right_shoulder_x': <pybullet_envs.robot_bases.Joint at 0x7fe8a49cd880>,\n",
       " 'right_elbow': <pybullet_envs.robot_bases.Joint at 0x7fe8a49cde80>,\n",
       " 'left_shoulder_y': <pybullet_envs.robot_bases.Joint at 0x7fe8a4a02ca0>,\n",
       " 'left_shoulder_x': <pybullet_envs.robot_bases.Joint at 0x7fe8a4a029d0>,\n",
       " 'left_elbow': <pybullet_envs.robot_bases.Joint at 0x7fe8a4a02f70>}"
      ]
     },
     "metadata": {},
     "execution_count": 20
    }
   ],
   "source": [
    "env.flat_env.jdict"
   ]
  },
  {
   "cell_type": "code",
   "execution_count": 84,
   "metadata": {},
   "outputs": [
    {
     "output_type": "execute_result",
     "data": {
      "text/plain": [
       "0.3117691453623979"
      ]
     },
     "metadata": {},
     "execution_count": 84
    }
   ],
   "source": [
    "np.linalg.norm([.18, .18, .18])"
   ]
  },
  {
   "cell_type": "code",
   "execution_count": 21,
   "metadata": {},
   "outputs": [],
   "source": [
    "def getRot(parts, l1, l2, df, j1, j2, frame):\n",
    "    v1 = getVector2Parts(parts, l1, l2)\n",
    "    v2 = getVector2Joint(df, j1, j2, frame)\n",
    "    return rotFrom2Vec(v1, v2).as_euler('xyz')\n",
    "\n",
    "def moveJoint(l1, l2, j1, j2, frame, part_name, weight, index):\n",
    "    rot = getRot(env.flat_env.parts, l1, l2, bvh_pos, j1, j2, frame)\n",
    "    cur_pos = [env.flat_env.jdict[p].get_position() for p in part_name]\n",
    "    \n",
    "    pos = []\n",
    "    for i, idx in enumerate(index):\n",
    "        joint_pos = cur_pos[i] + rot[idx] * weight[i]\n",
    "        env.flat_env.jdict[part_name[i]].set_state(joint_pos, 0)\n",
    "        pos.append(joint_pos)\n",
    "    return pos\n",
    "\n",
    "# Link 7,8, 9 = right hip x, y, z\n",
    "# Link 11 = right knee\n",
    "# Link 13, 14 = right ankle x, y\n",
    "\n",
    "# Link 16, 17, 18 = left hip x, y, z\n",
    "# Link 20 = left knee\n",
    "# Link 22, 23 = left ankle x, y\n",
    "\n",
    "# Link 25, 26 = right shoulder y, x\n",
    "# Link 28 = right elbow\n",
    "\n",
    "# Link 31, 32 = left shoulder y, x\n",
    "# Link 34 = left elbow\n",
    "def setJoint(frame):\n",
    "    rightHipX, rightHipY, rightHipZ = moveJoint('link0_7', 'link0_11', 'RightUpLeg', 'RightLeg', frame, ['right_hip_x', 'right_hip_y', 'right_hip_z'], [1, 1, 1], [0, 1, 2])\n",
    "    rightKnee = moveJoint('link0_11', 'right_foot', 'RightLeg', 'RightFoot', frame, ['right_knee'], [-1], [1])[0]\n",
    "\n",
    "    leftHipX, leftHipY,leftHipZ = moveJoint('link0_16', 'link0_20', 'LeftUpLeg', 'LeftLeg', frame, ['left_hip_x', 'left_hip_y', 'left_hip_z'], [-1, 1, -1], [0, 1, 2])\n",
    "    leftKnee = moveJoint('link0_20', 'left_foot', 'LeftLeg', 'LeftFoot', frame, ['left_knee'], [-1], [1])[0]\n",
    "\n",
    "    rightShoulderX, rightShoulderY = moveJoint('link0_25', 'link0_28', 'RightArm', 'RightForeArm', frame, ['right_shoulder2', 'right_shoulder1'], [1, 1], [0, 1])\n",
    "    rightElbow = moveJoint('link0_28', 'right_hand', 'RightForeArm', 'RightHand', frame, ['right_elbow'], [1], [1])[0]\n",
    "\n",
    "    leftShoulderX, leftShoulderY = moveJoint('link0_31', 'link0_34', 'LeftArm', 'LeftForeArm', frame, ['left_shoulder2', 'left_shoulder1'], [-1, 1], [0, 1])\n",
    "    leftElbow = moveJoint('link0_34', 'left_hand', 'LeftForeArm', 'LeftHand', frame, ['left_elbow'], [1], [1])[0]\n",
    "\n",
    "    return [rightHipX, rightHipY, rightHipZ, rightKnee, leftHipX, leftHipY, leftHipZ, leftKnee] + [rightShoulderX, rightShoulderY, rightElbow, leftShoulderX, leftShoulderY, leftElbow]"
   ]
  },
  {
   "cell_type": "code",
   "execution_count": 26,
   "metadata": {},
   "outputs": [
    {
     "output_type": "execute_result",
     "data": {
      "text/plain": [
       "18"
      ]
     },
     "metadata": {},
     "execution_count": 26
    }
   ],
   "source": [
    "drawLine2Joint(bvh_pos, 'LowerBack', 'LeftUpLeg', i, [1, 0, 0])\n",
    "drawLine2Joint(bvh_pos, 'LeftUpLeg', 'LeftLeg', i, [1, 0, 0])\n",
    "drawLine2Joint(bvh_pos, 'LeftLeg', 'LeftFoot', i, [1, 0, 0])\n",
    "drawLine2Joint(bvh_pos, 'LeftFoot', 'LeftToeBase', i, [0, 0, 0])\n",
    "\n",
    "drawLine2Joint(bvh_pos, 'LowerBack', 'RightUpLeg', i, [0, 1, 0])\n",
    "drawLine2Joint(bvh_pos, 'RightUpLeg', 'RightLeg', i, [0, 1, 0])\n",
    "drawLine2Joint(bvh_pos, 'RightLeg', 'RightFoot', i, [0, 1, 0])\n",
    "drawLine2Joint(bvh_pos, 'RightFoot', 'RightToeBase', i, [0, 0, 0])\n",
    "\n",
    "drawLine2Joint(bvh_pos, 'Hips', 'RightShoulder', i, [1, 1,1 ])\n",
    "drawLine2Joint(bvh_pos, 'RightShoulder', 'RightArm', i, [1, 1,1 ])\n",
    "drawLine2Joint(bvh_pos, 'RightArm', 'RightForeArm', i, [1, 1,1 ])\n",
    "drawLine2Joint(bvh_pos, 'RightForeArm', 'RightHand', i, [1, 1,1 ])\n",
    "\n",
    "drawLine2Joint(bvh_pos, 'Hips', 'LeftShoulder', i, [0, 0, 0])\n",
    "drawLine2Joint(bvh_pos, 'LeftShoulder', 'LeftArm', i, [0, 0, 0])\n",
    "drawLine2Joint(bvh_pos, 'LeftArm', 'LeftForeArm', i, [0, 0, 0])\n",
    "drawLine2Joint(bvh_pos, 'LeftForeArm', 'LeftHand', i, [0, 0, 0])"
   ]
  },
  {
   "cell_type": "code",
   "execution_count": 58,
   "metadata": {},
   "outputs": [],
   "source": [
    "observation = env.resetFromFrame(startFrame=0, resetYaw=0, startFromRef=False)\n",
    "pybullet.removeAllUserDebugItems()\n",
    "drawAxis()\n",
    "target_pos = np.array([1, 0, 0])\n",
    "r = R.from_euler('z', np.arctan2(target_pos[1], target_pos[0]))\n",
    "env.flat_env.parts['torso'].reset_orientation(r.as_quat())\n",
    "env.flat_env.parts['torso'].reset_position([0, 1, 1.15])"
   ]
  },
  {
   "cell_type": "code",
   "execution_count": 28,
   "metadata": {},
   "outputs": [],
   "source": [
    "env.flat_env.jdict['right_shoulder_x'].reset_position(np.deg2rad(0), 0)\n",
    "env.flat_env.jdict['right_shoulder_y'].reset_position(np.deg2rad(0), 0)\n",
    "env.flat_env.jdict['right_elbow'].reset_position(np.deg2rad(0), 0)\n",
    "\n",
    "env.flat_env.jdict['left_shoulder_x'].reset_position(np.deg2rad(0), 0)\n",
    "env.flat_env.jdict['left_shoulder_y'].reset_position(np.deg2rad(0), 0)\n",
    "env.flat_env.jdict['left_elbow'].reset_position(np.deg2rad(0), 0)"
   ]
  },
  {
   "cell_type": "code",
   "execution_count": 67,
   "metadata": {},
   "outputs": [],
   "source": [
    "env.flat_env.jdict['left_hip_x'].reset_position(np.deg2rad(0), 0)\n",
    "env.flat_env.jdict['left_hip_y'].reset_position(np.deg2rad(0), 0)\n",
    "env.flat_env.jdict['left_hip_z'].reset_position(np.deg2rad(0), 0)\n",
    "\n",
    "env.flat_env.jdict['left_knee'].reset_position(np.deg2rad(0), 0)\n",
    "\n",
    "env.flat_env.jdict['left_ankle_x'].reset_position(np.deg2rad(0), 0)\n",
    "env.flat_env.jdict['left_ankle_y'].reset_position(np.deg2rad(-20), 0)\n",
    "\n",
    "env.flat_env.jdict['right_hip_x'].reset_position(np.deg2rad(0), 0)\n",
    "env.flat_env.jdict['right_hip_y'].reset_position(np.deg2rad(0), 0)\n",
    "env.flat_env.jdict['right_hip_z'].reset_position(np.deg2rad(0), 0)\n",
    "\n",
    "env.flat_env.jdict['right_knee'].reset_position(np.deg2rad(0), 0)\n",
    "\n",
    "env.flat_env.jdict['right_ankle_x'].reset_position(np.deg2rad(-10), 0)\n",
    "env.flat_env.jdict['right_ankle_y'].reset_position(np.deg2rad(-20), 0)"
   ]
  },
  {
   "cell_type": "code",
   "execution_count": 162,
   "metadata": {},
   "outputs": [
    {
     "output_type": "execute_result",
     "data": {
      "text/plain": [
       "0 days 00:00:00             -1.004860\n",
       "0 days 00:00:00.008333300   -0.968415\n",
       "0 days 00:00:00.016666600   -0.961939\n",
       "0 days 00:00:00.024999900   -0.944482\n",
       "0 days 00:00:00.033333200   -0.932186\n",
       "                               ...   \n",
       "0 days 00:00:01.033329200   -1.687926\n",
       "0 days 00:00:01.041662500   -1.729985\n",
       "0 days 00:00:01.049995800   -1.882531\n",
       "0 days 00:00:01.058329100   -1.776120\n",
       "0 days 00:00:01.066662400   -1.853478\n",
       "Name: RightUpLeg_Xposition, Length: 129, dtype: float64"
      ]
     },
     "metadata": {},
     "execution_count": 162
    }
   ],
   "source": [
    "bvh_pos['RightUpLeg_Xposition']"
   ]
  },
  {
   "cell_type": "code",
   "execution_count": 41,
   "metadata": {},
   "outputs": [],
   "source": [
    "env.close()"
   ]
  },
  {
   "cell_type": "code",
   "execution_count": 18,
   "metadata": {},
   "outputs": [],
   "source": [
    "env = LowLevelHumanoidEnv(reference_name=\"motion09_03\", customRobot=CustomHumanoidRobot())\n",
    "env.render()\n",
    "observation = env.resetFromFrame(startFromRef=False)\n",
    "target_pos = np.array([1, 0, 0])\n",
    "r = R.from_euler('z', np.arctan2(target_pos[1], target_pos[0]))\n",
    "env.flat_env.parts['torso'].reset_orientation(r.as_quat())\n",
    "pybullet.removeAllUserDebugItems()\n",
    "drawAxis()\n",
    "\n",
    "joint_data = []\n",
    "for i in range(1, 91):\n",
    "    joint_data.append(setJoint(i))\n",
    "    time.sleep(1.0/20)\n",
    "# env.close()"
   ]
  },
  {
   "cell_type": "code",
   "execution_count": 143,
   "metadata": {},
   "outputs": [],
   "source": [
    "joint_df = pd.DataFrame(joint_data, columns=['rightHipX', 'rightHipY', 'rightHipZ', 'rightKnee', 'leftHipX', 'leftHipY', 'leftHipZ', 'leftKnee', 'rightShoulderX', 'rightShoulderY', 'rightElbow', 'leftShoulderX', 'leftShoulderY', 'leftElbow'])"
   ]
  },
  {
   "cell_type": "code",
   "execution_count": 144,
   "metadata": {},
   "outputs": [
    {
     "output_type": "execute_result",
     "data": {
      "text/plain": [
       "     rightHipX  rightHipY  rightHipZ  rightKnee  leftHipX  leftHipY  leftHipZ  \\\n",
       "0     0.046257  -0.375044   0.077332  -0.817971 -0.030147 -0.380883 -0.018178   \n",
       "1     0.044828  -0.377821   0.076485  -0.840261 -0.058769 -0.376837 -0.031689   \n",
       "2     0.047112  -0.382826   0.077269  -0.849665 -0.059793 -0.381140 -0.032180   \n",
       "3     0.050092  -0.387496   0.078408  -0.857635 -0.061452 -0.387435 -0.032977   \n",
       "4     0.052537  -0.392605   0.079259  -0.865131 -0.062973 -0.393680 -0.033709   \n",
       "..         ...        ...        ...        ...       ...       ...       ...   \n",
       "215   0.016783  -0.630507  -0.017720  -1.355895 -0.088307 -0.604684 -0.108732   \n",
       "216   0.016620  -0.615055  -0.018391  -1.333185 -0.084677 -0.589146 -0.106871   \n",
       "217   0.016857  -0.601140  -0.018664  -1.310431 -0.082524 -0.575369 -0.106055   \n",
       "218   0.017920  -0.585286  -0.018328  -1.285548 -0.081100 -0.560575 -0.105853   \n",
       "219   0.018907  -0.568232  -0.018059  -1.258386 -0.079405 -0.545294 -0.105480   \n",
       "\n",
       "     leftKnee  rightShoulderX  rightShoulderY  rightElbow  leftShoulderX  \\\n",
       "0   -0.778798       -0.214147        0.700747   -0.483390      -0.248510   \n",
       "1   -0.778909       -0.195634        0.720963   -0.499220      -0.196411   \n",
       "2   -0.784659       -0.189362        0.735669   -0.496448      -0.182863   \n",
       "3   -0.792996       -0.187026        0.750574   -0.493342      -0.181321   \n",
       "4   -0.800993       -0.185241        0.762538   -0.487135      -0.182781   \n",
       "..        ...             ...             ...         ...            ...   \n",
       "215 -1.292277       -0.152780        0.143170   -0.375359      -0.094878   \n",
       "216 -1.268116       -0.152682        0.142000   -0.374653      -0.092330   \n",
       "217 -1.244845       -0.153079        0.140854   -0.372880      -0.090195   \n",
       "218 -1.221340       -0.153298        0.140149   -0.370785      -0.088970   \n",
       "219 -1.197051       -0.153856        0.141106   -0.371901      -0.088026   \n",
       "\n",
       "     leftShoulderY  leftElbow  \n",
       "0         0.685836  -0.499785  \n",
       "1         0.717440  -0.527913  \n",
       "2         0.729717  -0.525252  \n",
       "3         0.742600  -0.522706  \n",
       "4         0.754059  -0.518136  \n",
       "..             ...        ...  \n",
       "215       0.239743  -0.352637  \n",
       "216       0.237688  -0.349631  \n",
       "217       0.235553  -0.346116  \n",
       "218       0.233551  -0.341908  \n",
       "219       0.231633  -0.336931  \n",
       "\n",
       "[220 rows x 14 columns]"
      ],
      "text/html": "<div>\n<style scoped>\n    .dataframe tbody tr th:only-of-type {\n        vertical-align: middle;\n    }\n\n    .dataframe tbody tr th {\n        vertical-align: top;\n    }\n\n    .dataframe thead th {\n        text-align: right;\n    }\n</style>\n<table border=\"1\" class=\"dataframe\">\n  <thead>\n    <tr style=\"text-align: right;\">\n      <th></th>\n      <th>rightHipX</th>\n      <th>rightHipY</th>\n      <th>rightHipZ</th>\n      <th>rightKnee</th>\n      <th>leftHipX</th>\n      <th>leftHipY</th>\n      <th>leftHipZ</th>\n      <th>leftKnee</th>\n      <th>rightShoulderX</th>\n      <th>rightShoulderY</th>\n      <th>rightElbow</th>\n      <th>leftShoulderX</th>\n      <th>leftShoulderY</th>\n      <th>leftElbow</th>\n    </tr>\n  </thead>\n  <tbody>\n    <tr>\n      <th>0</th>\n      <td>0.046257</td>\n      <td>-0.375044</td>\n      <td>0.077332</td>\n      <td>-0.817971</td>\n      <td>-0.030147</td>\n      <td>-0.380883</td>\n      <td>-0.018178</td>\n      <td>-0.778798</td>\n      <td>-0.214147</td>\n      <td>0.700747</td>\n      <td>-0.483390</td>\n      <td>-0.248510</td>\n      <td>0.685836</td>\n      <td>-0.499785</td>\n    </tr>\n    <tr>\n      <th>1</th>\n      <td>0.044828</td>\n      <td>-0.377821</td>\n      <td>0.076485</td>\n      <td>-0.840261</td>\n      <td>-0.058769</td>\n      <td>-0.376837</td>\n      <td>-0.031689</td>\n      <td>-0.778909</td>\n      <td>-0.195634</td>\n      <td>0.720963</td>\n      <td>-0.499220</td>\n      <td>-0.196411</td>\n      <td>0.717440</td>\n      <td>-0.527913</td>\n    </tr>\n    <tr>\n      <th>2</th>\n      <td>0.047112</td>\n      <td>-0.382826</td>\n      <td>0.077269</td>\n      <td>-0.849665</td>\n      <td>-0.059793</td>\n      <td>-0.381140</td>\n      <td>-0.032180</td>\n      <td>-0.784659</td>\n      <td>-0.189362</td>\n      <td>0.735669</td>\n      <td>-0.496448</td>\n      <td>-0.182863</td>\n      <td>0.729717</td>\n      <td>-0.525252</td>\n    </tr>\n    <tr>\n      <th>3</th>\n      <td>0.050092</td>\n      <td>-0.387496</td>\n      <td>0.078408</td>\n      <td>-0.857635</td>\n      <td>-0.061452</td>\n      <td>-0.387435</td>\n      <td>-0.032977</td>\n      <td>-0.792996</td>\n      <td>-0.187026</td>\n      <td>0.750574</td>\n      <td>-0.493342</td>\n      <td>-0.181321</td>\n      <td>0.742600</td>\n      <td>-0.522706</td>\n    </tr>\n    <tr>\n      <th>4</th>\n      <td>0.052537</td>\n      <td>-0.392605</td>\n      <td>0.079259</td>\n      <td>-0.865131</td>\n      <td>-0.062973</td>\n      <td>-0.393680</td>\n      <td>-0.033709</td>\n      <td>-0.800993</td>\n      <td>-0.185241</td>\n      <td>0.762538</td>\n      <td>-0.487135</td>\n      <td>-0.182781</td>\n      <td>0.754059</td>\n      <td>-0.518136</td>\n    </tr>\n    <tr>\n      <th>...</th>\n      <td>...</td>\n      <td>...</td>\n      <td>...</td>\n      <td>...</td>\n      <td>...</td>\n      <td>...</td>\n      <td>...</td>\n      <td>...</td>\n      <td>...</td>\n      <td>...</td>\n      <td>...</td>\n      <td>...</td>\n      <td>...</td>\n      <td>...</td>\n    </tr>\n    <tr>\n      <th>215</th>\n      <td>0.016783</td>\n      <td>-0.630507</td>\n      <td>-0.017720</td>\n      <td>-1.355895</td>\n      <td>-0.088307</td>\n      <td>-0.604684</td>\n      <td>-0.108732</td>\n      <td>-1.292277</td>\n      <td>-0.152780</td>\n      <td>0.143170</td>\n      <td>-0.375359</td>\n      <td>-0.094878</td>\n      <td>0.239743</td>\n      <td>-0.352637</td>\n    </tr>\n    <tr>\n      <th>216</th>\n      <td>0.016620</td>\n      <td>-0.615055</td>\n      <td>-0.018391</td>\n      <td>-1.333185</td>\n      <td>-0.084677</td>\n      <td>-0.589146</td>\n      <td>-0.106871</td>\n      <td>-1.268116</td>\n      <td>-0.152682</td>\n      <td>0.142000</td>\n      <td>-0.374653</td>\n      <td>-0.092330</td>\n      <td>0.237688</td>\n      <td>-0.349631</td>\n    </tr>\n    <tr>\n      <th>217</th>\n      <td>0.016857</td>\n      <td>-0.601140</td>\n      <td>-0.018664</td>\n      <td>-1.310431</td>\n      <td>-0.082524</td>\n      <td>-0.575369</td>\n      <td>-0.106055</td>\n      <td>-1.244845</td>\n      <td>-0.153079</td>\n      <td>0.140854</td>\n      <td>-0.372880</td>\n      <td>-0.090195</td>\n      <td>0.235553</td>\n      <td>-0.346116</td>\n    </tr>\n    <tr>\n      <th>218</th>\n      <td>0.017920</td>\n      <td>-0.585286</td>\n      <td>-0.018328</td>\n      <td>-1.285548</td>\n      <td>-0.081100</td>\n      <td>-0.560575</td>\n      <td>-0.105853</td>\n      <td>-1.221340</td>\n      <td>-0.153298</td>\n      <td>0.140149</td>\n      <td>-0.370785</td>\n      <td>-0.088970</td>\n      <td>0.233551</td>\n      <td>-0.341908</td>\n    </tr>\n    <tr>\n      <th>219</th>\n      <td>0.018907</td>\n      <td>-0.568232</td>\n      <td>-0.018059</td>\n      <td>-1.258386</td>\n      <td>-0.079405</td>\n      <td>-0.545294</td>\n      <td>-0.105480</td>\n      <td>-1.197051</td>\n      <td>-0.153856</td>\n      <td>0.141106</td>\n      <td>-0.371901</td>\n      <td>-0.088026</td>\n      <td>0.231633</td>\n      <td>-0.336931</td>\n    </tr>\n  </tbody>\n</table>\n<p>220 rows × 14 columns</p>\n</div>"
     },
     "metadata": {},
     "execution_count": 144
    }
   ],
   "source": [
    "joint_df"
   ]
  },
  {
   "cell_type": "code",
   "execution_count": 117,
   "metadata": {},
   "outputs": [],
   "source": [
    "joint_df.to_csv('Joints CSV/walk8_1JointPos.csv', index=False)"
   ]
  },
  {
   "cell_type": "code",
   "execution_count": 31,
   "metadata": {},
   "outputs": [
    {
     "output_type": "execute_result",
     "data": {
      "text/plain": [
       "{'link0_2': <pybullet_envs.robot_bases.BodyPart at 0x7fe9cc1a6550>,\n",
       " 'torso': <pybullet_envs.robot_bases.BodyPart at 0x7fe9cc1a6220>,\n",
       " 'link0_3': <pybullet_envs.robot_bases.BodyPart at 0x7fe9cd24d550>,\n",
       " 'lwaist': <pybullet_envs.robot_bases.BodyPart at 0x7fe8a4700fd0>,\n",
       " 'link0_5': <pybullet_envs.robot_bases.BodyPart at 0x7fe8a4700f10>,\n",
       " 'pelvis': <pybullet_envs.robot_bases.BodyPart at 0x7fe8a4700430>,\n",
       " 'link0_7': <pybullet_envs.robot_bases.BodyPart at 0x7fe8a49cd730>,\n",
       " 'link0_8': <pybullet_envs.robot_bases.BodyPart at 0x7fe8a4700940>,\n",
       " 'link0_9': <pybullet_envs.robot_bases.BodyPart at 0x7fe8a49cd520>,\n",
       " 'right_thigh': <pybullet_envs.robot_bases.BodyPart at 0x7fe8a49cd280>,\n",
       " 'link0_11': <pybullet_envs.robot_bases.BodyPart at 0x7fe8a49cd190>,\n",
       " 'right_shin': <pybullet_envs.robot_bases.BodyPart at 0x7fe8a49cd1f0>,\n",
       " 'link0_13': <pybullet_envs.robot_bases.BodyPart at 0x7fe8a49cd0a0>,\n",
       " 'link0_14': <pybullet_envs.robot_bases.BodyPart at 0x7fe8a49cd790>,\n",
       " 'right_foot': <pybullet_envs.robot_bases.BodyPart at 0x7fe8a49cd0d0>,\n",
       " 'link0_16': <pybullet_envs.robot_bases.BodyPart at 0x7fe8a49cd760>,\n",
       " 'link0_17': <pybullet_envs.robot_bases.BodyPart at 0x7fe8a49cd400>,\n",
       " 'link0_18': <pybullet_envs.robot_bases.BodyPart at 0x7fe8a49cdaf0>,\n",
       " 'left_thigh': <pybullet_envs.robot_bases.BodyPart at 0x7fe8a49cdd30>,\n",
       " 'link0_20': <pybullet_envs.robot_bases.BodyPart at 0x7fe8a49cd970>,\n",
       " 'left_shin': <pybullet_envs.robot_bases.BodyPart at 0x7fe8a49cd910>,\n",
       " 'link0_22': <pybullet_envs.robot_bases.BodyPart at 0x7fe8a49cdd60>,\n",
       " 'link0_23': <pybullet_envs.robot_bases.BodyPart at 0x7fe8a49cda90>,\n",
       " 'left_foot': <pybullet_envs.robot_bases.BodyPart at 0x7fe8a49cdfa0>,\n",
       " 'link0_25': <pybullet_envs.robot_bases.BodyPart at 0x7fe8a49cddc0>,\n",
       " 'link0_26': <pybullet_envs.robot_bases.BodyPart at 0x7fe8a49cdfd0>,\n",
       " 'right_upper_arm': <pybullet_envs.robot_bases.BodyPart at 0x7fe8a49cdbe0>,\n",
       " 'link0_28': <pybullet_envs.robot_bases.BodyPart at 0x7fe8a49cde50>,\n",
       " 'right_lower_arm': <pybullet_envs.robot_bases.BodyPart at 0x7fe8a49cdee0>,\n",
       " 'right_hand': <pybullet_envs.robot_bases.BodyPart at 0x7fe8a4a02af0>,\n",
       " 'link0_31': <pybullet_envs.robot_bases.BodyPart at 0x7fe8a4a02d60>,\n",
       " 'link0_32': <pybullet_envs.robot_bases.BodyPart at 0x7fe8a4a02bb0>,\n",
       " 'left_upper_arm': <pybullet_envs.robot_bases.BodyPart at 0x7fe8a4a02fa0>,\n",
       " 'link0_34': <pybullet_envs.robot_bases.BodyPart at 0x7fe8a4a02a90>,\n",
       " 'left_lower_arm': <pybullet_envs.robot_bases.BodyPart at 0x7fe8a4a02c40>,\n",
       " 'left_hand': <pybullet_envs.robot_bases.BodyPart at 0x7fe8a496f100>,\n",
       " 'floor': <pybullet_envs.robot_bases.BodyPart at 0x7fe8a4af97f0>}"
      ]
     },
     "metadata": {},
     "execution_count": 31
    }
   ],
   "source": [
    "env.flat_env.parts"
   ]
  },
  {
   "cell_type": "code",
   "execution_count": 40,
   "metadata": {},
   "outputs": [
    {
     "output_type": "execute_result",
     "data": {
      "text/plain": [
       "0"
      ]
     },
     "metadata": {},
     "execution_count": 40
    }
   ],
   "source": [
    "pybullet.removeAllUserDebugItems()\n",
    "# draw2('link0_7', [1, 0, 0]) # Kanan hip\n",
    "# draw2('link0_11', [1, 0, 0]) # Kanan lutut\n",
    "# draw2('right_foot', [1, 0, 0]) # Kanan telapak\n",
    "# draw2('link0_14', [0, 1, 0]) # Kiri atas\n",
    "# draw2('link0_18', [0, 1, 0]) # Kiri lutut\n",
    "# draw2('left_foot', [0, 1, 0]) # Kiri telapak\n",
    "\n",
    "# draw2('link0_13', [1, 0, 0]) # Kanan ankle\n",
    "# draw2('link0_25', [0, 1, 0]) # Kanan ankle\n",
    "\n",
    "# draw2('left_hand', [1, 1, 1]) # Telapak tangan kiri\n",
    "# draw2('link0_30', [1, 1, 1]) # Siku Kiri\n",
    "# draw2('link0_27', [1, 1, 1]) # Pundak kiri\n",
    "# draw2('right_hand', [0, 0, 0]) # Telapak tangan kanan\n",
    "# draw2('link0_24', [0, 0, 0]) # Siku kanan\n",
    "# draw2('link0_21', [0, 0, 0]) # Pundak kanan\n",
    "\n",
    "# Link 7,8, 9 = right hip x, y, z\n",
    "# Link 11 = right knee\n",
    "# Link 13, 14 = right ankle x, y\n",
    "\n",
    "# Link 16, 17, 18 = left hip x, y, z\n",
    "# Link 20 = left knee\n",
    "# Link 22, 23 = left ankle x, y\n",
    "\n",
    "# Link 25, 26 = right shoulder y, x\n",
    "# Link 28 = right elbow\n",
    "\n",
    "# Link 31, 32 = left shoulder y, x\n",
    "# Link 34 = left elbow\n",
    "draw2('link0_14', [1, 1, 1])"
   ]
  },
  {
   "cell_type": "code",
   "execution_count": 138,
   "metadata": {},
   "outputs": [
    {
     "output_type": "stream",
     "name": "stdout",
     "text": [
      "[-0.18944999798197992, 1.0394105764832144]\n-1.41042067781802\n[-0.14738645053161248, 1.0931221036923697]\n-1.3549473071365925\n"
     ]
    }
   ],
   "source": [
    "print(moveJoint('link0_21', 'link0_24', 'RightArm', 'RightForeArm', 150, ['right_shoulder2', 'right_shoulder1'], [1, 1], [0, 1]))\n",
    "\n",
    "print(moveJoint('link0_24', 'right_hand', 'RightForeArm', 'RightHand', 1, ['right_elbow'], [1], [1])[0])\n",
    "\n",
    "print(moveJoint('link0_27', 'link0_30', 'LeftArm', 'LeftForeArm', 150, ['left_shoulder2', 'left_shoulder1'], [-1, 1], [0, 1]))\n",
    "\n",
    "print(moveJoint('link0_30', 'left_hand', 'LeftForeArm', 'LeftHand', 1, ['left_elbow'], [1], [1])[0])"
   ]
  },
  {
   "cell_type": "code",
   "execution_count": 99,
   "metadata": {},
   "outputs": [],
   "source": [
    "env.flat_env.jdict['right_shoulder1'].reset_position(np.deg2rad(0), 0)\n",
    "env.flat_env.jdict['right_shoulder2'].reset_position(np.deg2rad(0), 0)\n",
    "env.flat_env.jdict['right_elbow'].reset_position(np.deg2rad(0), 0)\n",
    "\n",
    "env.flat_env.jdict['left_shoulder1'].reset_position(np.deg2rad(0), 0)\n",
    "env.flat_env.jdict['left_shoulder2'].reset_position(np.deg2rad(0), 0)\n",
    "env.flat_env.jdict['left_elbow'].reset_position(np.deg2rad(0), 0)"
   ]
  },
  {
   "cell_type": "code",
   "execution_count": 62,
   "metadata": {},
   "outputs": [],
   "source": [
    "pybullet.removeAllUserDebugItems()"
   ]
  },
  {
   "cell_type": "code",
   "execution_count": 74,
   "metadata": {},
   "outputs": [],
   "source": [
    "env.flat_env.parts['torso'].reset_position([5, 5, 0])"
   ]
  },
  {
   "cell_type": "code",
   "execution_count": 59,
   "metadata": {},
   "outputs": [
    {
     "output_type": "execute_result",
     "data": {
      "text/plain": [
       "8"
      ]
     },
     "metadata": {},
     "execution_count": 59
    }
   ],
   "source": [
    "drawLine2Parts(env.flat_env, 'pelvis', 'left_thigh', [1, 1, 1])\n",
    "drawLine2Parts(env.flat_env, 'left_thigh', 'left_shin', [1, 1, 1])\n",
    "drawLine2Parts(env.flat_env, 'left_shin', 'left_foot', [1, 1, 1])\n",
    "\n",
    "drawLine2Parts(env.flat_env, 'pelvis', 'right_thigh', [0, 0, 1])\n",
    "drawLine2Parts(env.flat_env, 'right_thigh', 'right_shin', [0, 0, 1])\n",
    "drawLine2Parts(env.flat_env, 'right_shin', 'right_foot', [0, 0, 1])"
   ]
  },
  {
   "cell_type": "code",
   "execution_count": 98,
   "metadata": {},
   "outputs": [
    {
     "output_type": "stream",
     "name": "stdout",
     "text": [
      "[ 0.          0.          1.17        0.          0.         -0.38268343\n  0.92387953]\n"
     ]
    }
   ],
   "source": [
    "startPose = env.flat_env.parts['torso'].get_pose()\n",
    "print(startPose)"
   ]
  },
  {
   "cell_type": "code",
   "execution_count": 100,
   "metadata": {},
   "outputs": [],
   "source": [
    "env.flat_env.parts['torso'].reset_pose([0, 0, 5], env.flat_env.parts['torso'].get_orientation())"
   ]
  },
  {
   "cell_type": "code",
   "execution_count": 104,
   "metadata": {},
   "outputs": [
    {
     "output_type": "stream",
     "name": "stdout",
     "text": [
      "Hips_Xposition\nHips_Yposition\nHips_Zposition\nLowerBack_Xposition\nLowerBack_Yposition\nLowerBack_Zposition\nSpine_Xposition\nSpine_Yposition\nSpine_Zposition\nSpine1_Xposition\nSpine1_Yposition\nSpine1_Zposition\nRightShoulder_Xposition\nRightShoulder_Yposition\nRightShoulder_Zposition\nRightArm_Xposition\nRightArm_Yposition\nRightArm_Zposition\nRightForeArm_Xposition\nRightForeArm_Yposition\nRightForeArm_Zposition\nRightHand_Xposition\nRightHand_Yposition\nRightHand_Zposition\nRThumb_Xposition\nRThumb_Yposition\nRThumb_Zposition\nRThumb_Nub_Xposition\nRThumb_Nub_Yposition\nRThumb_Nub_Zposition\nRightFingerBase_Xposition\nRightFingerBase_Yposition\nRightFingerBase_Zposition\nRightHandIndex1_Xposition\nRightHandIndex1_Yposition\nRightHandIndex1_Zposition\nRightHandIndex1_Nub_Xposition\nRightHandIndex1_Nub_Yposition\nRightHandIndex1_Nub_Zposition\nLeftShoulder_Xposition\nLeftShoulder_Yposition\nLeftShoulder_Zposition\nLeftArm_Xposition\nLeftArm_Yposition\nLeftArm_Zposition\nLeftForeArm_Xposition\nLeftForeArm_Yposition\nLeftForeArm_Zposition\nLeftHand_Xposition\nLeftHand_Yposition\nLeftHand_Zposition\nLThumb_Xposition\nLThumb_Yposition\nLThumb_Zposition\nLThumb_Nub_Xposition\nLThumb_Nub_Yposition\nLThumb_Nub_Zposition\nLeftFingerBase_Xposition\nLeftFingerBase_Yposition\nLeftFingerBase_Zposition\nLeftHandIndex1_Xposition\nLeftHandIndex1_Yposition\nLeftHandIndex1_Zposition\nLeftHandIndex1_Nub_Xposition\nLeftHandIndex1_Nub_Yposition\nLeftHandIndex1_Nub_Zposition\nNeck_Xposition\nNeck_Yposition\nNeck_Zposition\nNeck1_Xposition\nNeck1_Yposition\nNeck1_Zposition\nHead_Xposition\nHead_Yposition\nHead_Zposition\nHead_Nub_Xposition\nHead_Nub_Yposition\nHead_Nub_Zposition\nRHipJoint_Xposition\nRHipJoint_Yposition\nRHipJoint_Zposition\nRightUpLeg_Xposition\nRightUpLeg_Yposition\nRightUpLeg_Zposition\nRightLeg_Xposition\nRightLeg_Yposition\nRightLeg_Zposition\nRightFoot_Xposition\nRightFoot_Yposition\nRightFoot_Zposition\nRightToeBase_Xposition\nRightToeBase_Yposition\nRightToeBase_Zposition\nRightToeBase_Nub_Xposition\nRightToeBase_Nub_Yposition\nRightToeBase_Nub_Zposition\nLHipJoint_Xposition\nLHipJoint_Yposition\nLHipJoint_Zposition\nLeftUpLeg_Xposition\nLeftUpLeg_Yposition\nLeftUpLeg_Zposition\nLeftLeg_Xposition\nLeftLeg_Yposition\nLeftLeg_Zposition\nLeftFoot_Xposition\nLeftFoot_Yposition\nLeftFoot_Zposition\nLeftToeBase_Xposition\nLeftToeBase_Yposition\nLeftToeBase_Zposition\nLeftToeBase_Nub_Xposition\nLeftToeBase_Nub_Yposition\nLeftToeBase_Nub_Zposition\n"
     ]
    }
   ],
   "source": [
    "for c in bvh_pos.columns:\n",
    "    print(c)"
   ]
  },
  {
   "cell_type": "code",
   "execution_count": 108,
   "metadata": {},
   "outputs": [
    {
     "output_type": "execute_result",
     "data": {
      "text/plain": [
       "0 days 00:00:00               9.4455\n",
       "0 days 00:00:00.008333300     9.4455\n",
       "0 days 00:00:00.016666600     9.4469\n",
       "0 days 00:00:00.024999900     9.4515\n",
       "0 days 00:00:00.033333200     9.4570\n",
       "                              ...   \n",
       "0 days 00:00:03.991650700    10.2581\n",
       "0 days 00:00:03.999984       10.2592\n",
       "0 days 00:00:04.008317300    10.2622\n",
       "0 days 00:00:04.016650600    10.2638\n",
       "0 days 00:00:04.024983900    10.2703\n",
       "Name: LowerBack_Xposition, Length: 484, dtype: float64"
      ]
     },
     "metadata": {},
     "execution_count": 108
    }
   ],
   "source": [
    "bvh_pos['LowerBack_Xposition']"
   ]
  },
  {
   "cell_type": "code",
   "execution_count": 109,
   "metadata": {},
   "outputs": [
    {
     "output_type": "execute_result",
     "data": {
      "text/plain": [
       "0 days 00:00:00               9.4455\n",
       "0 days 00:00:00.008333300     9.4455\n",
       "0 days 00:00:00.016666600     9.4469\n",
       "0 days 00:00:00.024999900     9.4515\n",
       "0 days 00:00:00.033333200     9.4570\n",
       "                              ...   \n",
       "0 days 00:00:03.991650700    10.2581\n",
       "0 days 00:00:03.999984       10.2592\n",
       "0 days 00:00:04.008317300    10.2622\n",
       "0 days 00:00:04.016650600    10.2638\n",
       "0 days 00:00:04.024983900    10.2703\n",
       "Name: Hips_Xposition, Length: 484, dtype: float64"
      ]
     },
     "metadata": {},
     "execution_count": 109
    }
   ],
   "source": [
    "bvh_pos['Hips_Xposition']"
   ]
  },
  {
   "cell_type": "code",
   "execution_count": 43,
   "metadata": {},
   "outputs": [],
   "source": [
    "pybullet.removeAllUserDebugItems()"
   ]
  },
  {
   "cell_type": "code",
   "execution_count": 102,
   "metadata": {},
   "outputs": [
    {
     "output_type": "execute_result",
     "data": {
      "text/plain": [
       "9"
      ]
     },
     "metadata": {},
     "execution_count": 102
    }
   ],
   "source": [
    "pybullet.removeAllUserDebugItems()\n",
    "i = 150\n",
    "# drawLine2Joint(bvh_pos, 'Hips', 'Spine', i, [0, 0, 1])\n",
    "# drawLine2Joint(bvh_pos, 'Spine', 'Spine1', i, [0, 1, 1])\n",
    "\n",
    "drawLine2Joint(bvh_pos, 'LowerBack', 'LeftUpLeg', i, [1, 0, 0])\n",
    "drawLine2Joint(bvh_pos, 'LeftUpLeg', 'LeftLeg', i, [1, 0, 0])\n",
    "drawLine2Joint(bvh_pos, 'LeftLeg', 'LeftFoot', i, [1, 0, 0])\n",
    "\n",
    "drawLine2Joint(bvh_pos, 'LowerBack', 'RightUpLeg', i, [0, 1, 0])\n",
    "drawLine2Joint(bvh_pos, 'RightUpLeg', 'RightLeg', i, [0, 1, 0])\n",
    "drawLine2Joint(bvh_pos, 'RightLeg', 'RightFoot', i, [0, 1, 0])\n",
    "\n",
    "# drawLine2Joint(bvh_pos, 'Hips', 'RightShoulder', i, [1, 1, 0])\n",
    "# drawLine2Joint(bvh_pos, 'RightShoulder', 'RightArm', i, [1, 1, 1])\n",
    "drawLine2Joint(bvh_pos, 'RightArm', 'RightForeArm', i, [1, 1, 1])\n",
    "drawLine2Joint(bvh_pos, 'RightForeArm', 'RightHand', i, [1, 1, 1])\n",
    "\n",
    "# drawLine2Joint(bvh_pos, 'Hips', 'LeftShoulder', i, [0, 0, 0])\n",
    "# drawLine2Joint(bvh_pos, 'LeftShoulder', 'LeftArm', i, [0, 0, 0])\n",
    "drawLine2Joint(bvh_pos, 'LeftArm', 'LeftForeArm', i, [0, 0, 0])\n",
    "drawLine2Joint(bvh_pos, 'LeftForeArm', 'LeftHand', i, [0, 0, 0])\n",
    "\n",
    "# drawLine2Joint(bvh_pos, 'LeftLeg', 'LeftForeArm', i, [1, 1,1 ])"
   ]
  },
  {
   "cell_type": "code",
   "execution_count": 31,
   "metadata": {},
   "outputs": [
    {
     "output_type": "stream",
     "name": "stdout",
     "text": [
      "0.27712812921102037\n0.31176914536239786\n0.29444863728670917\n"
     ]
    }
   ],
   "source": [
    "print(a)\n",
    "print(b)\n",
    "print(c)"
   ]
  },
  {
   "cell_type": "code",
   "execution_count": null,
   "metadata": {},
   "outputs": [],
   "source": []
  },
  {
   "cell_type": "code",
   "execution_count": null,
   "metadata": {},
   "outputs": [],
   "source": []
  },
  {
   "cell_type": "code",
   "execution_count": 49,
   "metadata": {},
   "outputs": [],
   "source": [
    "for i in range(100, 300):\n",
    "    drawLine2Joint(bvh_pos, 'LowerBack', 'LeftUpLeg', i, [1, 0, 0])\n",
    "    drawLine2Joint(bvh_pos, 'LeftUpLeg', 'LeftLeg', i, [1, 0, 0])\n",
    "    drawLine2Joint(bvh_pos, 'LeftLeg', 'LeftFoot', i, [1, 0, 0])\n",
    "    \n",
    "    drawLine2Joint(bvh_pos, 'LowerBack', 'RightUpLeg', i, [0, 1, 0])\n",
    "    drawLine2Joint(bvh_pos, 'RightUpLeg', 'RightLeg', i, [0, 1, 0])\n",
    "    drawLine2Joint(bvh_pos, 'RightLeg', 'RightFoot', i, [0, 1, 0])\n",
    "\n",
    "    drawLine2Joint(bvh_pos, 'Hips', 'RightShoulder', i, [1, 1, 1])\n",
    "    drawLine2Joint(bvh_pos, 'RightShoulder', 'RightArm', i, [1, 1, 1])\n",
    "    drawLine2Joint(bvh_pos, 'RightArm', 'RightForeArm', i, [1, 1, 1])\n",
    "    drawLine2Joint(bvh_pos, 'RightForeArm', 'RightHand', i, [1, 1, 1])\n",
    "\n",
    "    drawLine2Joint(bvh_pos, 'Hips', 'LeftShoulder', i, [0, 0, 0])\n",
    "    drawLine2Joint(bvh_pos, 'LeftShoulder', 'LeftArm', i, [0, 0, 0])\n",
    "    drawLine2Joint(bvh_pos, 'LeftArm', 'LeftForeArm', i, [0, 0, 0])\n",
    "    drawLine2Joint(bvh_pos, 'LeftForeArm', 'LeftHand', i, [0, 0, 0])\n",
    "\n",
    "    time.sleep(1.0/60)\n",
    "    pybullet.removeAllUserDebugItems()"
   ]
  },
  {
   "cell_type": "code",
   "execution_count": 109,
   "metadata": {},
   "outputs": [],
   "source": [
    "def setEnv(df):\n",
    "    env.flat_env.jdict['right_knee'].set_state(df['rightKnee'], 0)\n",
    "\n",
    "    env.flat_env.jdict['right_hip_x'].set_state(df['rightHipX'], 0)\n",
    "    env.flat_env.jdict['right_hip_y'].set_state(df['rightHipY'], 0)\n",
    "    env.flat_env.jdict['right_hip_z'].set_state(df['rightHipZ'], 0)\n",
    "    \n",
    "    env.flat_env.jdict['left_knee'].set_state(df['leftKnee'], 0)\n",
    "\n",
    "    env.flat_env.jdict['left_hip_x'].set_state(df['leftHipX'], 0)\n",
    "    env.flat_env.jdict['left_hip_y'].set_state(df['leftHipY'], 0)\n",
    "    env.flat_env.jdict['left_hip_z'].set_state(df['leftHipZ'], 0)\n",
    "\n",
    "setEnv(joint_df.iloc[0])"
   ]
  },
  {
   "cell_type": "code",
   "execution_count": 111,
   "metadata": {},
   "outputs": [],
   "source": [
    "setEnv(joint_df.iloc[80])"
   ]
  },
  {
   "cell_type": "code",
   "execution_count": 114,
   "metadata": {
    "ExecuteTime": {
     "start_time": "2021-02-21T11:34:38.024Z"
    }
   },
   "outputs": [],
   "source": [
    "for i in range(10):\n",
    "    observation = env.resetNonFrame()\n",
    "    idx = 0\n",
    "    while(idx < len(joint_df)):\n",
    "        # action = agent.compute_action(observation)\n",
    "        # observation, reward, done, info = env.step(action)\n",
    "        setEnv(joint_df.iloc[idx])\n",
    "        idx += 1\n",
    "        time.sleep(1.0/30)"
   ]
  },
  {
   "cell_type": "code",
   "execution_count": 115,
   "metadata": {},
   "outputs": [],
   "source": [
    "env.close()"
   ]
  }
 ],
 "metadata": {
  "kernelspec": {
   "display_name": "Python 3",
   "language": "python",
   "name": "python3"
  },
  "language_info": {
   "codemirror_mode": {
    "name": "ipython",
    "version": 3
   },
   "file_extension": ".py",
   "mimetype": "text/x-python",
   "name": "python",
   "nbconvert_exporter": "python",
   "pygments_lexer": "ipython3",
   "version": "3.8.3"
  },
  "varInspector": {
   "cols": {
    "lenName": 16,
    "lenType": 16,
    "lenVar": 40
   },
   "kernels_config": {
    "python": {
     "delete_cmd_postfix": "",
     "delete_cmd_prefix": "del ",
     "library": "var_list.py",
     "varRefreshCmd": "print(var_dic_list())"
    },
    "r": {
     "delete_cmd_postfix": ") ",
     "delete_cmd_prefix": "rm(",
     "library": "var_list.r",
     "varRefreshCmd": "cat(var_dic_list()) "
    }
   },
   "types_to_exclude": [
    "module",
    "function",
    "builtin_function_or_method",
    "instance",
    "_Feature"
   ],
   "window_display": false
  }
 },
 "nbformat": 4,
 "nbformat_minor": 4
}